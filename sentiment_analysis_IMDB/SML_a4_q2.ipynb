{
 "cells": [
  {
   "cell_type": "markdown",
   "id": "798891b3-7263-48e4-a819-a831c1a9d3fa",
   "metadata": {},
   "source": [
    "# Assignment 4 - Logistic Classifiers"
   ]
  },
  {
   "cell_type": "code",
   "execution_count": 2,
   "id": "02ee64a5-4ac5-4ee6-83dd-8e0aae0b1abe",
   "metadata": {},
   "outputs": [],
   "source": [
    "import turicreate as tc\n",
    "import re\n",
    "import matplotlib.pyplot as plt"
   ]
  },
  {
   "cell_type": "markdown",
   "id": "4e836d52-4035-4f32-ae1e-86e3de5d0264",
   "metadata": {},
   "source": [
    "## Question 2: "
   ]
  },
  {
   "cell_type": "markdown",
   "id": "da0fb89c-613f-4bb8-b980-b0ef52085e59",
   "metadata": {},
   "source": [
    "### a.) Imagine a movie production company wants to use a sentiment analysis model to identify positive/negative reviews of their movies. Which is worse for this use case, a false positive or a false negative, or are they equally bad? What value of ${\\beta}$ would be suitable for an $F_{\\beta}$ score?"
   ]
  },
  {
   "cell_type": "markdown",
   "id": "bdf2b917-75af-470a-98ee-c655ddf63fd8",
   "metadata": {},
   "source": [
    "Both false positives and false negatives can be bad.\n",
    "<br>**False positive**: the review is negative but the model identifies the review as having a positive sentiment. It is bad because the movie production company may falsely believe a movie is well-received and react on it. They may invest more money in marketing this movie and producing more similar but unpopular movies which will result in financial losses of the company.\n",
    "<br>**False negative**: the review is positive but the model identifies the review as having a negative sentiment. It is equally bad because the company may underestimate the value of the movie and miss the chance for marketing as well as for producing a similar kind of blockbuster to increase the revenue.\n",
    "<br>In a case that considers recall and precision equally, then ${\\beta}=1$."
   ]
  },
  {
   "cell_type": "markdown",
   "id": "5ec432e7-5f73-440d-b009-84ca59e98e75",
   "metadata": {},
   "source": [
    "### b.) Clean the data so that it is better suited for sentiment analysis, according to your ideas in problem 2h. Add a markdown cell to explain what you are doing. Choose one of two ways to prepare the data:"
   ]
  },
  {
   "cell_type": "markdown",
   "id": "7765850c-5d39-4540-be0b-62ec049fc801",
   "metadata": {},
   "source": [
    "### *Explanation:* \n",
    "For the cleaning process, we begin by placing the data into an Sframe. Using the file 'stop_words_english' to upload a list of all stop words that ideally would give a weight of 0 in the model. \n",
    "We define a function that will remove all the stop words and html script from a single review, this drastically reduces the total number of features the model is using. \n",
    "We can now define the new Sframe as the old one after the cleaning function removes the stop words for each review."
   ]
  },
  {
   "cell_type": "markdown",
   "id": "bf96f90b-74a4-48f1-9ef9-427462601d8c",
   "metadata": {},
   "source": [
    "**Steps:**\n",
    "\n",
    "1.The main function we use here is re.sub(), it will find and replace the matches with empty strings.\n",
    "\n",
    "2.To remove html tags: we use pattern '<.{1,4}>' to find all html tags and replace them with empty strings.\n",
    "\n",
    "3.To remove punctuation, we use the pattern '[^\\w^\\s\\n]' to find all non words, non white space and new line and replace them with a space.\n",
    "\n",
    "4.To remove numbers, we use the patter '\\d' to replace a match where the string contains digits (numbers from 0-9) with an empty string.\n",
    "\n",
    "5.Since Python treats upper case and lower case differently, we use lower() to change all upper cases to lower cases and we convert the word case before deleting unnecessary words so we don’t need to worry about the case differences.\n",
    "\n",
    "6.Words with only one or two characters usually don’t convey meaningful sentiments, so we use '\\\\b\\w{1,2}\\\\b' to replace a word (\\b word \\b) where there are only one or two characters (w{1,2}) with an empty string.\n",
    "\n",
    "7.We use for loop to loop through stop words to clean all stop words in the texts."
   ]
  },
  {
   "cell_type": "markdown",
   "id": "df281d5c-507f-4287-93f0-85980852e8e8",
   "metadata": {},
   "source": [
    "Load the original dataset into a dataframe and use the regex Python library to\n",
    "clean the text data."
   ]
  },
  {
   "cell_type": "code",
   "execution_count": 3,
   "id": "c0bd89f2-0bbc-46c9-bbe0-a43dfafc1137",
   "metadata": {},
   "outputs": [
    {
     "data": {
      "text/html": [
       "<pre>Finished parsing file /home/xwang111/SupervisedML/Assignment4/IMDB_Dataset.csv</pre>"
      ],
      "text/plain": [
       "Finished parsing file /home/xwang111/SupervisedML/Assignment4/IMDB_Dataset.csv"
      ]
     },
     "metadata": {},
     "output_type": "display_data"
    },
    {
     "data": {
      "text/html": [
       "<pre>Parsing completed. Parsed 100 lines in 0.48153 secs.</pre>"
      ],
      "text/plain": [
       "Parsing completed. Parsed 100 lines in 0.48153 secs."
      ]
     },
     "metadata": {},
     "output_type": "display_data"
    },
    {
     "name": "stdout",
     "output_type": "stream",
     "text": [
      "------------------------------------------------------\n",
      "Inferred types from first 100 line(s) of file as \n",
      "column_type_hints=[str,str]\n",
      "If parsing fails due to incorrect types, you can correct\n",
      "the inferred type list above and pass it to read_csv in\n",
      "the column_type_hints argument\n",
      "------------------------------------------------------\n"
     ]
    },
    {
     "data": {
      "text/html": [
       "<pre>Read 39624 lines. Lines per second: 51160.6</pre>"
      ],
      "text/plain": [
       "Read 39624 lines. Lines per second: 51160.6"
      ]
     },
     "metadata": {},
     "output_type": "display_data"
    },
    {
     "data": {
      "text/html": [
       "<pre>Finished parsing file /home/xwang111/SupervisedML/Assignment4/IMDB_Dataset.csv</pre>"
      ],
      "text/plain": [
       "Finished parsing file /home/xwang111/SupervisedML/Assignment4/IMDB_Dataset.csv"
      ]
     },
     "metadata": {},
     "output_type": "display_data"
    },
    {
     "data": {
      "text/html": [
       "<pre>Parsing completed. Parsed 50000 lines in 0.920811 secs.</pre>"
      ],
      "text/plain": [
       "Parsing completed. Parsed 50000 lines in 0.920811 secs."
      ]
     },
     "metadata": {},
     "output_type": "display_data"
    },
    {
     "data": {
      "text/html": [
       "<div style=\"max-height:1000px;max-width:1500px;overflow:auto;\"><table frame=\"box\" rules=\"cols\">\n",
       "    <tr>\n",
       "        <th style=\"padding-left: 1em; padding-right: 1em; text-align: center\">review</th>\n",
       "        <th style=\"padding-left: 1em; padding-right: 1em; text-align: center\">sentiment</th>\n",
       "    </tr>\n",
       "    <tr>\n",
       "        <td style=\"padding-left: 1em; padding-right: 1em; text-align: center; vertical-align: top\">One of the other<br>reviewers has mentioned ...</td>\n",
       "        <td style=\"padding-left: 1em; padding-right: 1em; text-align: center; vertical-align: top\">positive</td>\n",
       "    </tr>\n",
       "    <tr>\n",
       "        <td style=\"padding-left: 1em; padding-right: 1em; text-align: center; vertical-align: top\">A wonderful little<br>production. &lt;br /&gt;&lt;br ...</td>\n",
       "        <td style=\"padding-left: 1em; padding-right: 1em; text-align: center; vertical-align: top\">positive</td>\n",
       "    </tr>\n",
       "    <tr>\n",
       "        <td style=\"padding-left: 1em; padding-right: 1em; text-align: center; vertical-align: top\">I thought this was a<br>wonderful way to spend ...</td>\n",
       "        <td style=\"padding-left: 1em; padding-right: 1em; text-align: center; vertical-align: top\">positive</td>\n",
       "    </tr>\n",
       "    <tr>\n",
       "        <td style=\"padding-left: 1em; padding-right: 1em; text-align: center; vertical-align: top\">Basically there&#x27;s a<br>family where a little ...</td>\n",
       "        <td style=\"padding-left: 1em; padding-right: 1em; text-align: center; vertical-align: top\">negative</td>\n",
       "    </tr>\n",
       "    <tr>\n",
       "        <td style=\"padding-left: 1em; padding-right: 1em; text-align: center; vertical-align: top\">Petter Mattei&#x27;s &quot;Love in<br>the Time of Money&quot; is a ...</td>\n",
       "        <td style=\"padding-left: 1em; padding-right: 1em; text-align: center; vertical-align: top\">positive</td>\n",
       "    </tr>\n",
       "    <tr>\n",
       "        <td style=\"padding-left: 1em; padding-right: 1em; text-align: center; vertical-align: top\">Probably my all-time<br>favorite movie, a story ...</td>\n",
       "        <td style=\"padding-left: 1em; padding-right: 1em; text-align: center; vertical-align: top\">positive</td>\n",
       "    </tr>\n",
       "    <tr>\n",
       "        <td style=\"padding-left: 1em; padding-right: 1em; text-align: center; vertical-align: top\">I sure would like to see<br>a resurrection of a up ...</td>\n",
       "        <td style=\"padding-left: 1em; padding-right: 1em; text-align: center; vertical-align: top\">positive</td>\n",
       "    </tr>\n",
       "    <tr>\n",
       "        <td style=\"padding-left: 1em; padding-right: 1em; text-align: center; vertical-align: top\">This show was an amazing,<br>fresh &amp; innovative idea ...</td>\n",
       "        <td style=\"padding-left: 1em; padding-right: 1em; text-align: center; vertical-align: top\">negative</td>\n",
       "    </tr>\n",
       "    <tr>\n",
       "        <td style=\"padding-left: 1em; padding-right: 1em; text-align: center; vertical-align: top\">Encouraged by the<br>positive comments about ...</td>\n",
       "        <td style=\"padding-left: 1em; padding-right: 1em; text-align: center; vertical-align: top\">negative</td>\n",
       "    </tr>\n",
       "    <tr>\n",
       "        <td style=\"padding-left: 1em; padding-right: 1em; text-align: center; vertical-align: top\">If you like original gut<br>wrenching laughter you ...</td>\n",
       "        <td style=\"padding-left: 1em; padding-right: 1em; text-align: center; vertical-align: top\">positive</td>\n",
       "    </tr>\n",
       "</table>\n",
       "[50000 rows x 2 columns]<br/>Note: Only the head of the SFrame is printed.<br/>You can use print_rows(num_rows=m, num_columns=n) to print more rows and columns.\n",
       "</div>"
      ],
      "text/plain": [
       "Columns:\n",
       "\treview\tstr\n",
       "\tsentiment\tstr\n",
       "\n",
       "Rows: 50000\n",
       "\n",
       "Data:\n",
       "+-------------------------------+-----------+\n",
       "|             review            | sentiment |\n",
       "+-------------------------------+-----------+\n",
       "| One of the other reviewers... |  positive |\n",
       "| A wonderful little product... |  positive |\n",
       "| I thought this was a wonde... |  positive |\n",
       "| Basically there's a family... |  negative |\n",
       "| Petter Mattei's \"Love in t... |  positive |\n",
       "| Probably my all-time favor... |  positive |\n",
       "| I sure would like to see a... |  positive |\n",
       "| This show was an amazing, ... |  negative |\n",
       "| Encouraged by the positive... |  negative |\n",
       "| If you like original gut w... |  positive |\n",
       "+-------------------------------+-----------+\n",
       "[50000 rows x 2 columns]\n",
       "Note: Only the head of the SFrame is printed.\n",
       "You can use print_rows(num_rows=m, num_columns=n) to print more rows and columns."
      ]
     },
     "execution_count": 3,
     "metadata": {},
     "output_type": "execute_result"
    }
   ],
   "source": [
    "# calling the csv data into an SFrame called movies. \n",
    "movies = tc.SFrame('IMDB_Dataset.csv')\n",
    "movies"
   ]
  },
  {
   "cell_type": "code",
   "execution_count": 4,
   "id": "b39ca58e-d3d2-41b6-95a2-0f510a3b23b7",
   "metadata": {},
   "outputs": [
    {
     "data": {
      "text/html": [
       "<pre>Finished parsing file /home/xwang111/SupervisedML/Assignment4/stop_words_english.txt</pre>"
      ],
      "text/plain": [
       "Finished parsing file /home/xwang111/SupervisedML/Assignment4/stop_words_english.txt"
      ]
     },
     "metadata": {},
     "output_type": "display_data"
    },
    {
     "data": {
      "text/html": [
       "<pre>Parsing completed. Parsed 851 lines in 0.031889 secs.</pre>"
      ],
      "text/plain": [
       "Parsing completed. Parsed 851 lines in 0.031889 secs."
      ]
     },
     "metadata": {},
     "output_type": "display_data"
    },
    {
     "data": {
      "text/plain": [
       "dtype: str\n",
       "Rows: 851\n",
       "['able', 'about', 'above', 'abroad', 'according', 'accordingly', 'across', 'actually', 'adj', 'after', 'afterwards', 'again', 'against', 'ago', 'ahead', \"ain't\", 'all', 'allow', 'allows', 'almost', 'alone', 'along', 'alongside', 'already', 'also', 'although', 'always', 'am', 'amid', 'amidst', 'among', 'amongst', 'an', 'and', 'another', 'any', 'anybody', 'anyhow', 'anyone', 'anything', 'anyway', 'anyways', 'anywhere', 'apart', 'appear', 'appreciate', 'appropriate', 'are', \"aren't\", 'around', 'as', \"a's\", 'aside', 'ask', 'asking', 'associated', 'at', 'available', 'away', 'awfully', 'back', 'backward', 'backwards', 'be', 'became', 'because', 'become', 'becomes', 'becoming', 'been', 'before', 'beforehand', 'begin', 'behind', 'being', 'believe', 'below', 'beside', 'besides', 'best', 'better', 'between', 'beyond', 'both', 'brief', 'but', 'by', 'came', 'can', 'cannot', 'cant', \"can't\", 'caption', 'cause', 'causes', 'certain', 'certainly', 'changes', 'clearly', \"c'mon\", ... ]"
      ]
     },
     "execution_count": 4,
     "metadata": {},
     "output_type": "execute_result"
    }
   ],
   "source": [
    "# create a stopwords array\n",
    "stopwords = tc.SArray('stop_words_english.txt')\n",
    "stopwords"
   ]
  },
  {
   "cell_type": "code",
   "execution_count": 5,
   "id": "402f5eb1-b223-4063-8b5f-90d0dbe21ff6",
   "metadata": {},
   "outputs": [],
   "source": [
    "# This function cleans a single review.\n",
    "def clean_text(sample):\n",
    "    # remove html tags\n",
    "    sample = re.sub('<.{1,4}>', '', sample)\n",
    "    \n",
    "    # remove punctuation \n",
    "    sample = re.sub('[^\\w^\\s\\n]', ' ', sample)\n",
    "    \n",
    "    # remove numbers\n",
    "    sample = re.sub('\\d', '', sample)\n",
    "    \n",
    "    # make everything lowercase\n",
    "    sample = sample.lower()\n",
    "    \n",
    "    # remove words with one to two characters\n",
    "    sample = re.sub('\\\\b\\w{1,2}\\\\b', '', sample)\n",
    "    \n",
    "    #remove stopwords\n",
    "    for word in stopwords:\n",
    "        sample = re.sub('\\\\b' + word + '\\\\b', '', sample)\n",
    "        \n",
    "    #return clean text\n",
    "    return sample"
   ]
  },
  {
   "cell_type": "code",
   "execution_count": 6,
   "id": "4738177c-ceb6-4de1-a1d2-ba8cc4f7dd3f",
   "metadata": {},
   "outputs": [
    {
     "data": {
      "text/html": [
       "<pre>Using default 16 lambda workers.</pre>"
      ],
      "text/plain": [
       "Using default 16 lambda workers."
      ]
     },
     "metadata": {},
     "output_type": "display_data"
    },
    {
     "data": {
      "text/html": [
       "<pre>To maximize the degree of parallelism, add the following code to the beginning of the program:</pre>"
      ],
      "text/plain": [
       "To maximize the degree of parallelism, add the following code to the beginning of the program:"
      ]
     },
     "metadata": {},
     "output_type": "display_data"
    },
    {
     "data": {
      "text/html": [
       "<pre>\"turicreate.config.set_runtime_config('TURI_DEFAULT_NUM_PYLAMBDA_WORKERS', 24)\"</pre>"
      ],
      "text/plain": [
       "\"turicreate.config.set_runtime_config('TURI_DEFAULT_NUM_PYLAMBDA_WORKERS', 24)\""
      ]
     },
     "metadata": {},
     "output_type": "display_data"
    },
    {
     "data": {
      "text/html": [
       "<pre>Note that increasing the degree of parallelism also increases the memory footprint.</pre>"
      ],
      "text/plain": [
       "Note that increasing the degree of parallelism also increases the memory footprint."
      ]
     },
     "metadata": {},
     "output_type": "display_data"
    },
    {
     "data": {
      "text/plain": [
       "' movie  awful       bothered  write  review   garbage            boring films       acting   bad   boy  plays  main character  annoys        expression   face    movie      slap   basically     movie  slow motion shots  skateboarders  weird music   utter         write    lines  text  submit  comment          lines    lead character      faces     slap meh      movie sucks     '"
      ]
     },
     "execution_count": 6,
     "metadata": {},
     "output_type": "execute_result"
    }
   ],
   "source": [
    "# apply the clean_text() function to each row of the SFrame and add a 'cleaned' column to the data frame\n",
    "# note this is much faster than looping through row-by-row\n",
    "movies['cleaned'] = movies.apply(lambda x: clean_text(x['review']))\n",
    "# pick a row to check the cleaned text\n",
    "movies['cleaned'][1000]"
   ]
  },
  {
   "cell_type": "markdown",
   "id": "b96c8c50-8d66-4e51-ac56-2158efce67db",
   "metadata": {},
   "source": [
    "### c.) Load the cleaned data and labels into an SFrame. Add a column named ‘words’ to the SFrame that stores the count of each word used in each review. Print the SFrame."
   ]
  },
  {
   "cell_type": "code",
   "execution_count": 7,
   "id": "e7a7acce-f26f-4605-97c3-c8edcc3a9bfd",
   "metadata": {},
   "outputs": [
    {
     "data": {
      "text/html": [
       "<div style=\"max-height:1000px;max-width:1500px;overflow:auto;\"><table frame=\"box\" rules=\"cols\">\n",
       "    <tr>\n",
       "        <th style=\"padding-left: 1em; padding-right: 1em; text-align: center\">review</th>\n",
       "        <th style=\"padding-left: 1em; padding-right: 1em; text-align: center\">sentiment</th>\n",
       "        <th style=\"padding-left: 1em; padding-right: 1em; text-align: center\">cleaned</th>\n",
       "        <th style=\"padding-left: 1em; padding-right: 1em; text-align: center\">words</th>\n",
       "    </tr>\n",
       "    <tr>\n",
       "        <td style=\"padding-left: 1em; padding-right: 1em; text-align: center; vertical-align: top\">One of the other<br>reviewers has mentioned ...</td>\n",
       "        <td style=\"padding-left: 1em; padding-right: 1em; text-align: center; vertical-align: top\">positive</td>\n",
       "        <td style=\"padding-left: 1em; padding-right: 1em; text-align: center; vertical-align: top\">    reviewers  mentioned<br>watching    episode ...</td>\n",
       "        <td style=\"padding-left: 1em; padding-right: 1em; text-align: center; vertical-align: top\">{&#x27;darker&#x27;: 1.0, &#x27;touch&#x27;:<br>1.0, &#x27;viewing&#x27;: 1.0, ...</td>\n",
       "    </tr>\n",
       "    <tr>\n",
       "        <td style=\"padding-left: 1em; padding-right: 1em; text-align: center; vertical-align: top\">A wonderful little<br>production. &lt;br /&gt;&lt;br ...</td>\n",
       "        <td style=\"padding-left: 1em; padding-right: 1em; text-align: center; vertical-align: top\">positive</td>\n",
       "        <td style=\"padding-left: 1em; padding-right: 1em; text-align: center; vertical-align: top\"> wonderful  production<br>filming technique ...</td>\n",
       "        <td style=\"padding-left: 1em; padding-right: 1em; text-align: center; vertical-align: top\">{&#x27;terribly&#x27;: 1.0,<br>&#x27;surface&#x27;: 1.0, ...</td>\n",
       "    </tr>\n",
       "    <tr>\n",
       "        <td style=\"padding-left: 1em; padding-right: 1em; text-align: center; vertical-align: top\">I thought this was a<br>wonderful way to spend ...</td>\n",
       "        <td style=\"padding-left: 1em; padding-right: 1em; text-align: center; vertical-align: top\">positive</td>\n",
       "        <td style=\"padding-left: 1em; padding-right: 1em; text-align: center; vertical-align: top\"> thought    wonderful<br>spend time    hot summer ...</td>\n",
       "        <td style=\"padding-left: 1em; padding-right: 1em; text-align: center; vertical-align: top\">{&#x27;superman&#x27;: 1.0,<br>&#x27;interesting&#x27;: 1.0, ...</td>\n",
       "    </tr>\n",
       "    <tr>\n",
       "        <td style=\"padding-left: 1em; padding-right: 1em; text-align: center; vertical-align: top\">Basically there&#x27;s a<br>family where a little ...</td>\n",
       "        <td style=\"padding-left: 1em; padding-right: 1em; text-align: center; vertical-align: top\">negative</td>\n",
       "        <td style=\"padding-left: 1em; padding-right: 1em; text-align: center; vertical-align: top\">basically    family<br>boy  jake  thinks ...</td>\n",
       "        <td style=\"padding-left: 1em; padding-right: 1em; text-align: center; vertical-align: top\">{&#x27;dialogs&#x27;: 1.0,<br>&#x27;playing&#x27;: 1.0, &#x27;spots&#x27;: ...</td>\n",
       "    </tr>\n",
       "    <tr>\n",
       "        <td style=\"padding-left: 1em; padding-right: 1em; text-align: center; vertical-align: top\">Petter Mattei&#x27;s &quot;Love in<br>the Time of Money&quot; is a ...</td>\n",
       "        <td style=\"padding-left: 1em; padding-right: 1em; text-align: center; vertical-align: top\">positive</td>\n",
       "        <td style=\"padding-left: 1em; padding-right: 1em; text-align: center; vertical-align: top\">petter mattei   love<br>time  money    visually ...</td>\n",
       "        <td style=\"padding-left: 1em; padding-right: 1em; text-align: center; vertical-align: top\">{&#x27;luck&#x27;: 1.0, &#x27;alive&#x27;:<br>1.0, &#x27;rest&#x27;: 1.0, ...</td>\n",
       "    </tr>\n",
       "    <tr>\n",
       "        <td style=\"padding-left: 1em; padding-right: 1em; text-align: center; vertical-align: top\">Probably my all-time<br>favorite movie, a story ...</td>\n",
       "        <td style=\"padding-left: 1em; padding-right: 1em; text-align: center; vertical-align: top\">positive</td>\n",
       "        <td style=\"padding-left: 1em; padding-right: 1em; text-align: center; vertical-align: top\">   time favorite movie<br>story  selflessness ...</td>\n",
       "        <td style=\"padding-left: 1em; padding-right: 1em; text-align: center; vertical-align: top\">{&#x27;thumbs&#x27;: 1.0,<br>&#x27;startling&#x27;: 1.0, &#x27;ro ...</td>\n",
       "    </tr>\n",
       "    <tr>\n",
       "        <td style=\"padding-left: 1em; padding-right: 1em; text-align: center; vertical-align: top\">I sure would like to see<br>a resurrection of a up ...</td>\n",
       "        <td style=\"padding-left: 1em; padding-right: 1em; text-align: center; vertical-align: top\">positive</td>\n",
       "        <td style=\"padding-left: 1em; padding-right: 1em; text-align: center; vertical-align: top\">       resurrection<br>dated seahunt series ...</td>\n",
       "        <td style=\"padding-left: 1em; padding-right: 1em; text-align: center; vertical-align: top\">{&#x27;quit&#x27;: 1.0, &#x27;rhymes&#x27;:<br>1.0, &#x27;points&#x27;: 1.0, ...</td>\n",
       "    </tr>\n",
       "    <tr>\n",
       "        <td style=\"padding-left: 1em; padding-right: 1em; text-align: center; vertical-align: top\">This show was an amazing,<br>fresh &amp; innovative idea ...</td>\n",
       "        <td style=\"padding-left: 1em; padding-right: 1em; text-align: center; vertical-align: top\">negative</td>\n",
       "        <td style=\"padding-left: 1em; padding-right: 1em; text-align: center; vertical-align: top\">    amazing  fresh<br>innovative idea ...</td>\n",
       "        <td style=\"padding-left: 1em; padding-right: 1em; text-align: center; vertical-align: top\">{&#x27;awful&#x27;: 1.0,<br>&#x27;disgraceful&#x27;: 1.0, ...</td>\n",
       "    </tr>\n",
       "    <tr>\n",
       "        <td style=\"padding-left: 1em; padding-right: 1em; text-align: center; vertical-align: top\">Encouraged by the<br>positive comments about ...</td>\n",
       "        <td style=\"padding-left: 1em; padding-right: 1em; text-align: center; vertical-align: top\">negative</td>\n",
       "        <td style=\"padding-left: 1em; padding-right: 1em; text-align: center; vertical-align: top\">encouraged   positive<br>comments   film ...</td>\n",
       "        <td style=\"padding-left: 1em; padding-right: 1em; text-align: center; vertical-align: top\">{&#x27;effort&#x27;: 1.0, &#x27;keitel&#x27;:<br>2.0, &#x27;making&#x27;: 1.0, ...</td>\n",
       "    </tr>\n",
       "    <tr>\n",
       "        <td style=\"padding-left: 1em; padding-right: 1em; text-align: center; vertical-align: top\">If you like original gut<br>wrenching laughter you ...</td>\n",
       "        <td style=\"padding-left: 1em; padding-right: 1em; text-align: center; vertical-align: top\">positive</td>\n",
       "        <td style=\"padding-left: 1em; padding-right: 1em; text-align: center; vertical-align: top\">   original gut wrenching<br>laughter     movie ...</td>\n",
       "        <td style=\"padding-left: 1em; padding-right: 1em; text-align: center; vertical-align: top\">{&#x27;mom&#x27;: 1.0, &#x27;hell&#x27;: 1.0,<br>&#x27;love&#x27;: 1.0, &#x27;young&#x27;: ...</td>\n",
       "    </tr>\n",
       "</table>\n",
       "[50000 rows x 4 columns]<br/>Note: Only the head of the SFrame is printed.<br/>You can use print_rows(num_rows=m, num_columns=n) to print more rows and columns.\n",
       "</div>"
      ],
      "text/plain": [
       "Columns:\n",
       "\treview\tstr\n",
       "\tsentiment\tstr\n",
       "\tcleaned\tstr\n",
       "\twords\tdict\n",
       "\n",
       "Rows: 50000\n",
       "\n",
       "Data:\n",
       "+-------------------------------+-----------+-------------------------------+\n",
       "|             review            | sentiment |            cleaned            |\n",
       "+-------------------------------+-----------+-------------------------------+\n",
       "| One of the other reviewers... |  positive |     reviewers  mentioned  ... |\n",
       "| A wonderful little product... |  positive |  wonderful  production   f... |\n",
       "| I thought this was a wonde... |  positive |  thought    wonderful   sp... |\n",
       "| Basically there's a family... |  negative | basically    family    boy... |\n",
       "| Petter Mattei's \"Love in t... |  positive | petter mattei   love   tim... |\n",
       "| Probably my all-time favor... |  positive |    time favorite movie   s... |\n",
       "| I sure would like to see a... |  positive |        resurrection    dat... |\n",
       "| This show was an amazing, ... |  negative |     amazing  fresh   innov... |\n",
       "| Encouraged by the positive... |  negative | encouraged   positive comm... |\n",
       "| If you like original gut w... |  positive |    original gut wrenching ... |\n",
       "+-------------------------------+-----------+-------------------------------+\n",
       "+-------------------------------+\n",
       "|             words             |\n",
       "+-------------------------------+\n",
       "| {'darker': 1.0, 'touch': 1... |\n",
       "| {'terribly': 1.0, 'surface... |\n",
       "| {'superman': 1.0, 'interes... |\n",
       "| {'dialogs': 1.0, 'playing'... |\n",
       "| {'luck': 1.0, 'alive': 1.0... |\n",
       "| {'thumbs': 1.0, 'startling... |\n",
       "| {'quit': 1.0, 'rhymes': 1.... |\n",
       "| {'awful': 1.0, 'disgracefu... |\n",
       "| {'effort': 1.0, 'keitel': ... |\n",
       "| {'mom': 1.0, 'hell': 1.0, ... |\n",
       "+-------------------------------+\n",
       "[50000 rows x 4 columns]\n",
       "Note: Only the head of the SFrame is printed.\n",
       "You can use print_rows(num_rows=m, num_columns=n) to print more rows and columns."
      ]
     },
     "execution_count": 7,
     "metadata": {},
     "output_type": "execute_result"
    }
   ],
   "source": [
    "# counting words and adding a new 'words' column to record word-count dictionary\n",
    "movies['words'] = tc.text_analytics.count_words(movies['cleaned'])\n",
    "movies"
   ]
  },
  {
   "cell_type": "markdown",
   "id": "c5ee0fc7-4b8e-42b2-a1f0-59dc1e52aa3d",
   "metadata": {},
   "source": [
    "### d.) Split the data into training/validation/testing sets using 80%/10%/10% respectively"
   ]
  },
  {
   "cell_type": "code",
   "execution_count": 8,
   "id": "3589c80c-c677-4b1c-9365-9f8249432b68",
   "metadata": {},
   "outputs": [],
   "source": [
    "# split the dataset into training set and another set for validation and testing\n",
    "# training (80%) / total (100%) = 0.8\n",
    "training, validation_testing = movies.random_split(.8, seed=0, exact=True)"
   ]
  },
  {
   "cell_type": "code",
   "execution_count": 9,
   "id": "853ae11c-3491-4cb7-9636-92750d45dbb4",
   "metadata": {},
   "outputs": [
    {
     "name": "stdout",
     "output_type": "stream",
     "text": [
      "Length of training set: 40000\n"
     ]
    }
   ],
   "source": [
    "# check the length of training set\n",
    "print(\"Length of training set:\", len(training))"
   ]
  },
  {
   "cell_type": "code",
   "execution_count": 10,
   "id": "3136dabf-da61-4989-8a98-a60322dfde1e",
   "metadata": {},
   "outputs": [],
   "source": [
    "# equally split the validation and testing set into validation and testing\n",
    "# validation (10%) / validation_test (20%) = 0.5\n",
    "validation, testing = validation_testing.random_split(.5, seed=0, exact=True)"
   ]
  },
  {
   "cell_type": "code",
   "execution_count": 11,
   "id": "c51deb43-578a-4dd2-b21c-4e8c89e86692",
   "metadata": {},
   "outputs": [
    {
     "name": "stdout",
     "output_type": "stream",
     "text": [
      "Length of validation set: 5000\n",
      "Length of testing set: 5000\n"
     ]
    }
   ],
   "source": [
    "# check the length of validation set\n",
    "print(\"Length of validation set:\", len(validation))\n",
    "\n",
    "# check the length of testing set\n",
    "print(\"Length of testing set:\", len(testing))"
   ]
  },
  {
   "cell_type": "markdown",
   "id": "07ecfc1e-00d8-4b92-91e8-eda5cfdf00d5",
   "metadata": {},
   "source": [
    "### e.) Use Turicreate to create logistic classifiers for sentiment analysis. Be sure to use your validation set in the training. Experiment with different values of hyperparameters to develop two different models"
   ]
  },
  {
   "cell_type": "markdown",
   "id": "dcd217ed-0082-4680-a674-639970420f69",
   "metadata": {},
   "source": [
    "Hyperparameters for Model 1:<br>1. l1 penalty=0.01<br>2. l2 penalty=0.0<br>3. feature rescaling=False<br>4. convergence threshold=0.01<br>5. solver='auto'<br>6. max_iterations=100"
   ]
  },
  {
   "cell_type": "code",
   "execution_count": 12,
   "id": "cecce2c0-a81c-4059-b178-b67edda34285",
   "metadata": {},
   "outputs": [
    {
     "data": {
      "text/html": [
       "<pre>Logistic regression:</pre>"
      ],
      "text/plain": [
       "Logistic regression:"
      ]
     },
     "metadata": {},
     "output_type": "display_data"
    },
    {
     "data": {
      "text/html": [
       "<pre>--------------------------------------------------------</pre>"
      ],
      "text/plain": [
       "--------------------------------------------------------"
      ]
     },
     "metadata": {},
     "output_type": "display_data"
    },
    {
     "data": {
      "text/html": [
       "<pre>Number of examples          : 40000</pre>"
      ],
      "text/plain": [
       "Number of examples          : 40000"
      ]
     },
     "metadata": {},
     "output_type": "display_data"
    },
    {
     "data": {
      "text/html": [
       "<pre>Number of classes           : 2</pre>"
      ],
      "text/plain": [
       "Number of classes           : 2"
      ]
     },
     "metadata": {},
     "output_type": "display_data"
    },
    {
     "data": {
      "text/html": [
       "<pre>Number of feature columns   : 1</pre>"
      ],
      "text/plain": [
       "Number of feature columns   : 1"
      ]
     },
     "metadata": {},
     "output_type": "display_data"
    },
    {
     "data": {
      "text/html": [
       "<pre>Number of unpacked features : 92420</pre>"
      ],
      "text/plain": [
       "Number of unpacked features : 92420"
      ]
     },
     "metadata": {},
     "output_type": "display_data"
    },
    {
     "data": {
      "text/html": [
       "<pre>Number of coefficients      : 92421</pre>"
      ],
      "text/plain": [
       "Number of coefficients      : 92421"
      ]
     },
     "metadata": {},
     "output_type": "display_data"
    },
    {
     "data": {
      "text/html": [
       "<pre>Starting Accelerated Gradient (FISTA)</pre>"
      ],
      "text/plain": [
       "Starting Accelerated Gradient (FISTA)"
      ]
     },
     "metadata": {},
     "output_type": "display_data"
    },
    {
     "data": {
      "text/html": [
       "<pre>--------------------------------------------------------</pre>"
      ],
      "text/plain": [
       "--------------------------------------------------------"
      ]
     },
     "metadata": {},
     "output_type": "display_data"
    },
    {
     "data": {
      "text/html": [
       "<pre>Tuning step size. First iteration could take longer than subsequent iterations.</pre>"
      ],
      "text/plain": [
       "Tuning step size. First iteration could take longer than subsequent iterations."
      ]
     },
     "metadata": {},
     "output_type": "display_data"
    },
    {
     "data": {
      "text/html": [
       "<pre>+-----------+----------+-----------+--------------+-------------------+---------------------+</pre>"
      ],
      "text/plain": [
       "+-----------+----------+-----------+--------------+-------------------+---------------------+"
      ]
     },
     "metadata": {},
     "output_type": "display_data"
    },
    {
     "data": {
      "text/html": [
       "<pre>| Iteration | Passes   | Step size | Elapsed Time | Training Accuracy | Validation Accuracy |</pre>"
      ],
      "text/plain": [
       "| Iteration | Passes   | Step size | Elapsed Time | Training Accuracy | Validation Accuracy |"
      ]
     },
     "metadata": {},
     "output_type": "display_data"
    },
    {
     "data": {
      "text/html": [
       "<pre>+-----------+----------+-----------+--------------+-------------------+---------------------+</pre>"
      ],
      "text/plain": [
       "+-----------+----------+-----------+--------------+-------------------+---------------------+"
      ]
     },
     "metadata": {},
     "output_type": "display_data"
    },
    {
     "data": {
      "text/html": [
       "<pre>| 0         | 1        | 1.000000  | 1.055626     | 0.498125          | 0.503800            |</pre>"
      ],
      "text/plain": [
       "| 0         | 1        | 1.000000  | 1.055626     | 0.498125          | 0.503800            |"
      ]
     },
     "metadata": {},
     "output_type": "display_data"
    },
    {
     "data": {
      "text/html": [
       "<pre>| 1         | 2        | 0.000040  | 2.211297     | 0.672875          | 0.667800            |</pre>"
      ],
      "text/plain": [
       "| 1         | 2        | 0.000040  | 2.211297     | 0.672875          | 0.667800            |"
      ]
     },
     "metadata": {},
     "output_type": "display_data"
    },
    {
     "data": {
      "text/html": [
       "<pre>| 2         | 3        | 0.000012  | 2.443571     | 0.718150          | 0.720400            |</pre>"
      ],
      "text/plain": [
       "| 2         | 3        | 0.000012  | 2.443571     | 0.718150          | 0.720400            |"
      ]
     },
     "metadata": {},
     "output_type": "display_data"
    },
    {
     "data": {
      "text/html": [
       "<pre>| 3         | 4        | 0.000008  | 2.595644     | 0.755225          | 0.753200            |</pre>"
      ],
      "text/plain": [
       "| 3         | 4        | 0.000008  | 2.595644     | 0.755225          | 0.753200            |"
      ]
     },
     "metadata": {},
     "output_type": "display_data"
    },
    {
     "data": {
      "text/html": [
       "<pre>| 4         | 5        | 0.000008  | 2.713555     | 0.774975          | 0.774200            |</pre>"
      ],
      "text/plain": [
       "| 4         | 5        | 0.000008  | 2.713555     | 0.774975          | 0.774200            |"
      ]
     },
     "metadata": {},
     "output_type": "display_data"
    },
    {
     "data": {
      "text/html": [
       "<pre>| 5         | 6        | 0.000008  | 2.828489     | 0.787125          | 0.783800            |</pre>"
      ],
      "text/plain": [
       "| 5         | 6        | 0.000008  | 2.828489     | 0.787125          | 0.783800            |"
      ]
     },
     "metadata": {},
     "output_type": "display_data"
    },
    {
     "data": {
      "text/html": [
       "<pre>| 10        | 11       | 0.000008  | 3.384799     | 0.812500          | 0.805600            |</pre>"
      ],
      "text/plain": [
       "| 10        | 11       | 0.000008  | 3.384799     | 0.812500          | 0.805600            |"
      ]
     },
     "metadata": {},
     "output_type": "display_data"
    },
    {
     "data": {
      "text/html": [
       "<pre>| 20        | 21       | 0.000008  | 4.531046     | 0.841000          | 0.827000            |</pre>"
      ],
      "text/plain": [
       "| 20        | 21       | 0.000008  | 4.531046     | 0.841000          | 0.827000            |"
      ]
     },
     "metadata": {},
     "output_type": "display_data"
    },
    {
     "data": {
      "text/html": [
       "<pre>| 30        | 31       | 0.000008  | 5.700775     | 0.860225          | 0.843400            |</pre>"
      ],
      "text/plain": [
       "| 30        | 31       | 0.000008  | 5.700775     | 0.860225          | 0.843400            |"
      ]
     },
     "metadata": {},
     "output_type": "display_data"
    },
    {
     "data": {
      "text/html": [
       "<pre>| 40        | 41       | 0.000008  | 6.849569     | 0.875400          | 0.859000            |</pre>"
      ],
      "text/plain": [
       "| 40        | 41       | 0.000008  | 6.849569     | 0.875400          | 0.859000            |"
      ]
     },
     "metadata": {},
     "output_type": "display_data"
    },
    {
     "data": {
      "text/html": [
       "<pre>| 50        | 51       | 0.000008  | 7.997745     | 0.886325          | 0.868600            |</pre>"
      ],
      "text/plain": [
       "| 50        | 51       | 0.000008  | 7.997745     | 0.886325          | 0.868600            |"
      ]
     },
     "metadata": {},
     "output_type": "display_data"
    },
    {
     "data": {
      "text/html": [
       "<pre>| 60        | 61       | 0.000008  | 9.149196     | 0.893000          | 0.874200            |</pre>"
      ],
      "text/plain": [
       "| 60        | 61       | 0.000008  | 9.149196     | 0.893000          | 0.874200            |"
      ]
     },
     "metadata": {},
     "output_type": "display_data"
    },
    {
     "data": {
      "text/html": [
       "<pre>| 70        | 71       | 0.000008  | 10.325446    | 0.899100          | 0.877000            |</pre>"
      ],
      "text/plain": [
       "| 70        | 71       | 0.000008  | 10.325446    | 0.899100          | 0.877000            |"
      ]
     },
     "metadata": {},
     "output_type": "display_data"
    },
    {
     "data": {
      "text/html": [
       "<pre>| 80        | 81       | 0.000008  | 11.468657    | 0.904250          | 0.879400            |</pre>"
      ],
      "text/plain": [
       "| 80        | 81       | 0.000008  | 11.468657    | 0.904250          | 0.879400            |"
      ]
     },
     "metadata": {},
     "output_type": "display_data"
    },
    {
     "data": {
      "text/html": [
       "<pre>| 90        | 91       | 0.000008  | 12.617625    | 0.908700          | 0.880800            |</pre>"
      ],
      "text/plain": [
       "| 90        | 91       | 0.000008  | 12.617625    | 0.908700          | 0.880800            |"
      ]
     },
     "metadata": {},
     "output_type": "display_data"
    },
    {
     "data": {
      "text/html": [
       "<pre>| 96        | 97       | 0.000008  | 13.300582    | 0.911825          | 0.883400            |</pre>"
      ],
      "text/plain": [
       "| 96        | 97       | 0.000008  | 13.300582    | 0.911825          | 0.883400            |"
      ]
     },
     "metadata": {},
     "output_type": "display_data"
    },
    {
     "data": {
      "text/html": [
       "<pre>+-----------+----------+-----------+--------------+-------------------+---------------------+</pre>"
      ],
      "text/plain": [
       "+-----------+----------+-----------+--------------+-------------------+---------------------+"
      ]
     },
     "metadata": {},
     "output_type": "display_data"
    },
    {
     "data": {
      "text/html": [
       "<pre>SUCCESS: Optimal solution found.</pre>"
      ],
      "text/plain": [
       "SUCCESS: Optimal solution found."
      ]
     },
     "metadata": {},
     "output_type": "display_data"
    },
    {
     "data": {
      "text/html": [
       "<pre></pre>"
      ],
      "text/plain": []
     },
     "metadata": {},
     "output_type": "display_data"
    }
   ],
   "source": [
    "# Define our first model perceptron 1 using hyperparameters: L1 = 0.01, L2 = 0.0, Feature rescaling: False, Max iterations:100. \n",
    "model_1 = tc.logistic_classifier.create(training, target='sentiment', features=['words']\n",
    "                                             , l1_penalty=0.01, l2_penalty=0.0\n",
    "                                             , feature_rescaling=False, validation_set=validation\n",
    "                                             , convergence_threshold=0.01\n",
    "                                             , solver='auto', seed=0, max_iterations=100)"
   ]
  },
  {
   "cell_type": "markdown",
   "id": "77eeae24-56d9-4403-b67b-5f5b91ecdb4e",
   "metadata": {},
   "source": [
    "Hyperparameters for Model 2:<br>1. l1 penalty=0.0<br>2. l2 penalty=0.0<br>3. feature rescaling=True<br>4. convergence threshold=0.01<br>5. solver='auto'<br>6. max_iterations=10(by default)"
   ]
  },
  {
   "cell_type": "code",
   "execution_count": 13,
   "id": "1bc80334-b70b-46e7-94a8-1eb207004688",
   "metadata": {},
   "outputs": [
    {
     "data": {
      "text/html": [
       "<pre>Logistic regression:</pre>"
      ],
      "text/plain": [
       "Logistic regression:"
      ]
     },
     "metadata": {},
     "output_type": "display_data"
    },
    {
     "data": {
      "text/html": [
       "<pre>--------------------------------------------------------</pre>"
      ],
      "text/plain": [
       "--------------------------------------------------------"
      ]
     },
     "metadata": {},
     "output_type": "display_data"
    },
    {
     "data": {
      "text/html": [
       "<pre>Number of examples          : 40000</pre>"
      ],
      "text/plain": [
       "Number of examples          : 40000"
      ]
     },
     "metadata": {},
     "output_type": "display_data"
    },
    {
     "data": {
      "text/html": [
       "<pre>Number of classes           : 2</pre>"
      ],
      "text/plain": [
       "Number of classes           : 2"
      ]
     },
     "metadata": {},
     "output_type": "display_data"
    },
    {
     "data": {
      "text/html": [
       "<pre>Number of feature columns   : 1</pre>"
      ],
      "text/plain": [
       "Number of feature columns   : 1"
      ]
     },
     "metadata": {},
     "output_type": "display_data"
    },
    {
     "data": {
      "text/html": [
       "<pre>Number of unpacked features : 92420</pre>"
      ],
      "text/plain": [
       "Number of unpacked features : 92420"
      ]
     },
     "metadata": {},
     "output_type": "display_data"
    },
    {
     "data": {
      "text/html": [
       "<pre>Number of coefficients      : 92421</pre>"
      ],
      "text/plain": [
       "Number of coefficients      : 92421"
      ]
     },
     "metadata": {},
     "output_type": "display_data"
    },
    {
     "data": {
      "text/html": [
       "<pre>Starting L-BFGS</pre>"
      ],
      "text/plain": [
       "Starting L-BFGS"
      ]
     },
     "metadata": {},
     "output_type": "display_data"
    },
    {
     "data": {
      "text/html": [
       "<pre>--------------------------------------------------------</pre>"
      ],
      "text/plain": [
       "--------------------------------------------------------"
      ]
     },
     "metadata": {},
     "output_type": "display_data"
    },
    {
     "data": {
      "text/html": [
       "<pre>+-----------+----------+-----------+--------------+-------------------+---------------------+</pre>"
      ],
      "text/plain": [
       "+-----------+----------+-----------+--------------+-------------------+---------------------+"
      ]
     },
     "metadata": {},
     "output_type": "display_data"
    },
    {
     "data": {
      "text/html": [
       "<pre>| Iteration | Passes   | Step size | Elapsed Time | Training Accuracy | Validation Accuracy |</pre>"
      ],
      "text/plain": [
       "| Iteration | Passes   | Step size | Elapsed Time | Training Accuracy | Validation Accuracy |"
      ]
     },
     "metadata": {},
     "output_type": "display_data"
    },
    {
     "data": {
      "text/html": [
       "<pre>+-----------+----------+-----------+--------------+-------------------+---------------------+</pre>"
      ],
      "text/plain": [
       "+-----------+----------+-----------+--------------+-------------------+---------------------+"
      ]
     },
     "metadata": {},
     "output_type": "display_data"
    },
    {
     "data": {
      "text/html": [
       "<pre>| 0         | 2        | 1.000000  | 0.084214     | 0.931975          | 0.850200            |</pre>"
      ],
      "text/plain": [
       "| 0         | 2        | 1.000000  | 0.084214     | 0.931975          | 0.850200            |"
      ]
     },
     "metadata": {},
     "output_type": "display_data"
    },
    {
     "data": {
      "text/html": [
       "<pre>| 1         | 4        | 1.000000  | 0.180147     | 0.959900          | 0.863800            |</pre>"
      ],
      "text/plain": [
       "| 1         | 4        | 1.000000  | 0.180147     | 0.959900          | 0.863800            |"
      ]
     },
     "metadata": {},
     "output_type": "display_data"
    },
    {
     "data": {
      "text/html": [
       "<pre>| 2         | 5        | 1.000000  | 0.249523     | 0.982375          | 0.877600            |</pre>"
      ],
      "text/plain": [
       "| 2         | 5        | 1.000000  | 0.249523     | 0.982375          | 0.877600            |"
      ]
     },
     "metadata": {},
     "output_type": "display_data"
    },
    {
     "data": {
      "text/html": [
       "<pre>| 3         | 6        | 1.000000  | 0.316483     | 0.985825          | 0.879800            |</pre>"
      ],
      "text/plain": [
       "| 3         | 6        | 1.000000  | 0.316483     | 0.985825          | 0.879800            |"
      ]
     },
     "metadata": {},
     "output_type": "display_data"
    },
    {
     "data": {
      "text/html": [
       "<pre>| 4         | 7        | 1.000000  | 0.385439     | 0.993475          | 0.876800            |</pre>"
      ],
      "text/plain": [
       "| 4         | 7        | 1.000000  | 0.385439     | 0.993475          | 0.876800            |"
      ]
     },
     "metadata": {},
     "output_type": "display_data"
    },
    {
     "data": {
      "text/html": [
       "<pre>| 9         | 12       | 1.000000  | 0.714979     | 0.999800          | 0.847800            |</pre>"
      ],
      "text/plain": [
       "| 9         | 12       | 1.000000  | 0.714979     | 0.999800          | 0.847800            |"
      ]
     },
     "metadata": {},
     "output_type": "display_data"
    },
    {
     "data": {
      "text/html": [
       "<pre>+-----------+----------+-----------+--------------+-------------------+---------------------+</pre>"
      ],
      "text/plain": [
       "+-----------+----------+-----------+--------------+-------------------+---------------------+"
      ]
     },
     "metadata": {},
     "output_type": "display_data"
    }
   ],
   "source": [
    "# Define our second model perceptron 2 using hyperparameters: L1 = 0.0, L2 = 0.0, Feature rescaling: True.\n",
    "model_2 = tc.logistic_classifier.create(training, target='sentiment', features=['words']\n",
    "                                             , l1_penalty=0.0, l2_penalty=0.0\n",
    "                                             , feature_rescaling=True, validation_set=validation\n",
    "                                             , convergence_threshold=0.01\n",
    "                                             , solver='auto', seed=0)"
   ]
  },
  {
   "cell_type": "markdown",
   "id": "5bfd8eed-4f34-45da-a1ac-cf861e794e65",
   "metadata": {},
   "source": [
    "### f.) For each model:\n",
    "### i) find predictions using the testing set;"
   ]
  },
  {
   "cell_type": "code",
   "execution_count": 14,
   "id": "15b21718-abf8-4fe1-b416-92162956a943",
   "metadata": {},
   "outputs": [
    {
     "data": {
      "text/html": [
       "<div style=\"max-height:1000px;max-width:1500px;overflow:auto;\"><table frame=\"box\" rules=\"cols\">\n",
       "    <tr>\n",
       "        <th style=\"padding-left: 1em; padding-right: 1em; text-align: center\">Label</th>\n",
       "        <th style=\"padding-left: 1em; padding-right: 1em; text-align: center\">Prediction1</th>\n",
       "        <th style=\"padding-left: 1em; padding-right: 1em; text-align: center\">Prediction2</th>\n",
       "    </tr>\n",
       "    <tr>\n",
       "        <td style=\"padding-left: 1em; padding-right: 1em; text-align: center; vertical-align: top\">negative</td>\n",
       "        <td style=\"padding-left: 1em; padding-right: 1em; text-align: center; vertical-align: top\">negative</td>\n",
       "        <td style=\"padding-left: 1em; padding-right: 1em; text-align: center; vertical-align: top\">negative</td>\n",
       "    </tr>\n",
       "    <tr>\n",
       "        <td style=\"padding-left: 1em; padding-right: 1em; text-align: center; vertical-align: top\">positive</td>\n",
       "        <td style=\"padding-left: 1em; padding-right: 1em; text-align: center; vertical-align: top\">positive</td>\n",
       "        <td style=\"padding-left: 1em; padding-right: 1em; text-align: center; vertical-align: top\">positive</td>\n",
       "    </tr>\n",
       "    <tr>\n",
       "        <td style=\"padding-left: 1em; padding-right: 1em; text-align: center; vertical-align: top\">positive</td>\n",
       "        <td style=\"padding-left: 1em; padding-right: 1em; text-align: center; vertical-align: top\">positive</td>\n",
       "        <td style=\"padding-left: 1em; padding-right: 1em; text-align: center; vertical-align: top\">positive</td>\n",
       "    </tr>\n",
       "    <tr>\n",
       "        <td style=\"padding-left: 1em; padding-right: 1em; text-align: center; vertical-align: top\">positive</td>\n",
       "        <td style=\"padding-left: 1em; padding-right: 1em; text-align: center; vertical-align: top\">positive</td>\n",
       "        <td style=\"padding-left: 1em; padding-right: 1em; text-align: center; vertical-align: top\">positive</td>\n",
       "    </tr>\n",
       "    <tr>\n",
       "        <td style=\"padding-left: 1em; padding-right: 1em; text-align: center; vertical-align: top\">positive</td>\n",
       "        <td style=\"padding-left: 1em; padding-right: 1em; text-align: center; vertical-align: top\">negative</td>\n",
       "        <td style=\"padding-left: 1em; padding-right: 1em; text-align: center; vertical-align: top\">positive</td>\n",
       "    </tr>\n",
       "    <tr>\n",
       "        <td style=\"padding-left: 1em; padding-right: 1em; text-align: center; vertical-align: top\">negative</td>\n",
       "        <td style=\"padding-left: 1em; padding-right: 1em; text-align: center; vertical-align: top\">positive</td>\n",
       "        <td style=\"padding-left: 1em; padding-right: 1em; text-align: center; vertical-align: top\">negative</td>\n",
       "    </tr>\n",
       "    <tr>\n",
       "        <td style=\"padding-left: 1em; padding-right: 1em; text-align: center; vertical-align: top\">positive</td>\n",
       "        <td style=\"padding-left: 1em; padding-right: 1em; text-align: center; vertical-align: top\">positive</td>\n",
       "        <td style=\"padding-left: 1em; padding-right: 1em; text-align: center; vertical-align: top\">negative</td>\n",
       "    </tr>\n",
       "    <tr>\n",
       "        <td style=\"padding-left: 1em; padding-right: 1em; text-align: center; vertical-align: top\">negative</td>\n",
       "        <td style=\"padding-left: 1em; padding-right: 1em; text-align: center; vertical-align: top\">negative</td>\n",
       "        <td style=\"padding-left: 1em; padding-right: 1em; text-align: center; vertical-align: top\">negative</td>\n",
       "    </tr>\n",
       "    <tr>\n",
       "        <td style=\"padding-left: 1em; padding-right: 1em; text-align: center; vertical-align: top\">negative</td>\n",
       "        <td style=\"padding-left: 1em; padding-right: 1em; text-align: center; vertical-align: top\">negative</td>\n",
       "        <td style=\"padding-left: 1em; padding-right: 1em; text-align: center; vertical-align: top\">negative</td>\n",
       "    </tr>\n",
       "    <tr>\n",
       "        <td style=\"padding-left: 1em; padding-right: 1em; text-align: center; vertical-align: top\">positive</td>\n",
       "        <td style=\"padding-left: 1em; padding-right: 1em; text-align: center; vertical-align: top\">negative</td>\n",
       "        <td style=\"padding-left: 1em; padding-right: 1em; text-align: center; vertical-align: top\">negative</td>\n",
       "    </tr>\n",
       "</table>\n",
       "[5000 rows x 3 columns]<br/>Note: Only the head of the SFrame is printed.<br/>You can use print_rows(num_rows=m, num_columns=n) to print more rows and columns.\n",
       "</div>"
      ],
      "text/plain": [
       "Columns:\n",
       "\tLabel\tstr\n",
       "\tPrediction1\tstr\n",
       "\tPrediction2\tstr\n",
       "\n",
       "Rows: 5000\n",
       "\n",
       "Data:\n",
       "+----------+-------------+-------------+\n",
       "|  Label   | Prediction1 | Prediction2 |\n",
       "+----------+-------------+-------------+\n",
       "| negative |   negative  |   negative  |\n",
       "| positive |   positive  |   positive  |\n",
       "| positive |   positive  |   positive  |\n",
       "| positive |   positive  |   positive  |\n",
       "| positive |   negative  |   positive  |\n",
       "| negative |   positive  |   negative  |\n",
       "| positive |   positive  |   negative  |\n",
       "| negative |   negative  |   negative  |\n",
       "| negative |   negative  |   negative  |\n",
       "| positive |   negative  |   negative  |\n",
       "+----------+-------------+-------------+\n",
       "[5000 rows x 3 columns]\n",
       "Note: Only the head of the SFrame is printed.\n",
       "You can use print_rows(num_rows=m, num_columns=n) to print more rows and columns."
      ]
     },
     "execution_count": 14,
     "metadata": {},
     "output_type": "execute_result"
    }
   ],
   "source": [
    "# Define predictions for first model using the testing set. \n",
    "prediction_1 = model_1.predict(testing)\n",
    "\n",
    "# Define predictions for second model using the testing set.\n",
    "prediction_2 = model_2.predict(testing)\n",
    "\n",
    "# Create a dictionary to view the predicitons from the testing set.\n",
    "prediction_dict = {'Prediction1':prediction_1, 'Prediction2':prediction_2, 'Label':testing['sentiment']}\n",
    "\n",
    "# Turning the dictionary into a data frame. \n",
    "sf = tc.SFrame(prediction_dict)\n",
    "\n",
    "# Showing the predicitons of both models relative the labels. \n",
    "sf"
   ]
  },
  {
   "cell_type": "markdown",
   "id": "25eb8265-8fc2-4ac1-a90e-f598b027f402",
   "metadata": {},
   "source": [
    "### ii) display the training/validation/testing accuracy; "
   ]
  },
  {
   "cell_type": "code",
   "execution_count": 15,
   "id": "5af90b05-774e-4d5f-9094-4fc8f9e17f43",
   "metadata": {},
   "outputs": [
    {
     "name": "stdout",
     "output_type": "stream",
     "text": [
      "Training set of Model 1 accuracy: 0.911825\n",
      "Testing set of Model 1 accuracy: 0.8846\n",
      "Validation set of Model 1 accuracy: 0.8834 \n",
      "\n",
      "Training set of of Model 2 accuracy: 0.9998\n",
      "Testing set of Model 2 accuracy: 0.8482\n",
      "Validation set of Model 2 accuracy: 0.8478\n"
     ]
    }
   ],
   "source": [
    "# Showing the accuracy in training, testing, validation. \n",
    "# Model 1: \n",
    "print('Training set of Model 1 accuracy:', model_1.evaluate(training)['accuracy'])\n",
    "print('Testing set of Model 1 accuracy:', model_1.evaluate(testing)['accuracy'])\n",
    "print('Validation set of Model 1 accuracy:', model_1.evaluate(validation)['accuracy'], \"\\n\")\n",
    "\n",
    "# Model 2: \n",
    "print('Training set of of Model 2 accuracy:', model_2.evaluate(training)['accuracy'])\n",
    "print('Testing set of Model 2 accuracy:', model_2.evaluate(testing)['accuracy'])\n",
    "print('Validation set of Model 2 accuracy:', model_2.evaluate(validation)['accuracy'])"
   ]
  },
  {
   "cell_type": "markdown",
   "id": "51b974e4-7495-4738-b3e7-11aaaaac78ee",
   "metadata": {},
   "source": [
    "### iii) display the confusion matrix on the testing set;  "
   ]
  },
  {
   "cell_type": "code",
   "execution_count": 16,
   "id": "ac464908-2349-4fbc-bd6d-e62ca264e7e1",
   "metadata": {},
   "outputs": [
    {
     "data": {
      "text/html": [
       "<div style=\"max-height:1000px;max-width:1500px;overflow:auto;\"><table frame=\"box\" rules=\"cols\">\n",
       "    <tr>\n",
       "        <th style=\"padding-left: 1em; padding-right: 1em; text-align: center\">target_label</th>\n",
       "        <th style=\"padding-left: 1em; padding-right: 1em; text-align: center\">predicted_label</th>\n",
       "        <th style=\"padding-left: 1em; padding-right: 1em; text-align: center\">count</th>\n",
       "    </tr>\n",
       "    <tr>\n",
       "        <td style=\"padding-left: 1em; padding-right: 1em; text-align: center; vertical-align: top\">negative</td>\n",
       "        <td style=\"padding-left: 1em; padding-right: 1em; text-align: center; vertical-align: top\">negative</td>\n",
       "        <td style=\"padding-left: 1em; padding-right: 1em; text-align: center; vertical-align: top\">2120</td>\n",
       "    </tr>\n",
       "    <tr>\n",
       "        <td style=\"padding-left: 1em; padding-right: 1em; text-align: center; vertical-align: top\">positive</td>\n",
       "        <td style=\"padding-left: 1em; padding-right: 1em; text-align: center; vertical-align: top\">positive</td>\n",
       "        <td style=\"padding-left: 1em; padding-right: 1em; text-align: center; vertical-align: top\">2303</td>\n",
       "    </tr>\n",
       "    <tr>\n",
       "        <td style=\"padding-left: 1em; padding-right: 1em; text-align: center; vertical-align: top\">positive</td>\n",
       "        <td style=\"padding-left: 1em; padding-right: 1em; text-align: center; vertical-align: top\">negative</td>\n",
       "        <td style=\"padding-left: 1em; padding-right: 1em; text-align: center; vertical-align: top\">253</td>\n",
       "    </tr>\n",
       "    <tr>\n",
       "        <td style=\"padding-left: 1em; padding-right: 1em; text-align: center; vertical-align: top\">negative</td>\n",
       "        <td style=\"padding-left: 1em; padding-right: 1em; text-align: center; vertical-align: top\">positive</td>\n",
       "        <td style=\"padding-left: 1em; padding-right: 1em; text-align: center; vertical-align: top\">324</td>\n",
       "    </tr>\n",
       "</table>\n",
       "[4 rows x 3 columns]<br/>\n",
       "</div>"
      ],
      "text/plain": [
       "Columns:\n",
       "\ttarget_label\tstr\n",
       "\tpredicted_label\tstr\n",
       "\tcount\tint\n",
       "\n",
       "Rows: 4\n",
       "\n",
       "Data:\n",
       "+--------------+-----------------+-------+\n",
       "| target_label | predicted_label | count |\n",
       "+--------------+-----------------+-------+\n",
       "|   negative   |     negative    |  2120 |\n",
       "|   positive   |     positive    |  2303 |\n",
       "|   positive   |     negative    |  253  |\n",
       "|   negative   |     positive    |  324  |\n",
       "+--------------+-----------------+-------+\n",
       "[4 rows x 3 columns]"
      ]
     },
     "execution_count": 16,
     "metadata": {},
     "output_type": "execute_result"
    }
   ],
   "source": [
    "# Showing confusion matrix to find the count of correct and incorrect gueses. \n",
    "# Model 1. \n",
    "cm_1 = tc.evaluation.confusion_matrix(testing['sentiment'], prediction_1)\n",
    "\n",
    "# Show the matrix.\n",
    "cm_1"
   ]
  },
  {
   "cell_type": "code",
   "execution_count": 17,
   "id": "dbef604f-7759-431f-ab40-6cdaee87783a",
   "metadata": {},
   "outputs": [
    {
     "data": {
      "text/html": [
       "<div style=\"max-height:1000px;max-width:1500px;overflow:auto;\"><table frame=\"box\" rules=\"cols\">\n",
       "    <tr>\n",
       "        <th style=\"padding-left: 1em; padding-right: 1em; text-align: center\">target_label</th>\n",
       "        <th style=\"padding-left: 1em; padding-right: 1em; text-align: center\">predicted_label</th>\n",
       "        <th style=\"padding-left: 1em; padding-right: 1em; text-align: center\">count</th>\n",
       "    </tr>\n",
       "    <tr>\n",
       "        <td style=\"padding-left: 1em; padding-right: 1em; text-align: center; vertical-align: top\">negative</td>\n",
       "        <td style=\"padding-left: 1em; padding-right: 1em; text-align: center; vertical-align: top\">negative</td>\n",
       "        <td style=\"padding-left: 1em; padding-right: 1em; text-align: center; vertical-align: top\">2045</td>\n",
       "    </tr>\n",
       "    <tr>\n",
       "        <td style=\"padding-left: 1em; padding-right: 1em; text-align: center; vertical-align: top\">positive</td>\n",
       "        <td style=\"padding-left: 1em; padding-right: 1em; text-align: center; vertical-align: top\">positive</td>\n",
       "        <td style=\"padding-left: 1em; padding-right: 1em; text-align: center; vertical-align: top\">2196</td>\n",
       "    </tr>\n",
       "    <tr>\n",
       "        <td style=\"padding-left: 1em; padding-right: 1em; text-align: center; vertical-align: top\">positive</td>\n",
       "        <td style=\"padding-left: 1em; padding-right: 1em; text-align: center; vertical-align: top\">negative</td>\n",
       "        <td style=\"padding-left: 1em; padding-right: 1em; text-align: center; vertical-align: top\">360</td>\n",
       "    </tr>\n",
       "    <tr>\n",
       "        <td style=\"padding-left: 1em; padding-right: 1em; text-align: center; vertical-align: top\">negative</td>\n",
       "        <td style=\"padding-left: 1em; padding-right: 1em; text-align: center; vertical-align: top\">positive</td>\n",
       "        <td style=\"padding-left: 1em; padding-right: 1em; text-align: center; vertical-align: top\">399</td>\n",
       "    </tr>\n",
       "</table>\n",
       "[4 rows x 3 columns]<br/>\n",
       "</div>"
      ],
      "text/plain": [
       "Columns:\n",
       "\ttarget_label\tstr\n",
       "\tpredicted_label\tstr\n",
       "\tcount\tint\n",
       "\n",
       "Rows: 4\n",
       "\n",
       "Data:\n",
       "+--------------+-----------------+-------+\n",
       "| target_label | predicted_label | count |\n",
       "+--------------+-----------------+-------+\n",
       "|   negative   |     negative    |  2045 |\n",
       "|   positive   |     positive    |  2196 |\n",
       "|   positive   |     negative    |  360  |\n",
       "|   negative   |     positive    |  399  |\n",
       "+--------------+-----------------+-------+\n",
       "[4 rows x 3 columns]"
      ]
     },
     "execution_count": 17,
     "metadata": {},
     "output_type": "execute_result"
    }
   ],
   "source": [
    "# Showing confusion matrix for model 2.\n",
    "cm_2 = tc.evaluation.confusion_matrix(testing['sentiment'], prediction_2)\n",
    "\n",
    "# Show the matrix. \n",
    "cm_2"
   ]
  },
  {
   "cell_type": "code",
   "execution_count": 18,
   "id": "93e2c1a3-8cb7-4544-845e-80ec0a917cc7",
   "metadata": {},
   "outputs": [
    {
     "data": {
      "text/html": [
       "<div style=\"max-height:1000px;max-width:1500px;overflow:auto;\"><table frame=\"box\" rules=\"cols\">\n",
       "    <tr>\n",
       "        <th style=\"padding-left: 1em; padding-right: 1em; text-align: center\">Model 1</th>\n",
       "        <th style=\"padding-left: 1em; padding-right: 1em; text-align: center\">Predict Negative</th>\n",
       "        <th style=\"padding-left: 1em; padding-right: 1em; text-align: center\">Predict Positive</th>\n",
       "    </tr>\n",
       "    <tr>\n",
       "        <td style=\"padding-left: 1em; padding-right: 1em; text-align: center; vertical-align: top\">Positive</td>\n",
       "        <td style=\"padding-left: 1em; padding-right: 1em; text-align: center; vertical-align: top\">253</td>\n",
       "        <td style=\"padding-left: 1em; padding-right: 1em; text-align: center; vertical-align: top\">2303</td>\n",
       "    </tr>\n",
       "    <tr>\n",
       "        <td style=\"padding-left: 1em; padding-right: 1em; text-align: center; vertical-align: top\">Negative</td>\n",
       "        <td style=\"padding-left: 1em; padding-right: 1em; text-align: center; vertical-align: top\">2120</td>\n",
       "        <td style=\"padding-left: 1em; padding-right: 1em; text-align: center; vertical-align: top\">324</td>\n",
       "    </tr>\n",
       "</table>\n",
       "[2 rows x 3 columns]<br/>\n",
       "</div>"
      ],
      "text/plain": [
       "Columns:\n",
       "\tModel 1\tstr\n",
       "\tPredict Negative\tint\n",
       "\tPredict Positive\tint\n",
       "\n",
       "Rows: 2\n",
       "\n",
       "Data:\n",
       "+----------+------------------+------------------+\n",
       "| Model 1  | Predict Negative | Predict Positive |\n",
       "+----------+------------------+------------------+\n",
       "| Positive |       253        |       2303       |\n",
       "| Negative |       2120       |       324        |\n",
       "+----------+------------------+------------------+\n",
       "[2 rows x 3 columns]"
      ]
     },
     "execution_count": 18,
     "metadata": {},
     "output_type": "execute_result"
    }
   ],
   "source": [
    "# Creating a dictionary for model 1 and its positive/negative.\n",
    "datadict_1 = {'Model 1': ['Positive','Negative'], 'Predict Positive':[cm_1['count'][1],cm_1['count'][3]], 'Predict Negative':[cm_1['count'][2],cm_1['count'][0]]}\n",
    "\n",
    "# Turning it into a data frame. \n",
    "dt_1 = tc.SFrame(datadict_1)\n",
    "\n",
    "# Showing the data frame. \n",
    "dt_1"
   ]
  },
  {
   "cell_type": "code",
   "execution_count": 19,
   "id": "19174c53-026d-4b8e-9106-a720894a9768",
   "metadata": {},
   "outputs": [
    {
     "data": {
      "text/html": [
       "<div style=\"max-height:1000px;max-width:1500px;overflow:auto;\"><table frame=\"box\" rules=\"cols\">\n",
       "    <tr>\n",
       "        <th style=\"padding-left: 1em; padding-right: 1em; text-align: center\">Model 2</th>\n",
       "        <th style=\"padding-left: 1em; padding-right: 1em; text-align: center\">Predict Negative</th>\n",
       "        <th style=\"padding-left: 1em; padding-right: 1em; text-align: center\">Predict Positive</th>\n",
       "    </tr>\n",
       "    <tr>\n",
       "        <td style=\"padding-left: 1em; padding-right: 1em; text-align: center; vertical-align: top\">Positive</td>\n",
       "        <td style=\"padding-left: 1em; padding-right: 1em; text-align: center; vertical-align: top\">360</td>\n",
       "        <td style=\"padding-left: 1em; padding-right: 1em; text-align: center; vertical-align: top\">2196</td>\n",
       "    </tr>\n",
       "    <tr>\n",
       "        <td style=\"padding-left: 1em; padding-right: 1em; text-align: center; vertical-align: top\">Negative</td>\n",
       "        <td style=\"padding-left: 1em; padding-right: 1em; text-align: center; vertical-align: top\">2045</td>\n",
       "        <td style=\"padding-left: 1em; padding-right: 1em; text-align: center; vertical-align: top\">399</td>\n",
       "    </tr>\n",
       "</table>\n",
       "[2 rows x 3 columns]<br/>\n",
       "</div>"
      ],
      "text/plain": [
       "Columns:\n",
       "\tModel 2\tstr\n",
       "\tPredict Negative\tint\n",
       "\tPredict Positive\tint\n",
       "\n",
       "Rows: 2\n",
       "\n",
       "Data:\n",
       "+----------+------------------+------------------+\n",
       "| Model 2  | Predict Negative | Predict Positive |\n",
       "+----------+------------------+------------------+\n",
       "| Positive |       360        |       2196       |\n",
       "| Negative |       2045       |       399        |\n",
       "+----------+------------------+------------------+\n",
       "[2 rows x 3 columns]"
      ]
     },
     "execution_count": 19,
     "metadata": {},
     "output_type": "execute_result"
    }
   ],
   "source": [
    "# Creating a dictionary for model 2 and its positive/negative. \n",
    "datadict_2 = {'Model 2': ['Positive','Negative'], 'Predict Positive':[cm_2['count'][1],cm_2['count'][3]], 'Predict Negative':[cm_2['count'][2],cm_2['count'][0]]}\n",
    "\n",
    "# Turning it into a data frame. \n",
    "dt_2 = tc.SFrame(datadict_2)\n",
    "\n",
    "# Showing the data framne. \n",
    "dt_2"
   ]
  },
  {
   "cell_type": "markdown",
   "id": "40dd4660-317d-4405-9693-a056078fd223",
   "metadata": {},
   "source": [
    "### iv) calculate recall, precision, sensitivity and specificity on the testing set;  "
   ]
  },
  {
   "cell_type": "markdown",
   "id": "d9618bd2-b6c4-469e-b5e9-4bec8f670d06",
   "metadata": {},
   "source": [
    "**Model 1  ;  Model 2** <br>\n",
    "$TP = 2303 ; \\quad TP = 2196$\n",
    "\n",
    "$FP = 324 ; \\quad FP = 399$\n",
    "\n",
    "$TN = 2120 ; \\quad TN = 2045$\n",
    "\n",
    "$FN = 253 ; \\quad FN = 360$"
   ]
  },
  {
   "cell_type": "markdown",
   "id": "f59b883a-8e62-4f3a-a166-441de00100f6",
   "metadata": {},
   "source": [
    "**Model 1:**"
   ]
  },
  {
   "cell_type": "code",
   "execution_count": 20,
   "id": "066023a4-9c96-4089-bb5e-0c15556d5ca9",
   "metadata": {},
   "outputs": [
    {
     "name": "stdout",
     "output_type": "stream",
     "text": [
      "Recall = Sensitivity: 0.901017214397496\n",
      "Precision: 0.8766653977921584\n"
     ]
    }
   ],
   "source": [
    "# Print the recall score for model 1\n",
    "print('Recall = Sensitivity:', tc.evaluation.recall(testing['sentiment'], prediction_1))\n",
    "# Print the precision score for model 1\n",
    "print('Precision:', tc.evaluation.precision(testing['sentiment'], prediction_1))"
   ]
  },
  {
   "cell_type": "markdown",
   "id": "fbd4dcf4-a85e-426e-b1d5-9e5a5f1e758b",
   "metadata": {},
   "source": [
    "*Specificity* = $\\frac{TN}{TN+FP} = \\frac{2120}{2120+324} = 86.74\\%$"
   ]
  },
  {
   "cell_type": "markdown",
   "id": "df8bf028-0b7e-454f-94e9-3b67e0a7189b",
   "metadata": {},
   "source": [
    "**Model 2:**"
   ]
  },
  {
   "cell_type": "code",
   "execution_count": 21,
   "id": "368c23ff-2ad9-4cb0-9314-47638c0ae592",
   "metadata": {},
   "outputs": [
    {
     "name": "stdout",
     "output_type": "stream",
     "text": [
      "Recall = Sensitivity: 0.8591549295774648\n",
      "Precision: 0.846242774566474\n"
     ]
    }
   ],
   "source": [
    "# Prints the recall score for model 2\n",
    "print('Recall = Sensitivity:', tc.evaluation.recall(testing['sentiment'], prediction_2))\n",
    "# Print the precision score for model 1\n",
    "print('Precision:', tc.evaluation.precision(testing['sentiment'], prediction_2))"
   ]
  },
  {
   "cell_type": "markdown",
   "id": "d06c9cb6-db77-4a4a-9447-687c81b9e077",
   "metadata": {},
   "source": [
    "*Specificity* = $\\frac{TN}{TN+FP} = \\frac{2045}{2045+399} = 83.67\\%$"
   ]
  },
  {
   "cell_type": "markdown",
   "id": "d6a6e10f-f6d6-4ecb-af64-be93ff1e5cf1",
   "metadata": {},
   "source": [
    "### v) calculate the $F_{\\beta}$ score on the testing set using the value of ${\\beta}$ you choose above."
   ]
  },
  {
   "cell_type": "markdown",
   "id": "43838d3b-8eeb-4059-bd3c-f5e70e135b9a",
   "metadata": {},
   "source": [
    "**The $F_{\\beta}$ formula.**<br> \n",
    "Where, precision = $P$, recall = $R$ <br>\n",
    "$P, R>=0, {\\beta}>0$ <br><br>\n",
    "$F_{\\beta}(P, R) = \\frac{(1+\\beta^2)PR}{\\beta^2P+R}$ <br> \n",
    "If we consider recall and precision equally, we need ${\\beta}=1$."
   ]
  },
  {
   "cell_type": "code",
   "execution_count": 22,
   "id": "7ffdab7c-1ecb-48df-8001-f19821dbedd1",
   "metadata": {},
   "outputs": [
    {
     "name": "stdout",
     "output_type": "stream",
     "text": [
      "Model 1: F1 = 0.8886745128304071\n"
     ]
    }
   ],
   "source": [
    "# Prints the f (beta=1) score for model 1 on testing set\n",
    "print('Model 1: F1 =', tc.evaluation.fbeta_score(testing['sentiment'], prediction_1, beta=1.0))"
   ]
  },
  {
   "cell_type": "code",
   "execution_count": 23,
   "id": "361f939d-1d0c-43f2-8811-3a750f800d38",
   "metadata": {},
   "outputs": [
    {
     "name": "stdout",
     "output_type": "stream",
     "text": [
      "Model 2: F1 = 0.8526499708794409\n"
     ]
    }
   ],
   "source": [
    "# Prints the f (beta=1) score for model 2 on testing set\n",
    "print('Model 2: F1 =', tc.evaluation.fbeta_score(testing['sentiment'], prediction_2, beta=1.0))"
   ]
  },
  {
   "cell_type": "markdown",
   "id": "6959f3c9-3f5e-4ecb-90af-a458a75c7ea1",
   "metadata": {
    "tags": []
   },
   "source": [
    "### vi) using the testing set, calculate points for and plot the ROC curve (use turicreate.evaluation.roc_curve() and then matplotlib.pyplot());"
   ]
  },
  {
   "cell_type": "code",
   "execution_count": 24,
   "id": "df9cae0c-9f75-47b6-bb17-e3fdb8d83797",
   "metadata": {},
   "outputs": [
    {
     "data": {
      "text/html": [
       "<div style=\"max-height:1000px;max-width:1500px;overflow:auto;\"><table frame=\"box\" rules=\"cols\">\n",
       "    <tr>\n",
       "        <th style=\"padding-left: 1em; padding-right: 1em; text-align: center\">review</th>\n",
       "        <th style=\"padding-left: 1em; padding-right: 1em; text-align: center\">sentiment</th>\n",
       "        <th style=\"padding-left: 1em; padding-right: 1em; text-align: center\">cleaned</th>\n",
       "        <th style=\"padding-left: 1em; padding-right: 1em; text-align: center\">words</th>\n",
       "    </tr>\n",
       "    <tr>\n",
       "        <td style=\"padding-left: 1em; padding-right: 1em; text-align: center; vertical-align: top\">Kind of drawn in by the<br>erotic scenes, only to ...</td>\n",
       "        <td style=\"padding-left: 1em; padding-right: 1em; text-align: center; vertical-align: top\">negative</td>\n",
       "        <td style=\"padding-left: 1em; padding-right: 1em; text-align: center; vertical-align: top\">kind  drawn    erotic<br>scenes    realize ...</td>\n",
       "        <td style=\"padding-left: 1em; padding-right: 1em; text-align: center; vertical-align: top\">{&#x27;starving&#x27;: 1.0,<br>&#x27;spent&#x27;: 1.0, &#x27;money&#x27;: ...</td>\n",
       "    </tr>\n",
       "    <tr>\n",
       "        <td style=\"padding-left: 1em; padding-right: 1em; text-align: center; vertical-align: top\">&#x27;War movie&#x27; is a<br>Hollywood genre that has ...</td>\n",
       "        <td style=\"padding-left: 1em; padding-right: 1em; text-align: center; vertical-align: top\">positive</td>\n",
       "        <td style=\"padding-left: 1em; padding-right: 1em; text-align: center; vertical-align: top\"> war movie    hollywood<br>genre      redone   t ...</td>\n",
       "        <td style=\"padding-left: 1em; padding-right: 1em; text-align: center; vertical-align: top\">{&#x27;altogether&#x27;: 1.0,<br>&#x27;repercussions&#x27;: 1.0, ...</td>\n",
       "    </tr>\n",
       "    <tr>\n",
       "        <td style=\"padding-left: 1em; padding-right: 1em; text-align: center; vertical-align: top\">One of the most<br>significant quotes from ...</td>\n",
       "        <td style=\"padding-left: 1em; padding-right: 1em; text-align: center; vertical-align: top\">positive</td>\n",
       "        <td style=\"padding-left: 1em; padding-right: 1em; text-align: center; vertical-align: top\">     quotes   entire film<br>pronounced halfway ...</td>\n",
       "        <td style=\"padding-left: 1em; padding-right: 1em; text-align: center; vertical-align: top\">{&#x27;loss&#x27;: 1.0, &#x27;style&#x27;:<br>1.0, &#x27;bella&#x27;: 1.0, ...</td>\n",
       "    </tr>\n",
       "    <tr>\n",
       "        <td style=\"padding-left: 1em; padding-right: 1em; text-align: center; vertical-align: top\">This movie is based on<br>the book, &quot;A Many ...</td>\n",
       "        <td style=\"padding-left: 1em; padding-right: 1em; text-align: center; vertical-align: top\">positive</td>\n",
       "        <td style=\"padding-left: 1em; padding-right: 1em; text-align: center; vertical-align: top\"> movie  based   book<br>splendored    han suyin ...</td>\n",
       "        <td style=\"padding-left: 1em; padding-right: 1em; text-align: center; vertical-align: top\">{&#x27;hollywood&#x27;: 1.0,<br>&#x27;enjoy&#x27;: 1.0, &#x27;jerker&#x27;: ...</td>\n",
       "    </tr>\n",
       "    <tr>\n",
       "        <td style=\"padding-left: 1em; padding-right: 1em; text-align: center; vertical-align: top\">As a disclaimer, I&#x27;ve<br>seen the movie 5-6 times ...</td>\n",
       "        <td style=\"padding-left: 1em; padding-right: 1em; text-align: center; vertical-align: top\">positive</td>\n",
       "        <td style=\"padding-left: 1em; padding-right: 1em; text-align: center; vertical-align: top\">  disclaimer      movie<br>times     years ...</td>\n",
       "        <td style=\"padding-left: 1em; padding-right: 1em; text-align: center; vertical-align: top\">{&#x27;enjoyable&#x27;: 1.0,<br>&#x27;impeccable&#x27;: 1.0, ...</td>\n",
       "    </tr>\n",
       "    <tr>\n",
       "        <td style=\"padding-left: 1em; padding-right: 1em; text-align: center; vertical-align: top\">How this film could be<br>classified as Drama, I ...</td>\n",
       "        <td style=\"padding-left: 1em; padding-right: 1em; text-align: center; vertical-align: top\">negative</td>\n",
       "        <td style=\"padding-left: 1em; padding-right: 1em; text-align: center; vertical-align: top\">  film   classified<br>drama     idea     john ...</td>\n",
       "        <td style=\"padding-left: 1em; padding-right: 1em; text-align: center; vertical-align: top\">{&#x27;taste&#x27;: 1.0,<br>&#x27;offended&#x27;: 1.0, &#x27;fact&#x27;: ...</td>\n",
       "    </tr>\n",
       "    <tr>\n",
       "        <td style=\"padding-left: 1em; padding-right: 1em; text-align: center; vertical-align: top\">Preston Sturgis&#x27; THE<br>POWER AND THE GLORY was ...</td>\n",
       "        <td style=\"padding-left: 1em; padding-right: 1em; text-align: center; vertical-align: top\">positive</td>\n",
       "        <td style=\"padding-left: 1em; padding-right: 1em; text-align: center; vertical-align: top\">preston sturgis   power<br>glory  unseen   public ...</td>\n",
       "        <td style=\"padding-left: 1em; padding-right: 1em; text-align: center; vertical-align: top\">{&#x27;depression&#x27;: 1.0,<br>&#x27;social&#x27;: 1.0, &#x27;reali ...</td>\n",
       "    </tr>\n",
       "    <tr>\n",
       "        <td style=\"padding-left: 1em; padding-right: 1em; text-align: center; vertical-align: top\">The 33 percent of the<br>nations nitwits that ...</td>\n",
       "        <td style=\"padding-left: 1em; padding-right: 1em; text-align: center; vertical-align: top\">negative</td>\n",
       "        <td style=\"padding-left: 1em; padding-right: 1em; text-align: center; vertical-align: top\">  percent   nations<br>nitwits   support   bush ...</td>\n",
       "        <td style=\"padding-left: 1em; padding-right: 1em; text-align: center; vertical-align: top\">{&#x27;guillotine&#x27;: 1.0,<br>&#x27;jaw&#x27;: 1.0, &#x27;ends&#x27;: 1.0, ...</td>\n",
       "    </tr>\n",
       "    <tr>\n",
       "        <td style=\"padding-left: 1em; padding-right: 1em; text-align: center; vertical-align: top\">Busty beauty Stacie<br>Randall plays PVC clad, ...</td>\n",
       "        <td style=\"padding-left: 1em; padding-right: 1em; text-align: center; vertical-align: top\">negative</td>\n",
       "        <td style=\"padding-left: 1em; padding-right: 1em; text-align: center; vertical-align: top\">busty beauty stacie<br>randall plays pvc clad ...</td>\n",
       "        <td style=\"padding-left: 1em; padding-right: 1em; text-align: center; vertical-align: top\">{&#x27;quotient&#x27;: 1.0, &#x27;high&#x27;:<br>1.0, &#x27;earlier&#x27;: 1.0, ...</td>\n",
       "    </tr>\n",
       "    <tr>\n",
       "        <td style=\"padding-left: 1em; padding-right: 1em; text-align: center; vertical-align: top\">I thought that Mukhsin<br>has been wonderfully ...</td>\n",
       "        <td style=\"padding-left: 1em; padding-right: 1em; text-align: center; vertical-align: top\">positive</td>\n",
       "        <td style=\"padding-left: 1em; padding-right: 1em; text-align: center; vertical-align: top\"> thought  mukhsin<br>wonderfully written ...</td>\n",
       "        <td style=\"padding-left: 1em; padding-right: 1em; text-align: center; vertical-align: top\">{&#x27;exceeded&#x27;: 1.0,<br>&#x27;reached&#x27;: 1.0, &#x27;isn&#x27;: ...</td>\n",
       "    </tr>\n",
       "</table>\n",
       "<table frame=\"box\" rules=\"cols\">\n",
       "    <tr>\n",
       "        <th style=\"padding-left: 1em; padding-right: 1em; text-align: center\">predictions1</th>\n",
       "        <th style=\"padding-left: 1em; padding-right: 1em; text-align: center\">predictions2</th>\n",
       "    </tr>\n",
       "    <tr>\n",
       "        <td style=\"padding-left: 1em; padding-right: 1em; text-align: center; vertical-align: top\">0.010671334966103693</td>\n",
       "        <td style=\"padding-left: 1em; padding-right: 1em; text-align: center; vertical-align: top\">1.557864546961594e-05</td>\n",
       "    </tr>\n",
       "    <tr>\n",
       "        <td style=\"padding-left: 1em; padding-right: 1em; text-align: center; vertical-align: top\">0.9999136579679574</td>\n",
       "        <td style=\"padding-left: 1em; padding-right: 1em; text-align: center; vertical-align: top\">0.9999999999999958</td>\n",
       "    </tr>\n",
       "    <tr>\n",
       "        <td style=\"padding-left: 1em; padding-right: 1em; text-align: center; vertical-align: top\">0.9878158748405655</td>\n",
       "        <td style=\"padding-left: 1em; padding-right: 1em; text-align: center; vertical-align: top\">0.9999999999998992</td>\n",
       "    </tr>\n",
       "    <tr>\n",
       "        <td style=\"padding-left: 1em; padding-right: 1em; text-align: center; vertical-align: top\">0.9974309659707117</td>\n",
       "        <td style=\"padding-left: 1em; padding-right: 1em; text-align: center; vertical-align: top\">0.9999999312390693</td>\n",
       "    </tr>\n",
       "    <tr>\n",
       "        <td style=\"padding-left: 1em; padding-right: 1em; text-align: center; vertical-align: top\">0.44504059851966477</td>\n",
       "        <td style=\"padding-left: 1em; padding-right: 1em; text-align: center; vertical-align: top\">0.9999925224657129</td>\n",
       "    </tr>\n",
       "    <tr>\n",
       "        <td style=\"padding-left: 1em; padding-right: 1em; text-align: center; vertical-align: top\">0.6160404684202587</td>\n",
       "        <td style=\"padding-left: 1em; padding-right: 1em; text-align: center; vertical-align: top\">1.1677843566864868e-06</td>\n",
       "    </tr>\n",
       "    <tr>\n",
       "        <td style=\"padding-left: 1em; padding-right: 1em; text-align: center; vertical-align: top\">0.9912454816321263</td>\n",
       "        <td style=\"padding-left: 1em; padding-right: 1em; text-align: center; vertical-align: top\">0.003276035482057056</td>\n",
       "    </tr>\n",
       "    <tr>\n",
       "        <td style=\"padding-left: 1em; padding-right: 1em; text-align: center; vertical-align: top\">0.41836174945301163</td>\n",
       "        <td style=\"padding-left: 1em; padding-right: 1em; text-align: center; vertical-align: top\">0.48732274031891226</td>\n",
       "    </tr>\n",
       "    <tr>\n",
       "        <td style=\"padding-left: 1em; padding-right: 1em; text-align: center; vertical-align: top\">0.42605493740482586</td>\n",
       "        <td style=\"padding-left: 1em; padding-right: 1em; text-align: center; vertical-align: top\">9.4191532283908e-06</td>\n",
       "    </tr>\n",
       "    <tr>\n",
       "        <td style=\"padding-left: 1em; padding-right: 1em; text-align: center; vertical-align: top\">0.15388701795129064</td>\n",
       "        <td style=\"padding-left: 1em; padding-right: 1em; text-align: center; vertical-align: top\">0.20707319576804273</td>\n",
       "    </tr>\n",
       "</table>\n",
       "[5000 rows x 6 columns]<br/>Note: Only the head of the SFrame is printed.<br/>You can use print_rows(num_rows=m, num_columns=n) to print more rows and columns.\n",
       "</div>"
      ],
      "text/plain": [
       "Columns:\n",
       "\treview\tstr\n",
       "\tsentiment\tstr\n",
       "\tcleaned\tstr\n",
       "\twords\tdict\n",
       "\tpredictions1\tfloat\n",
       "\tpredictions2\tfloat\n",
       "\n",
       "Rows: 5000\n",
       "\n",
       "Data:\n",
       "+-------------------------------+-----------+-------------------------------+\n",
       "|             review            | sentiment |            cleaned            |\n",
       "+-------------------------------+-----------+-------------------------------+\n",
       "| Kind of drawn in by the er... |  negative | kind  drawn    erotic scen... |\n",
       "| 'War movie' is a Hollywood... |  positive |  war movie    hollywood ge... |\n",
       "| One of the most significan... |  positive |      quotes   entire film ... |\n",
       "| This movie is based on the... |  positive |  movie  based   book     s... |\n",
       "| As a disclaimer, I've seen... |  positive |   disclaimer      movie   ... |\n",
       "| How this film could be cla... |  negative |   film   classified  drama... |\n",
       "| Preston Sturgis' THE POWER... |  positive | preston sturgis   power   ... |\n",
       "| The 33 percent of the nati... |  negative |   percent   nations nitwit... |\n",
       "| Busty beauty Stacie Randal... |  negative | busty beauty stacie randal... |\n",
       "| I thought that Mukhsin has... |  positive |  thought  mukhsin   wonder... |\n",
       "+-------------------------------+-----------+-------------------------------+\n",
       "+-------------------------------+----------------------+------------------------+\n",
       "|             words             |     predictions1     |      predictions2      |\n",
       "+-------------------------------+----------------------+------------------------+\n",
       "| {'starving': 1.0, 'spent':... | 0.010671334966103693 | 1.557864546961594e-05  |\n",
       "| {'altogether': 1.0, 'reper... |  0.9999136579679574  |   0.9999999999999958   |\n",
       "| {'loss': 1.0, 'style': 1.0... |  0.9878158748405655  |   0.9999999999998992   |\n",
       "| {'hollywood': 1.0, 'enjoy'... |  0.9974309659707117  |   0.9999999312390693   |\n",
       "| {'enjoyable': 1.0, 'impecc... | 0.44504059851966477  |   0.9999925224657129   |\n",
       "| {'taste': 1.0, 'offended':... |  0.6160404684202587  | 1.1677843566864868e-06 |\n",
       "| {'depression': 1.0, 'socia... |  0.9912454816321263  |  0.003276035482057056  |\n",
       "| {'guillotine': 1.0, 'jaw':... | 0.41836174945301163  |  0.48732274031891226   |\n",
       "| {'quotient': 1.0, 'high': ... | 0.42605493740482586  |  9.4191532283908e-06   |\n",
       "| {'exceeded': 1.0, 'reached... | 0.15388701795129064  |  0.20707319576804273   |\n",
       "+-------------------------------+----------------------+------------------------+\n",
       "[5000 rows x 6 columns]\n",
       "Note: Only the head of the SFrame is printed.\n",
       "You can use print_rows(num_rows=m, num_columns=n) to print more rows and columns."
      ]
     },
     "execution_count": 24,
     "metadata": {},
     "output_type": "execute_result"
    }
   ],
   "source": [
    "# Generating the predictions (probability) for the testing data using model 1\n",
    "# Predictions are stored in a new column called predictions1\n",
    "testing['predictions1'] = model_1.predict(testing, output_type='probability')\n",
    "\n",
    "# Generating the predictions (probability) for the testing data using model 2\n",
    "# Predictions are stored in a new column called predictions2\n",
    "testing['predictions2'] = model_2.predict(testing, output_type='probability')\n",
    "testing"
   ]
  },
  {
   "cell_type": "code",
   "execution_count": 25,
   "id": "a2940fac-9906-4f4b-8b92-8d7a3f7ca803",
   "metadata": {},
   "outputs": [
    {
     "data": {
      "text/html": [
       "<div style=\"max-height:1000px;max-width:1500px;overflow:auto;\"><table frame=\"box\" rules=\"cols\">\n",
       "    <tr>\n",
       "        <th style=\"padding-left: 1em; padding-right: 1em; text-align: center\">threshold</th>\n",
       "        <th style=\"padding-left: 1em; padding-right: 1em; text-align: center\">fpr</th>\n",
       "        <th style=\"padding-left: 1em; padding-right: 1em; text-align: center\">tpr</th>\n",
       "        <th style=\"padding-left: 1em; padding-right: 1em; text-align: center\">p</th>\n",
       "        <th style=\"padding-left: 1em; padding-right: 1em; text-align: center\">n</th>\n",
       "    </tr>\n",
       "    <tr>\n",
       "        <td style=\"padding-left: 1em; padding-right: 1em; text-align: center; vertical-align: top\">0.0</td>\n",
       "        <td style=\"padding-left: 1em; padding-right: 1em; text-align: center; vertical-align: top\">1.0</td>\n",
       "        <td style=\"padding-left: 1em; padding-right: 1em; text-align: center; vertical-align: top\">1.0</td>\n",
       "        <td style=\"padding-left: 1em; padding-right: 1em; text-align: center; vertical-align: top\">2556</td>\n",
       "        <td style=\"padding-left: 1em; padding-right: 1em; text-align: center; vertical-align: top\">2444</td>\n",
       "    </tr>\n",
       "    <tr>\n",
       "        <td style=\"padding-left: 1em; padding-right: 1em; text-align: center; vertical-align: top\">0.001</td>\n",
       "        <td style=\"padding-left: 1em; padding-right: 1em; text-align: center; vertical-align: top\">0.9063011456628478</td>\n",
       "        <td style=\"padding-left: 1em; padding-right: 1em; text-align: center; vertical-align: top\">1.0</td>\n",
       "        <td style=\"padding-left: 1em; padding-right: 1em; text-align: center; vertical-align: top\">2556</td>\n",
       "        <td style=\"padding-left: 1em; padding-right: 1em; text-align: center; vertical-align: top\">2444</td>\n",
       "    </tr>\n",
       "    <tr>\n",
       "        <td style=\"padding-left: 1em; padding-right: 1em; text-align: center; vertical-align: top\">0.002</td>\n",
       "        <td style=\"padding-left: 1em; padding-right: 1em; text-align: center; vertical-align: top\">0.8768412438625205</td>\n",
       "        <td style=\"padding-left: 1em; padding-right: 1em; text-align: center; vertical-align: top\">1.0</td>\n",
       "        <td style=\"padding-left: 1em; padding-right: 1em; text-align: center; vertical-align: top\">2556</td>\n",
       "        <td style=\"padding-left: 1em; padding-right: 1em; text-align: center; vertical-align: top\">2444</td>\n",
       "    </tr>\n",
       "    <tr>\n",
       "        <td style=\"padding-left: 1em; padding-right: 1em; text-align: center; vertical-align: top\">0.003</td>\n",
       "        <td style=\"padding-left: 1em; padding-right: 1em; text-align: center; vertical-align: top\">0.8531096563011457</td>\n",
       "        <td style=\"padding-left: 1em; padding-right: 1em; text-align: center; vertical-align: top\">0.9996087636932708</td>\n",
       "        <td style=\"padding-left: 1em; padding-right: 1em; text-align: center; vertical-align: top\">2556</td>\n",
       "        <td style=\"padding-left: 1em; padding-right: 1em; text-align: center; vertical-align: top\">2444</td>\n",
       "    </tr>\n",
       "    <tr>\n",
       "        <td style=\"padding-left: 1em; padding-right: 1em; text-align: center; vertical-align: top\">0.004</td>\n",
       "        <td style=\"padding-left: 1em; padding-right: 1em; text-align: center; vertical-align: top\">0.8351063829787234</td>\n",
       "        <td style=\"padding-left: 1em; padding-right: 1em; text-align: center; vertical-align: top\">0.9996087636932708</td>\n",
       "        <td style=\"padding-left: 1em; padding-right: 1em; text-align: center; vertical-align: top\">2556</td>\n",
       "        <td style=\"padding-left: 1em; padding-right: 1em; text-align: center; vertical-align: top\">2444</td>\n",
       "    </tr>\n",
       "    <tr>\n",
       "        <td style=\"padding-left: 1em; padding-right: 1em; text-align: center; vertical-align: top\">0.005</td>\n",
       "        <td style=\"padding-left: 1em; padding-right: 1em; text-align: center; vertical-align: top\">0.8211947626841244</td>\n",
       "        <td style=\"padding-left: 1em; padding-right: 1em; text-align: center; vertical-align: top\">0.9996087636932708</td>\n",
       "        <td style=\"padding-left: 1em; padding-right: 1em; text-align: center; vertical-align: top\">2556</td>\n",
       "        <td style=\"padding-left: 1em; padding-right: 1em; text-align: center; vertical-align: top\">2444</td>\n",
       "    </tr>\n",
       "    <tr>\n",
       "        <td style=\"padding-left: 1em; padding-right: 1em; text-align: center; vertical-align: top\">0.006</td>\n",
       "        <td style=\"padding-left: 1em; padding-right: 1em; text-align: center; vertical-align: top\">0.8072831423895254</td>\n",
       "        <td style=\"padding-left: 1em; padding-right: 1em; text-align: center; vertical-align: top\">0.9992175273865415</td>\n",
       "        <td style=\"padding-left: 1em; padding-right: 1em; text-align: center; vertical-align: top\">2556</td>\n",
       "        <td style=\"padding-left: 1em; padding-right: 1em; text-align: center; vertical-align: top\">2444</td>\n",
       "    </tr>\n",
       "    <tr>\n",
       "        <td style=\"padding-left: 1em; padding-right: 1em; text-align: center; vertical-align: top\">0.007</td>\n",
       "        <td style=\"padding-left: 1em; padding-right: 1em; text-align: center; vertical-align: top\">0.794189852700491</td>\n",
       "        <td style=\"padding-left: 1em; padding-right: 1em; text-align: center; vertical-align: top\">0.9988262910798122</td>\n",
       "        <td style=\"padding-left: 1em; padding-right: 1em; text-align: center; vertical-align: top\">2556</td>\n",
       "        <td style=\"padding-left: 1em; padding-right: 1em; text-align: center; vertical-align: top\">2444</td>\n",
       "    </tr>\n",
       "    <tr>\n",
       "        <td style=\"padding-left: 1em; padding-right: 1em; text-align: center; vertical-align: top\">0.008</td>\n",
       "        <td style=\"padding-left: 1em; padding-right: 1em; text-align: center; vertical-align: top\">0.7794599018003273</td>\n",
       "        <td style=\"padding-left: 1em; padding-right: 1em; text-align: center; vertical-align: top\">0.9984350547730829</td>\n",
       "        <td style=\"padding-left: 1em; padding-right: 1em; text-align: center; vertical-align: top\">2556</td>\n",
       "        <td style=\"padding-left: 1em; padding-right: 1em; text-align: center; vertical-align: top\">2444</td>\n",
       "    </tr>\n",
       "    <tr>\n",
       "        <td style=\"padding-left: 1em; padding-right: 1em; text-align: center; vertical-align: top\">0.009</td>\n",
       "        <td style=\"padding-left: 1em; padding-right: 1em; text-align: center; vertical-align: top\">0.7696399345335515</td>\n",
       "        <td style=\"padding-left: 1em; padding-right: 1em; text-align: center; vertical-align: top\">0.9984350547730829</td>\n",
       "        <td style=\"padding-left: 1em; padding-right: 1em; text-align: center; vertical-align: top\">2556</td>\n",
       "        <td style=\"padding-left: 1em; padding-right: 1em; text-align: center; vertical-align: top\">2444</td>\n",
       "    </tr>\n",
       "</table>\n",
       "[1001 rows x 5 columns]<br/>Note: Only the head of the SFrame is printed.<br/>You can use print_rows(num_rows=m, num_columns=n) to print more rows and columns.\n",
       "</div>"
      ],
      "text/plain": [
       "Columns:\n",
       "\tthreshold\tfloat\n",
       "\tfpr\tfloat\n",
       "\ttpr\tfloat\n",
       "\tp\tint\n",
       "\tn\tint\n",
       "\n",
       "Rows: 1001\n",
       "\n",
       "Data:\n",
       "+-----------+--------------------+--------------------+------+------+\n",
       "| threshold |        fpr         |        tpr         |  p   |  n   |\n",
       "+-----------+--------------------+--------------------+------+------+\n",
       "|    0.0    |        1.0         |        1.0         | 2556 | 2444 |\n",
       "|   0.001   | 0.9063011456628478 |        1.0         | 2556 | 2444 |\n",
       "|   0.002   | 0.8768412438625205 |        1.0         | 2556 | 2444 |\n",
       "|   0.003   | 0.8531096563011457 | 0.9996087636932708 | 2556 | 2444 |\n",
       "|   0.004   | 0.8351063829787234 | 0.9996087636932708 | 2556 | 2444 |\n",
       "|   0.005   | 0.8211947626841244 | 0.9996087636932708 | 2556 | 2444 |\n",
       "|   0.006   | 0.8072831423895254 | 0.9992175273865415 | 2556 | 2444 |\n",
       "|   0.007   | 0.794189852700491  | 0.9988262910798122 | 2556 | 2444 |\n",
       "|   0.008   | 0.7794599018003273 | 0.9984350547730829 | 2556 | 2444 |\n",
       "|   0.009   | 0.7696399345335515 | 0.9984350547730829 | 2556 | 2444 |\n",
       "+-----------+--------------------+--------------------+------+------+\n",
       "[1001 rows x 5 columns]\n",
       "Note: Only the head of the SFrame is printed.\n",
       "You can use print_rows(num_rows=m, num_columns=n) to print more rows and columns."
      ]
     },
     "execution_count": 25,
     "metadata": {},
     "output_type": "execute_result"
    }
   ],
   "source": [
    "# calling the ROC curve method from the evaluation module ,for model1\n",
    "roc_curve_1 = tc.evaluation.roc_curve(testing['sentiment'],testing['predictions1'])\n",
    "roc_curve_1"
   ]
  },
  {
   "cell_type": "code",
   "execution_count": 26,
   "id": "0f0c2870-60c4-4416-b44a-ba03c618e999",
   "metadata": {},
   "outputs": [
    {
     "data": {
      "text/html": [
       "<div style=\"max-height:1000px;max-width:1500px;overflow:auto;\"><table frame=\"box\" rules=\"cols\">\n",
       "    <tr>\n",
       "        <th style=\"padding-left: 1em; padding-right: 1em; text-align: center\">threshold</th>\n",
       "        <th style=\"padding-left: 1em; padding-right: 1em; text-align: center\">fpr</th>\n",
       "        <th style=\"padding-left: 1em; padding-right: 1em; text-align: center\">tpr</th>\n",
       "        <th style=\"padding-left: 1em; padding-right: 1em; text-align: center\">p</th>\n",
       "        <th style=\"padding-left: 1em; padding-right: 1em; text-align: center\">n</th>\n",
       "    </tr>\n",
       "    <tr>\n",
       "        <td style=\"padding-left: 1em; padding-right: 1em; text-align: center; vertical-align: top\">0.0</td>\n",
       "        <td style=\"padding-left: 1em; padding-right: 1em; text-align: center; vertical-align: top\">1.0</td>\n",
       "        <td style=\"padding-left: 1em; padding-right: 1em; text-align: center; vertical-align: top\">1.0</td>\n",
       "        <td style=\"padding-left: 1em; padding-right: 1em; text-align: center; vertical-align: top\">2556</td>\n",
       "        <td style=\"padding-left: 1em; padding-right: 1em; text-align: center; vertical-align: top\">2444</td>\n",
       "    </tr>\n",
       "    <tr>\n",
       "        <td style=\"padding-left: 1em; padding-right: 1em; text-align: center; vertical-align: top\">0.001</td>\n",
       "        <td style=\"padding-left: 1em; padding-right: 1em; text-align: center; vertical-align: top\">0.5085924713584288</td>\n",
       "        <td style=\"padding-left: 1em; padding-right: 1em; text-align: center; vertical-align: top\">0.9737871674491393</td>\n",
       "        <td style=\"padding-left: 1em; padding-right: 1em; text-align: center; vertical-align: top\">2556</td>\n",
       "        <td style=\"padding-left: 1em; padding-right: 1em; text-align: center; vertical-align: top\">2444</td>\n",
       "    </tr>\n",
       "    <tr>\n",
       "        <td style=\"padding-left: 1em; padding-right: 1em; text-align: center; vertical-align: top\">0.002</td>\n",
       "        <td style=\"padding-left: 1em; padding-right: 1em; text-align: center; vertical-align: top\">0.47381342062193127</td>\n",
       "        <td style=\"padding-left: 1em; padding-right: 1em; text-align: center; vertical-align: top\">0.9698748043818466</td>\n",
       "        <td style=\"padding-left: 1em; padding-right: 1em; text-align: center; vertical-align: top\">2556</td>\n",
       "        <td style=\"padding-left: 1em; padding-right: 1em; text-align: center; vertical-align: top\">2444</td>\n",
       "    </tr>\n",
       "    <tr>\n",
       "        <td style=\"padding-left: 1em; padding-right: 1em; text-align: center; vertical-align: top\">0.003</td>\n",
       "        <td style=\"padding-left: 1em; padding-right: 1em; text-align: center; vertical-align: top\">0.4525368248772504</td>\n",
       "        <td style=\"padding-left: 1em; padding-right: 1em; text-align: center; vertical-align: top\">0.9671361502347418</td>\n",
       "        <td style=\"padding-left: 1em; padding-right: 1em; text-align: center; vertical-align: top\">2556</td>\n",
       "        <td style=\"padding-left: 1em; padding-right: 1em; text-align: center; vertical-align: top\">2444</td>\n",
       "    </tr>\n",
       "    <tr>\n",
       "        <td style=\"padding-left: 1em; padding-right: 1em; text-align: center; vertical-align: top\">0.004</td>\n",
       "        <td style=\"padding-left: 1em; padding-right: 1em; text-align: center; vertical-align: top\">0.43780687397708673</td>\n",
       "        <td style=\"padding-left: 1em; padding-right: 1em; text-align: center; vertical-align: top\">0.9640062597809077</td>\n",
       "        <td style=\"padding-left: 1em; padding-right: 1em; text-align: center; vertical-align: top\">2556</td>\n",
       "        <td style=\"padding-left: 1em; padding-right: 1em; text-align: center; vertical-align: top\">2444</td>\n",
       "    </tr>\n",
       "    <tr>\n",
       "        <td style=\"padding-left: 1em; padding-right: 1em; text-align: center; vertical-align: top\">0.005</td>\n",
       "        <td style=\"padding-left: 1em; padding-right: 1em; text-align: center; vertical-align: top\">0.4230769230769231</td>\n",
       "        <td style=\"padding-left: 1em; padding-right: 1em; text-align: center; vertical-align: top\">0.9624413145539906</td>\n",
       "        <td style=\"padding-left: 1em; padding-right: 1em; text-align: center; vertical-align: top\">2556</td>\n",
       "        <td style=\"padding-left: 1em; padding-right: 1em; text-align: center; vertical-align: top\">2444</td>\n",
       "    </tr>\n",
       "    <tr>\n",
       "        <td style=\"padding-left: 1em; padding-right: 1em; text-align: center; vertical-align: top\">0.006</td>\n",
       "        <td style=\"padding-left: 1em; padding-right: 1em; text-align: center; vertical-align: top\">0.41080196399345337</td>\n",
       "        <td style=\"padding-left: 1em; padding-right: 1em; text-align: center; vertical-align: top\">0.9620500782472613</td>\n",
       "        <td style=\"padding-left: 1em; padding-right: 1em; text-align: center; vertical-align: top\">2556</td>\n",
       "        <td style=\"padding-left: 1em; padding-right: 1em; text-align: center; vertical-align: top\">2444</td>\n",
       "    </tr>\n",
       "    <tr>\n",
       "        <td style=\"padding-left: 1em; padding-right: 1em; text-align: center; vertical-align: top\">0.007</td>\n",
       "        <td style=\"padding-left: 1em; padding-right: 1em; text-align: center; vertical-align: top\">0.40220949263502453</td>\n",
       "        <td style=\"padding-left: 1em; padding-right: 1em; text-align: center; vertical-align: top\">0.9604851330203443</td>\n",
       "        <td style=\"padding-left: 1em; padding-right: 1em; text-align: center; vertical-align: top\">2556</td>\n",
       "        <td style=\"padding-left: 1em; padding-right: 1em; text-align: center; vertical-align: top\">2444</td>\n",
       "    </tr>\n",
       "    <tr>\n",
       "        <td style=\"padding-left: 1em; padding-right: 1em; text-align: center; vertical-align: top\">0.008</td>\n",
       "        <td style=\"padding-left: 1em; padding-right: 1em; text-align: center; vertical-align: top\">0.395253682487725</td>\n",
       "        <td style=\"padding-left: 1em; padding-right: 1em; text-align: center; vertical-align: top\">0.9589201877934272</td>\n",
       "        <td style=\"padding-left: 1em; padding-right: 1em; text-align: center; vertical-align: top\">2556</td>\n",
       "        <td style=\"padding-left: 1em; padding-right: 1em; text-align: center; vertical-align: top\">2444</td>\n",
       "    </tr>\n",
       "    <tr>\n",
       "        <td style=\"padding-left: 1em; padding-right: 1em; text-align: center; vertical-align: top\">0.009</td>\n",
       "        <td style=\"padding-left: 1em; padding-right: 1em; text-align: center; vertical-align: top\">0.3882978723404255</td>\n",
       "        <td style=\"padding-left: 1em; padding-right: 1em; text-align: center; vertical-align: top\">0.9581377151799687</td>\n",
       "        <td style=\"padding-left: 1em; padding-right: 1em; text-align: center; vertical-align: top\">2556</td>\n",
       "        <td style=\"padding-left: 1em; padding-right: 1em; text-align: center; vertical-align: top\">2444</td>\n",
       "    </tr>\n",
       "</table>\n",
       "[1001 rows x 5 columns]<br/>Note: Only the head of the SFrame is printed.<br/>You can use print_rows(num_rows=m, num_columns=n) to print more rows and columns.\n",
       "</div>"
      ],
      "text/plain": [
       "Columns:\n",
       "\tthreshold\tfloat\n",
       "\tfpr\tfloat\n",
       "\ttpr\tfloat\n",
       "\tp\tint\n",
       "\tn\tint\n",
       "\n",
       "Rows: 1001\n",
       "\n",
       "Data:\n",
       "+-----------+---------------------+--------------------+------+------+\n",
       "| threshold |         fpr         |        tpr         |  p   |  n   |\n",
       "+-----------+---------------------+--------------------+------+------+\n",
       "|    0.0    |         1.0         |        1.0         | 2556 | 2444 |\n",
       "|   0.001   |  0.5085924713584288 | 0.9737871674491393 | 2556 | 2444 |\n",
       "|   0.002   | 0.47381342062193127 | 0.9698748043818466 | 2556 | 2444 |\n",
       "|   0.003   |  0.4525368248772504 | 0.9671361502347418 | 2556 | 2444 |\n",
       "|   0.004   | 0.43780687397708673 | 0.9640062597809077 | 2556 | 2444 |\n",
       "|   0.005   |  0.4230769230769231 | 0.9624413145539906 | 2556 | 2444 |\n",
       "|   0.006   | 0.41080196399345337 | 0.9620500782472613 | 2556 | 2444 |\n",
       "|   0.007   | 0.40220949263502453 | 0.9604851330203443 | 2556 | 2444 |\n",
       "|   0.008   |  0.395253682487725  | 0.9589201877934272 | 2556 | 2444 |\n",
       "|   0.009   |  0.3882978723404255 | 0.9581377151799687 | 2556 | 2444 |\n",
       "+-----------+---------------------+--------------------+------+------+\n",
       "[1001 rows x 5 columns]\n",
       "Note: Only the head of the SFrame is printed.\n",
       "You can use print_rows(num_rows=m, num_columns=n) to print more rows and columns."
      ]
     },
     "execution_count": 26,
     "metadata": {},
     "output_type": "execute_result"
    }
   ],
   "source": [
    "# calling the ROC curve method from the evaluation module ,for model2\n",
    "roc_curve_2 = tc.evaluation.roc_curve(testing['sentiment'],testing['predictions2'])\n",
    "roc_curve_2"
   ]
  },
  {
   "cell_type": "code",
   "execution_count": 27,
   "id": "3a553841-f16a-4721-97aa-1ac81c0b85c2",
   "metadata": {},
   "outputs": [
    {
     "data": {
      "text/plain": [
       "[<matplotlib.lines.Line2D at 0x7f67c03c3520>]"
      ]
     },
     "execution_count": 27,
     "metadata": {},
     "output_type": "execute_result"
    },
    {
     "data": {
      "image/png": "[encoded data removed]",
      "text/plain": [
       "<Figure size 640x480 with 1 Axes>"
      ]
     },
     "metadata": {},
     "output_type": "display_data"
    }
   ],
   "source": [
    "# Plotting a line plot for roc_curve 1 using Matplotlib\n",
    "plt.plot(roc_curve_1['tpr'], 1-roc_curve_1['fpr'])"
   ]
  },
  {
   "cell_type": "code",
   "execution_count": 28,
   "id": "8da783e8-acc0-4eb5-83f3-975a26737327",
   "metadata": {},
   "outputs": [
    {
     "data": {
      "text/plain": [
       "[<matplotlib.lines.Line2D at 0x7f67a03409a0>]"
      ]
     },
     "execution_count": 28,
     "metadata": {},
     "output_type": "execute_result"
    },
    {
     "data": {
      "image/png": "[encoded data removed]",
      "text/plain": [
       "<Figure size 640x480 with 1 Axes>"
      ]
     },
     "metadata": {},
     "output_type": "display_data"
    }
   ],
   "source": [
    "# Plotting a line plot for roc_curve 2 using Matplotlib\n",
    "plt.plot(roc_curve_2['tpr'], 1-roc_curve_2['fpr'])"
   ]
  },
  {
   "cell_type": "markdown",
   "id": "1d458810-6e3b-487f-8cdb-6dd49926ae52",
   "metadata": {},
   "source": [
    "### vii) calculate the AUC for the testing set"
   ]
  },
  {
   "cell_type": "code",
   "execution_count": 31,
   "id": "8c164d35-349d-4ad1-a2b4-8758f0cc39fa",
   "metadata": {},
   "outputs": [
    {
     "name": "stdout",
     "output_type": "stream",
     "text": [
      "the AUC for the testing set of Model 1: 0.9506236249100342\n"
     ]
    }
   ],
   "source": [
    "# Calculating the Area Under the Curve, to measure the performance of the model\n",
    "auc_1 = tc.evaluation.auc(testing['sentiment'], testing['predictions1'])\n",
    "print('the AUC for the testing set of Model 1:', auc_1)"
   ]
  },
  {
   "cell_type": "code",
   "execution_count": 33,
   "id": "89a245f8-e19a-455f-b45a-27bee66065f2",
   "metadata": {},
   "outputs": [
    {
     "name": "stdout",
     "output_type": "stream",
     "text": [
      "the AUC for the testing set of Model 2: 0.905670829395358\n"
     ]
    }
   ],
   "source": [
    "# Calculating the Area Under the Curve, to measure the performance of the model\n",
    "auc_2 = tc.evaluation.auc(testing['sentiment'], testing['predictions2'])\n",
    "print('the AUC for the testing set of Model 2:', auc_2)"
   ]
  },
  {
   "cell_type": "markdown",
   "id": "7134ca73-50ef-4b59-8a2b-f6ec07ddc2cb",
   "metadata": {},
   "source": [
    "### g.) Select which of your two models is the best (or declare a tie) and justify your choice."
   ]
  },
  {
   "cell_type": "markdown",
   "id": "e492eb5a-383d-4cf4-93ec-6bdab465cf83",
   "metadata": {},
   "source": [
    "### Model 1: \n",
    "**Hyperparameter:** We set L2 penalty to 0 and shut down the feature rescaling parameter, choose l1_penalty=0.01, increase the iterations to 100.\n",
    "<br>**Result(testing set):**\n",
    "<br>Recall=Sensitivity=0.901 <br>Accuracy=0.8846<br>Precision=0.8767<br>Specificity=0.8674<br>F=0.8887<br>AUC=0.9506\n",
    "<br>\n",
    "### Model 2:\n",
    "**Hyperparameter:** We shut down l1_penalty, l2_penalty, allow feature rescaling parameter to do its work, iteration set to default.\n",
    "<br>**Result(testing set):** \n",
    "<br>Recall=Sensitivity=0.8592 <br>Accuracy= 0.8482 <br>Precision=0.8462 <br>Specificity=0.8367 <br>F=0.8526 <br>AUC=0.9057"
   ]
  },
  {
   "cell_type": "markdown",
   "id": "29aa0689-3da9-4bf4-a819-c233858b2e5d",
   "metadata": {},
   "source": [
    "It is clear that the **Model 1** is better overall for our use case.\n",
    "\n",
    "First, Model 1 achieved a much better performance in terms of accuracy in training, validation, and testing set.\n",
    "\n",
    "Additionally, based on our use case, we would like our sentiment analysis model to identify positive and negative reviews equally good which means we need to build a model that values recall and precision equally. Model 1 shows a good balance on recall and precision by achieving a higher F1 score than model 2. \n",
    "\n",
    "We also need our model to achieve a good performance on sensitivity and specificity. The sensitivity is the proportion of positive reviews the model correctly classified among all the positive reviews. The specificity is the proportion of negative reviews the model correctly classified among all the negative reviews.\n",
    "We know that in the ROC curve plot, the horizontal coordinate corresponds to the sensitivity and the vertical coordinate to the specificity. We notice that Model 1 has a sharper edge than Model 2 in the ROC curve plots above which means Model 1 is more effective to distinguish between positive and negative reviews. This can further be proved by a higher AUC value Model 1 achieved than Model 2.\n",
    "\n",
    "As for the reason behind the difference in performance of the two models, we believe that by using L1 penalty, Model 1 could adjust the weights of some irrelevant words to zero and focus on more meaningful words which improves the model in general."
   ]
  }
 ],
 "metadata": {
  "kernelspec": {
   "display_name": "Python 3 (ipykernel)",
   "language": "python",
   "name": "python3"
  },
  "language_info": {
   "codemirror_mode": {
    "name": "ipython",
    "version": 3
   },
   "file_extension": ".py",
   "mimetype": "text/x-python",
   "name": "python",
   "nbconvert_exporter": "python",
   "pygments_lexer": "ipython3",
   "version": "3.8.15"
  }
 },
 "nbformat": 4,
 "nbformat_minor": 5
}
