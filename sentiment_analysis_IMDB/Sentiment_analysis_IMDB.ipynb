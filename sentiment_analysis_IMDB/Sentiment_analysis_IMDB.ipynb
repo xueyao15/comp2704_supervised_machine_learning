{
 "cells": [
  {
   "cell_type": "markdown",
   "metadata": {},
   "source": [
    "# Assignment 4 - Logistic Classifiers. \n",
    " Brendan Bowman-Komorofsky <br>\n",
    " Sheanne Joseph (Facilitator) <br> \n",
    " Xueyao Wang <br> \n",
    " Victor Wut (Evaluator)"
   ]
  },
  {
   "cell_type": "markdown",
   "metadata": {},
   "source": [
    "# Classifying IMDB movie reviews"
   ]
  },
  {
   "cell_type": "code",
   "execution_count": 41,
   "metadata": {},
   "outputs": [],
   "source": [
    "import turicreate as tc"
   ]
  },
  {
   "cell_type": "code",
   "execution_count": 42,
   "metadata": {},
   "outputs": [
    {
     "data": {
      "text/html": [
       "<pre>Finished parsing file /home/xwang111/SupervisedML/Assignment4/IMDB_Dataset.csv</pre>"
      ],
      "text/plain": [
       "Finished parsing file /home/xwang111/SupervisedML/Assignment4/IMDB_Dataset.csv"
      ]
     },
     "metadata": {},
     "output_type": "display_data"
    },
    {
     "data": {
      "text/html": [
       "<pre>Parsing completed. Parsed 100 lines in 0.354098 secs.</pre>"
      ],
      "text/plain": [
       "Parsing completed. Parsed 100 lines in 0.354098 secs."
      ]
     },
     "metadata": {},
     "output_type": "display_data"
    },
    {
     "name": "stdout",
     "output_type": "stream",
     "text": [
      "------------------------------------------------------\n",
      "Inferred types from first 100 line(s) of file as \n",
      "column_type_hints=[str,str]\n",
      "If parsing fails due to incorrect types, you can correct\n",
      "the inferred type list above and pass it to read_csv in\n",
      "the column_type_hints argument\n",
      "------------------------------------------------------\n"
     ]
    },
    {
     "data": {
      "text/html": [
       "<pre>Read 39624 lines. Lines per second: 54825.7</pre>"
      ],
      "text/plain": [
       "Read 39624 lines. Lines per second: 54825.7"
      ]
     },
     "metadata": {},
     "output_type": "display_data"
    },
    {
     "data": {
      "text/html": [
       "<pre>Finished parsing file /home/xwang111/SupervisedML/Assignment4/IMDB_Dataset.csv</pre>"
      ],
      "text/plain": [
       "Finished parsing file /home/xwang111/SupervisedML/Assignment4/IMDB_Dataset.csv"
      ]
     },
     "metadata": {},
     "output_type": "display_data"
    },
    {
     "data": {
      "text/html": [
       "<pre>Parsing completed. Parsed 50000 lines in 0.833885 secs.</pre>"
      ],
      "text/plain": [
       "Parsing completed. Parsed 50000 lines in 0.833885 secs."
      ]
     },
     "metadata": {},
     "output_type": "display_data"
    },
    {
     "data": {
      "text/html": [
       "<div style=\"max-height:1000px;max-width:1500px;overflow:auto;\"><table frame=\"box\" rules=\"cols\">\n",
       "    <tr>\n",
       "        <th style=\"padding-left: 1em; padding-right: 1em; text-align: center\">review</th>\n",
       "        <th style=\"padding-left: 1em; padding-right: 1em; text-align: center\">sentiment</th>\n",
       "    </tr>\n",
       "    <tr>\n",
       "        <td style=\"padding-left: 1em; padding-right: 1em; text-align: center; vertical-align: top\">One of the other<br>reviewers has mentioned ...</td>\n",
       "        <td style=\"padding-left: 1em; padding-right: 1em; text-align: center; vertical-align: top\">positive</td>\n",
       "    </tr>\n",
       "    <tr>\n",
       "        <td style=\"padding-left: 1em; padding-right: 1em; text-align: center; vertical-align: top\">A wonderful little<br>production. &lt;br /&gt;&lt;br ...</td>\n",
       "        <td style=\"padding-left: 1em; padding-right: 1em; text-align: center; vertical-align: top\">positive</td>\n",
       "    </tr>\n",
       "    <tr>\n",
       "        <td style=\"padding-left: 1em; padding-right: 1em; text-align: center; vertical-align: top\">I thought this was a<br>wonderful way to spend ...</td>\n",
       "        <td style=\"padding-left: 1em; padding-right: 1em; text-align: center; vertical-align: top\">positive</td>\n",
       "    </tr>\n",
       "    <tr>\n",
       "        <td style=\"padding-left: 1em; padding-right: 1em; text-align: center; vertical-align: top\">Basically there&#x27;s a<br>family where a little ...</td>\n",
       "        <td style=\"padding-left: 1em; padding-right: 1em; text-align: center; vertical-align: top\">negative</td>\n",
       "    </tr>\n",
       "    <tr>\n",
       "        <td style=\"padding-left: 1em; padding-right: 1em; text-align: center; vertical-align: top\">Petter Mattei&#x27;s &quot;Love in<br>the Time of Money&quot; is a ...</td>\n",
       "        <td style=\"padding-left: 1em; padding-right: 1em; text-align: center; vertical-align: top\">positive</td>\n",
       "    </tr>\n",
       "    <tr>\n",
       "        <td style=\"padding-left: 1em; padding-right: 1em; text-align: center; vertical-align: top\">Probably my all-time<br>favorite movie, a story ...</td>\n",
       "        <td style=\"padding-left: 1em; padding-right: 1em; text-align: center; vertical-align: top\">positive</td>\n",
       "    </tr>\n",
       "    <tr>\n",
       "        <td style=\"padding-left: 1em; padding-right: 1em; text-align: center; vertical-align: top\">I sure would like to see<br>a resurrection of a up ...</td>\n",
       "        <td style=\"padding-left: 1em; padding-right: 1em; text-align: center; vertical-align: top\">positive</td>\n",
       "    </tr>\n",
       "    <tr>\n",
       "        <td style=\"padding-left: 1em; padding-right: 1em; text-align: center; vertical-align: top\">This show was an amazing,<br>fresh &amp; innovative idea ...</td>\n",
       "        <td style=\"padding-left: 1em; padding-right: 1em; text-align: center; vertical-align: top\">negative</td>\n",
       "    </tr>\n",
       "    <tr>\n",
       "        <td style=\"padding-left: 1em; padding-right: 1em; text-align: center; vertical-align: top\">Encouraged by the<br>positive comments about ...</td>\n",
       "        <td style=\"padding-left: 1em; padding-right: 1em; text-align: center; vertical-align: top\">negative</td>\n",
       "    </tr>\n",
       "    <tr>\n",
       "        <td style=\"padding-left: 1em; padding-right: 1em; text-align: center; vertical-align: top\">If you like original gut<br>wrenching laughter you ...</td>\n",
       "        <td style=\"padding-left: 1em; padding-right: 1em; text-align: center; vertical-align: top\">positive</td>\n",
       "    </tr>\n",
       "</table>\n",
       "[50000 rows x 2 columns]<br/>Note: Only the head of the SFrame is printed.<br/>You can use print_rows(num_rows=m, num_columns=n) to print more rows and columns.\n",
       "</div>"
      ],
      "text/plain": [
       "Columns:\n",
       "\treview\tstr\n",
       "\tsentiment\tstr\n",
       "\n",
       "Rows: 50000\n",
       "\n",
       "Data:\n",
       "+-------------------------------+-----------+\n",
       "|             review            | sentiment |\n",
       "+-------------------------------+-----------+\n",
       "| One of the other reviewers... |  positive |\n",
       "| A wonderful little product... |  positive |\n",
       "| I thought this was a wonde... |  positive |\n",
       "| Basically there's a family... |  negative |\n",
       "| Petter Mattei's \"Love in t... |  positive |\n",
       "| Probably my all-time favor... |  positive |\n",
       "| I sure would like to see a... |  positive |\n",
       "| This show was an amazing, ... |  negative |\n",
       "| Encouraged by the positive... |  negative |\n",
       "| If you like original gut w... |  positive |\n",
       "+-------------------------------+-----------+\n",
       "[50000 rows x 2 columns]\n",
       "Note: Only the head of the SFrame is printed.\n",
       "You can use print_rows(num_rows=m, num_columns=n) to print more rows and columns."
      ]
     },
     "execution_count": 42,
     "metadata": {},
     "output_type": "execute_result"
    }
   ],
   "source": [
    "movies = tc.SFrame('IMDB_Dataset.csv')\n",
    "movies"
   ]
  },
  {
   "cell_type": "code",
   "execution_count": 43,
   "metadata": {},
   "outputs": [
    {
     "data": {
      "text/html": [
       "<div style=\"max-height:1000px;max-width:1500px;overflow:auto;\"><table frame=\"box\" rules=\"cols\">\n",
       "    <tr>\n",
       "        <th style=\"padding-left: 1em; padding-right: 1em; text-align: center\">review</th>\n",
       "        <th style=\"padding-left: 1em; padding-right: 1em; text-align: center\">sentiment</th>\n",
       "        <th style=\"padding-left: 1em; padding-right: 1em; text-align: center\">words</th>\n",
       "    </tr>\n",
       "    <tr>\n",
       "        <td style=\"padding-left: 1em; padding-right: 1em; text-align: center; vertical-align: top\">One of the other<br>reviewers has mentioned ...</td>\n",
       "        <td style=\"padding-left: 1em; padding-right: 1em; text-align: center; vertical-align: top\">positive</td>\n",
       "        <td style=\"padding-left: 1em; padding-right: 1em; text-align: center; vertical-align: top\">{&#x27;darker&#x27;: 1.0, &#x27;touch&#x27;:<br>1.0, &#x27;thats&#x27;: 1.0, ...</td>\n",
       "    </tr>\n",
       "    <tr>\n",
       "        <td style=\"padding-left: 1em; padding-right: 1em; text-align: center; vertical-align: top\">A wonderful little<br>production. &lt;br /&gt;&lt;br ...</td>\n",
       "        <td style=\"padding-left: 1em; padding-right: 1em; text-align: center; vertical-align: top\">positive</td>\n",
       "        <td style=\"padding-left: 1em; padding-right: 1em; text-align: center; vertical-align: top\">{&#x27;done&#x27;: 1.0, &#x27;surface&#x27;:<br>1.0, &#x27;every&#x27;: 1.0, ...</td>\n",
       "    </tr>\n",
       "    <tr>\n",
       "        <td style=\"padding-left: 1em; padding-right: 1em; text-align: center; vertical-align: top\">I thought this was a<br>wonderful way to spend ...</td>\n",
       "        <td style=\"padding-left: 1em; padding-right: 1em; text-align: center; vertical-align: top\">positive</td>\n",
       "        <td style=\"padding-left: 1em; padding-right: 1em; text-align: center; vertical-align: top\">{&#x27;go&#x27;: 1.0, &#x27;superman&#x27;:<br>1.0, &#x27;interesting&#x27;: 1.0, ...</td>\n",
       "    </tr>\n",
       "    <tr>\n",
       "        <td style=\"padding-left: 1em; padding-right: 1em; text-align: center; vertical-align: top\">Basically there&#x27;s a<br>family where a little ...</td>\n",
       "        <td style=\"padding-left: 1em; padding-right: 1em; text-align: center; vertical-align: top\">negative</td>\n",
       "        <td style=\"padding-left: 1em; padding-right: 1em; text-align: center; vertical-align: top\">{&#x27;them&#x27;: 1.0, &#x27;ignore&#x27;:<br>1.0, &#x27;dialogs&#x27;: 1.0, ...</td>\n",
       "    </tr>\n",
       "    <tr>\n",
       "        <td style=\"padding-left: 1em; padding-right: 1em; text-align: center; vertical-align: top\">Petter Mattei&#x27;s &quot;Love in<br>the Time of Money&quot; is a ...</td>\n",
       "        <td style=\"padding-left: 1em; padding-right: 1em; text-align: center; vertical-align: top\">positive</td>\n",
       "        <td style=\"padding-left: 1em; padding-right: 1em; text-align: center; vertical-align: top\">{&#x27;work&#x27;: 1.0, &#x27;for&#x27;: 1.0,<br>&#x27;anxiously&#x27;: 1.0, ...</td>\n",
       "    </tr>\n",
       "    <tr>\n",
       "        <td style=\"padding-left: 1em; padding-right: 1em; text-align: center; vertical-align: top\">Probably my all-time<br>favorite movie, a story ...</td>\n",
       "        <td style=\"padding-left: 1em; padding-right: 1em; text-align: center; vertical-align: top\">positive</td>\n",
       "        <td style=\"padding-left: 1em; padding-right: 1em; text-align: center; vertical-align: top\">{&#x27;for&#x27;: 1.0, &#x27;dozen&#x27;:<br>1.0, &#x27;i&#x27;: 1.0, &#x27;if&#x27;:  ...</td>\n",
       "    </tr>\n",
       "    <tr>\n",
       "        <td style=\"padding-left: 1em; padding-right: 1em; text-align: center; vertical-align: top\">I sure would like to see<br>a resurrection of a up ...</td>\n",
       "        <td style=\"padding-left: 1em; padding-right: 1em; text-align: center; vertical-align: top\">positive</td>\n",
       "        <td style=\"padding-left: 1em; padding-right: 1em; text-align: center; vertical-align: top\">{&#x27;do&#x27;: 1.0, &#x27;go&#x27;: 1.0,<br>&#x27;s&#x27;: 1.0, &#x27;a&#x27;: 6.0, ...</td>\n",
       "    </tr>\n",
       "    <tr>\n",
       "        <td style=\"padding-left: 1em; padding-right: 1em; text-align: center; vertical-align: top\">This show was an amazing,<br>fresh &amp; innovative idea ...</td>\n",
       "        <td style=\"padding-left: 1em; padding-right: 1em; text-align: center; vertical-align: top\">negative</td>\n",
       "        <td style=\"padding-left: 1em; padding-right: 1em; text-align: center; vertical-align: top\">{&#x27;awful&#x27;: 1.0, &#x27;just&#x27;:<br>1.0, &#x27;huge&#x27;: 1.0, &#x27;a&#x27;: ...</td>\n",
       "    </tr>\n",
       "    <tr>\n",
       "        <td style=\"padding-left: 1em; padding-right: 1em; text-align: center; vertical-align: top\">Encouraged by the<br>positive comments about ...</td>\n",
       "        <td style=\"padding-left: 1em; padding-right: 1em; text-align: center; vertical-align: top\">negative</td>\n",
       "        <td style=\"padding-left: 1em; padding-right: 1em; text-align: center; vertical-align: top\">{&#x27;effort&#x27;: 1.0, &#x27;an&#x27;:<br>1.0, &#x27;making&#x27;: 1.0, ...</td>\n",
       "    </tr>\n",
       "    <tr>\n",
       "        <td style=\"padding-left: 1em; padding-right: 1em; text-align: center; vertical-align: top\">If you like original gut<br>wrenching laughter you ...</td>\n",
       "        <td style=\"padding-left: 1em; padding-right: 1em; text-align: center; vertical-align: top\">positive</td>\n",
       "        <td style=\"padding-left: 1em; padding-right: 1em; text-align: center; vertical-align: top\">{&#x27;camp&#x27;: 1.0, &#x27;great&#x27;:<br>1.0, &#x27;movie&#x27;: 2.0, ...</td>\n",
       "    </tr>\n",
       "</table>\n",
       "[50000 rows x 3 columns]<br/>Note: Only the head of the SFrame is printed.<br/>You can use print_rows(num_rows=m, num_columns=n) to print more rows and columns.\n",
       "</div>"
      ],
      "text/plain": [
       "Columns:\n",
       "\treview\tstr\n",
       "\tsentiment\tstr\n",
       "\twords\tdict\n",
       "\n",
       "Rows: 50000\n",
       "\n",
       "Data:\n",
       "+-------------------------------+-----------+-------------------------------+\n",
       "|             review            | sentiment |             words             |\n",
       "+-------------------------------+-----------+-------------------------------+\n",
       "| One of the other reviewers... |  positive | {'darker': 1.0, 'touch': 1... |\n",
       "| A wonderful little product... |  positive | {'done': 1.0, 'surface': 1... |\n",
       "| I thought this was a wonde... |  positive | {'go': 1.0, 'superman': 1.... |\n",
       "| Basically there's a family... |  negative | {'them': 1.0, 'ignore': 1.... |\n",
       "| Petter Mattei's \"Love in t... |  positive | {'work': 1.0, 'for': 1.0, ... |\n",
       "| Probably my all-time favor... |  positive | {'for': 1.0, 'dozen': 1.0,... |\n",
       "| I sure would like to see a... |  positive | {'do': 1.0, 'go': 1.0, 's'... |\n",
       "| This show was an amazing, ... |  negative | {'awful': 1.0, 'just': 1.0... |\n",
       "| Encouraged by the positive... |  negative | {'effort': 1.0, 'an': 1.0,... |\n",
       "| If you like original gut w... |  positive | {'camp': 1.0, 'great': 1.0... |\n",
       "+-------------------------------+-----------+-------------------------------+\n",
       "[50000 rows x 3 columns]\n",
       "Note: Only the head of the SFrame is printed.\n",
       "You can use print_rows(num_rows=m, num_columns=n) to print more rows and columns."
      ]
     },
     "execution_count": 43,
     "metadata": {},
     "output_type": "execute_result"
    }
   ],
   "source": [
    "movies['words'] = tc.text_analytics.count_words(movies['review'])\n",
    "movies"
   ]
  },
  {
   "cell_type": "code",
   "execution_count": 44,
   "metadata": {},
   "outputs": [
    {
     "name": "stdout",
     "output_type": "stream",
     "text": [
      "PROGRESS: Creating a validation set from 5 percent of training data. This may take a while.\n",
      "          You can set ``validation_set=None`` to disable validation tracking.\n",
      "\n"
     ]
    },
    {
     "data": {
      "text/html": [
       "<pre>Logistic regression:</pre>"
      ],
      "text/plain": [
       "Logistic regression:"
      ]
     },
     "metadata": {},
     "output_type": "display_data"
    },
    {
     "data": {
      "text/html": [
       "<pre>--------------------------------------------------------</pre>"
      ],
      "text/plain": [
       "--------------------------------------------------------"
      ]
     },
     "metadata": {},
     "output_type": "display_data"
    },
    {
     "data": {
      "text/html": [
       "<pre>Number of examples          : 47500</pre>"
      ],
      "text/plain": [
       "Number of examples          : 47500"
      ]
     },
     "metadata": {},
     "output_type": "display_data"
    },
    {
     "data": {
      "text/html": [
       "<pre>Number of classes           : 2</pre>"
      ],
      "text/plain": [
       "Number of classes           : 2"
      ]
     },
     "metadata": {},
     "output_type": "display_data"
    },
    {
     "data": {
      "text/html": [
       "<pre>Number of feature columns   : 1</pre>"
      ],
      "text/plain": [
       "Number of feature columns   : 1"
      ]
     },
     "metadata": {},
     "output_type": "display_data"
    },
    {
     "data": {
      "text/html": [
       "<pre>Number of unpacked features : 101764</pre>"
      ],
      "text/plain": [
       "Number of unpacked features : 101764"
      ]
     },
     "metadata": {},
     "output_type": "display_data"
    },
    {
     "data": {
      "text/html": [
       "<pre>Number of coefficients      : 101765</pre>"
      ],
      "text/plain": [
       "Number of coefficients      : 101765"
      ]
     },
     "metadata": {},
     "output_type": "display_data"
    },
    {
     "data": {
      "text/html": [
       "<pre>Starting L-BFGS</pre>"
      ],
      "text/plain": [
       "Starting L-BFGS"
      ]
     },
     "metadata": {},
     "output_type": "display_data"
    },
    {
     "data": {
      "text/html": [
       "<pre>--------------------------------------------------------</pre>"
      ],
      "text/plain": [
       "--------------------------------------------------------"
      ]
     },
     "metadata": {},
     "output_type": "display_data"
    },
    {
     "data": {
      "text/html": [
       "<pre>+-----------+----------+-----------+--------------+-------------------+---------------------+</pre>"
      ],
      "text/plain": [
       "+-----------+----------+-----------+--------------+-------------------+---------------------+"
      ]
     },
     "metadata": {},
     "output_type": "display_data"
    },
    {
     "data": {
      "text/html": [
       "<pre>| Iteration | Passes   | Step size | Elapsed Time | Training Accuracy | Validation Accuracy |</pre>"
      ],
      "text/plain": [
       "| Iteration | Passes   | Step size | Elapsed Time | Training Accuracy | Validation Accuracy |"
      ]
     },
     "metadata": {},
     "output_type": "display_data"
    },
    {
     "data": {
      "text/html": [
       "<pre>+-----------+----------+-----------+--------------+-------------------+---------------------+</pre>"
      ],
      "text/plain": [
       "+-----------+----------+-----------+--------------+-------------------+---------------------+"
      ]
     },
     "metadata": {},
     "output_type": "display_data"
    },
    {
     "data": {
      "text/html": [
       "<pre>| 0         | 2        | 1.000000  | 0.127504     | 0.919074          | 0.860800            |</pre>"
      ],
      "text/plain": [
       "| 0         | 2        | 1.000000  | 0.127504     | 0.919074          | 0.860800            |"
      ]
     },
     "metadata": {},
     "output_type": "display_data"
    },
    {
     "data": {
      "text/html": [
       "<pre>| 1         | 4        | 1.000000  | 0.303479     | 0.966421          | 0.880000            |</pre>"
      ],
      "text/plain": [
       "| 1         | 4        | 1.000000  | 0.303479     | 0.966421          | 0.880000            |"
      ]
     },
     "metadata": {},
     "output_type": "display_data"
    },
    {
     "data": {
      "text/html": [
       "<pre>| 2         | 5        | 1.000000  | 0.408394     | 0.973705          | 0.898000            |</pre>"
      ],
      "text/plain": [
       "| 2         | 5        | 1.000000  | 0.408394     | 0.973705          | 0.898000            |"
      ]
     },
     "metadata": {},
     "output_type": "display_data"
    },
    {
     "data": {
      "text/html": [
       "<pre>| 3         | 7        | 0.831258  | 0.577511     | 0.982632          | 0.907200            |</pre>"
      ],
      "text/plain": [
       "| 3         | 7        | 0.831258  | 0.577511     | 0.982632          | 0.907200            |"
      ]
     },
     "metadata": {},
     "output_type": "display_data"
    },
    {
     "data": {
      "text/html": [
       "<pre>| 4         | 9        | 0.831258  | 0.757845     | 0.987684          | 0.905200            |</pre>"
      ],
      "text/plain": [
       "| 4         | 9        | 0.831258  | 0.757845     | 0.987684          | 0.905200            |"
      ]
     },
     "metadata": {},
     "output_type": "display_data"
    },
    {
     "data": {
      "text/html": [
       "<pre>| 9         | 14       | 1.000000  | 1.378283     | 0.999558          | 0.873600            |</pre>"
      ],
      "text/plain": [
       "| 9         | 14       | 1.000000  | 1.378283     | 0.999558          | 0.873600            |"
      ]
     },
     "metadata": {},
     "output_type": "display_data"
    },
    {
     "data": {
      "text/html": [
       "<pre>+-----------+----------+-----------+--------------+-------------------+---------------------+</pre>"
      ],
      "text/plain": [
       "+-----------+----------+-----------+--------------+-------------------+---------------------+"
      ]
     },
     "metadata": {},
     "output_type": "display_data"
    }
   ],
   "source": [
    "model = tc.logistic_classifier.create(movies, features=['words'], target='sentiment')"
   ]
  },
  {
   "cell_type": "code",
   "execution_count": 45,
   "metadata": {},
   "outputs": [
    {
     "data": {
      "text/plain": [
       "Class                          : LogisticClassifier\n",
       "\n",
       "Schema\n",
       "------\n",
       "Number of coefficients         : 101765\n",
       "Number of examples             : 47500\n",
       "Number of classes              : 2\n",
       "Number of feature columns      : 1\n",
       "Number of unpacked features    : 101764\n",
       "\n",
       "Hyperparameters\n",
       "---------------\n",
       "L1 penalty                     : 0.0\n",
       "L2 penalty                     : 0.01\n",
       "\n",
       "Training Summary\n",
       "----------------\n",
       "Solver                         : lbfgs\n",
       "Solver iterations              : 10\n",
       "Solver status                  : Completed (Iteration limit reached).\n",
       "Training time (sec)            : 0.9206\n",
       "\n",
       "Settings\n",
       "--------\n",
       "Log-likelihood                 : 302.6955\n",
       "\n",
       "Highest Positive Coefficients\n",
       "-----------------------------\n",
       "words[vez]                     : 26.5429\n",
       "words[solamente]               : 26.5429\n",
       "words[widdecombe]              : 25.7807\n",
       "words[distrusting]             : 25.7807\n",
       "words[publican]                : 25.5326\n",
       "\n",
       "Lowest Negative Coefficients\n",
       "----------------------------\n",
       "words[cheeker]                 : -25.6036\n",
       "words[cannonite]               : -24.4803\n",
       "words[undoubtable]             : -24.4803\n",
       "words[sierre]                  : -17.904\n",
       "words[unfortuntately]          : -17.2712"
      ]
     },
     "execution_count": 45,
     "metadata": {},
     "output_type": "execute_result"
    }
   ],
   "source": [
    "model"
   ]
  },
  {
   "cell_type": "code",
   "execution_count": 46,
   "metadata": {
    "tags": []
   },
   "outputs": [
    {
     "data": {
      "text/html": [
       "<div style=\"max-height:1000px;max-width:1500px;overflow:auto;\"><table frame=\"box\" rules=\"cols\">\n",
       "    <tr>\n",
       "        <th style=\"padding-left: 1em; padding-right: 1em; text-align: center\">name</th>\n",
       "        <th style=\"padding-left: 1em; padding-right: 1em; text-align: center\">index</th>\n",
       "        <th style=\"padding-left: 1em; padding-right: 1em; text-align: center\">class</th>\n",
       "        <th style=\"padding-left: 1em; padding-right: 1em; text-align: center\">value</th>\n",
       "        <th style=\"padding-left: 1em; padding-right: 1em; text-align: center\">stderr</th>\n",
       "    </tr>\n",
       "    <tr>\n",
       "        <td style=\"padding-left: 1em; padding-right: 1em; text-align: center; vertical-align: top\">(intercept)</td>\n",
       "        <td style=\"padding-left: 1em; padding-right: 1em; text-align: center; vertical-align: top\">None</td>\n",
       "        <td style=\"padding-left: 1em; padding-right: 1em; text-align: center; vertical-align: top\">positive</td>\n",
       "        <td style=\"padding-left: 1em; padding-right: 1em; text-align: center; vertical-align: top\">0.06572384578221714</td>\n",
       "        <td style=\"padding-left: 1em; padding-right: 1em; text-align: center; vertical-align: top\">None</td>\n",
       "    </tr>\n",
       "    <tr>\n",
       "        <td style=\"padding-left: 1em; padding-right: 1em; text-align: center; vertical-align: top\">words</td>\n",
       "        <td style=\"padding-left: 1em; padding-right: 1em; text-align: center; vertical-align: top\">darker</td>\n",
       "        <td style=\"padding-left: 1em; padding-right: 1em; text-align: center; vertical-align: top\">positive</td>\n",
       "        <td style=\"padding-left: 1em; padding-right: 1em; text-align: center; vertical-align: top\">0.5333752779750659</td>\n",
       "        <td style=\"padding-left: 1em; padding-right: 1em; text-align: center; vertical-align: top\">None</td>\n",
       "    </tr>\n",
       "    <tr>\n",
       "        <td style=\"padding-left: 1em; padding-right: 1em; text-align: center; vertical-align: top\">words</td>\n",
       "        <td style=\"padding-left: 1em; padding-right: 1em; text-align: center; vertical-align: top\">touch</td>\n",
       "        <td style=\"padding-left: 1em; padding-right: 1em; text-align: center; vertical-align: top\">positive</td>\n",
       "        <td style=\"padding-left: 1em; padding-right: 1em; text-align: center; vertical-align: top\">0.20742704848421395</td>\n",
       "        <td style=\"padding-left: 1em; padding-right: 1em; text-align: center; vertical-align: top\">None</td>\n",
       "    </tr>\n",
       "    <tr>\n",
       "        <td style=\"padding-left: 1em; padding-right: 1em; text-align: center; vertical-align: top\">words</td>\n",
       "        <td style=\"padding-left: 1em; padding-right: 1em; text-align: center; vertical-align: top\">thats</td>\n",
       "        <td style=\"padding-left: 1em; padding-right: 1em; text-align: center; vertical-align: top\">positive</td>\n",
       "        <td style=\"padding-left: 1em; padding-right: 1em; text-align: center; vertical-align: top\">-0.4744236981691299</td>\n",
       "        <td style=\"padding-left: 1em; padding-right: 1em; text-align: center; vertical-align: top\">None</td>\n",
       "    </tr>\n",
       "    <tr>\n",
       "        <td style=\"padding-left: 1em; padding-right: 1em; text-align: center; vertical-align: top\">words</td>\n",
       "        <td style=\"padding-left: 1em; padding-right: 1em; text-align: center; vertical-align: top\">your</td>\n",
       "        <td style=\"padding-left: 1em; padding-right: 1em; text-align: center; vertical-align: top\">positive</td>\n",
       "        <td style=\"padding-left: 1em; padding-right: 1em; text-align: center; vertical-align: top\">-0.018649389902564865</td>\n",
       "        <td style=\"padding-left: 1em; padding-right: 1em; text-align: center; vertical-align: top\">None</td>\n",
       "    </tr>\n",
       "    <tr>\n",
       "        <td style=\"padding-left: 1em; padding-right: 1em; text-align: center; vertical-align: top\">words</td>\n",
       "        <td style=\"padding-left: 1em; padding-right: 1em; text-align: center; vertical-align: top\">viewing</td>\n",
       "        <td style=\"padding-left: 1em; padding-right: 1em; text-align: center; vertical-align: top\">positive</td>\n",
       "        <td style=\"padding-left: 1em; padding-right: 1em; text-align: center; vertical-align: top\">0.1122221185954909</td>\n",
       "        <td style=\"padding-left: 1em; padding-right: 1em; text-align: center; vertical-align: top\">None</td>\n",
       "    </tr>\n",
       "    <tr>\n",
       "        <td style=\"padding-left: 1em; padding-right: 1em; text-align: center; vertical-align: top\">words</td>\n",
       "        <td style=\"padding-left: 1em; padding-right: 1em; text-align: center; vertical-align: top\">their</td>\n",
       "        <td style=\"padding-left: 1em; padding-right: 1em; text-align: center; vertical-align: top\">positive</td>\n",
       "        <td style=\"padding-left: 1em; padding-right: 1em; text-align: center; vertical-align: top\">0.006648331801886571</td>\n",
       "        <td style=\"padding-left: 1em; padding-right: 1em; text-align: center; vertical-align: top\">None</td>\n",
       "    </tr>\n",
       "    <tr>\n",
       "        <td style=\"padding-left: 1em; padding-right: 1em; text-align: center; vertical-align: top\">words</td>\n",
       "        <td style=\"padding-left: 1em; padding-right: 1em; text-align: center; vertical-align: top\">into</td>\n",
       "        <td style=\"padding-left: 1em; padding-right: 1em; text-align: center; vertical-align: top\">positive</td>\n",
       "        <td style=\"padding-left: 1em; padding-right: 1em; text-align: center; vertical-align: top\">-0.006232172025032296</td>\n",
       "        <td style=\"padding-left: 1em; padding-right: 1em; text-align: center; vertical-align: top\">None</td>\n",
       "    </tr>\n",
       "    <tr>\n",
       "        <td style=\"padding-left: 1em; padding-right: 1em; text-align: center; vertical-align: top\">words</td>\n",
       "        <td style=\"padding-left: 1em; padding-right: 1em; text-align: center; vertical-align: top\">turned</td>\n",
       "        <td style=\"padding-left: 1em; padding-right: 1em; text-align: center; vertical-align: top\">positive</td>\n",
       "        <td style=\"padding-left: 1em; padding-right: 1em; text-align: center; vertical-align: top\">-0.20295362226724023</td>\n",
       "        <td style=\"padding-left: 1em; padding-right: 1em; text-align: center; vertical-align: top\">None</td>\n",
       "    </tr>\n",
       "    <tr>\n",
       "        <td style=\"padding-left: 1em; padding-right: 1em; text-align: center; vertical-align: top\">words</td>\n",
       "        <td style=\"padding-left: 1em; padding-right: 1em; text-align: center; vertical-align: top\">being</td>\n",
       "        <td style=\"padding-left: 1em; padding-right: 1em; text-align: center; vertical-align: top\">positive</td>\n",
       "        <td style=\"padding-left: 1em; padding-right: 1em; text-align: center; vertical-align: top\">-0.00010341211428276083</td>\n",
       "        <td style=\"padding-left: 1em; padding-right: 1em; text-align: center; vertical-align: top\">None</td>\n",
       "    </tr>\n",
       "</table>\n",
       "[101765 rows x 5 columns]<br/>Note: Only the head of the SFrame is printed.<br/>You can use print_rows(num_rows=m, num_columns=n) to print more rows and columns.\n",
       "</div>"
      ],
      "text/plain": [
       "Columns:\n",
       "\tname\tstr\n",
       "\tindex\tstr\n",
       "\tclass\tstr\n",
       "\tvalue\tfloat\n",
       "\tstderr\tfloat\n",
       "\n",
       "Rows: 101765\n",
       "\n",
       "Data:\n",
       "+-------------+---------+----------+-------------------------+--------+\n",
       "|     name    |  index  |  class   |          value          | stderr |\n",
       "+-------------+---------+----------+-------------------------+--------+\n",
       "| (intercept) |   None  | positive |   0.06572384578221714   |  None  |\n",
       "|    words    |  darker | positive |    0.5333752779750659   |  None  |\n",
       "|    words    |  touch  | positive |   0.20742704848421395   |  None  |\n",
       "|    words    |  thats  | positive |   -0.4744236981691299   |  None  |\n",
       "|    words    |   your  | positive |  -0.018649389902564865  |  None  |\n",
       "|    words    | viewing | positive |    0.1122221185954909   |  None  |\n",
       "|    words    |  their  | positive |   0.006648331801886571  |  None  |\n",
       "|    words    |   into  | positive |  -0.006232172025032296  |  None  |\n",
       "|    words    |  turned | positive |   -0.20295362226724023  |  None  |\n",
       "|    words    |  being  | positive | -0.00010341211428276083 |  None  |\n",
       "+-------------+---------+----------+-------------------------+--------+\n",
       "[101765 rows x 5 columns]\n",
       "Note: Only the head of the SFrame is printed.\n",
       "You can use print_rows(num_rows=m, num_columns=n) to print more rows and columns."
      ]
     },
     "execution_count": 46,
     "metadata": {},
     "output_type": "execute_result"
    }
   ],
   "source": [
    "weights = model.coefficients\n",
    "weights"
   ]
  },
  {
   "cell_type": "code",
   "execution_count": 47,
   "metadata": {
    "tags": []
   },
   "outputs": [
    {
     "data": {
      "text/html": [
       "<div style=\"max-height:1000px;max-width:1500px;overflow:auto;\"><table frame=\"box\" rules=\"cols\">\n",
       "    <tr>\n",
       "        <th style=\"padding-left: 1em; padding-right: 1em; text-align: center\">name</th>\n",
       "        <th style=\"padding-left: 1em; padding-right: 1em; text-align: center\">index</th>\n",
       "        <th style=\"padding-left: 1em; padding-right: 1em; text-align: center\">class</th>\n",
       "        <th style=\"padding-left: 1em; padding-right: 1em; text-align: center\">value</th>\n",
       "        <th style=\"padding-left: 1em; padding-right: 1em; text-align: center\">stderr</th>\n",
       "    </tr>\n",
       "    <tr>\n",
       "        <td style=\"padding-left: 1em; padding-right: 1em; text-align: center; vertical-align: top\">words</td>\n",
       "        <td style=\"padding-left: 1em; padding-right: 1em; text-align: center; vertical-align: top\">cheeker</td>\n",
       "        <td style=\"padding-left: 1em; padding-right: 1em; text-align: center; vertical-align: top\">positive</td>\n",
       "        <td style=\"padding-left: 1em; padding-right: 1em; text-align: center; vertical-align: top\">-25.60358274680114</td>\n",
       "        <td style=\"padding-left: 1em; padding-right: 1em; text-align: center; vertical-align: top\">None</td>\n",
       "    </tr>\n",
       "    <tr>\n",
       "        <td style=\"padding-left: 1em; padding-right: 1em; text-align: center; vertical-align: top\">words</td>\n",
       "        <td style=\"padding-left: 1em; padding-right: 1em; text-align: center; vertical-align: top\">cannonite</td>\n",
       "        <td style=\"padding-left: 1em; padding-right: 1em; text-align: center; vertical-align: top\">positive</td>\n",
       "        <td style=\"padding-left: 1em; padding-right: 1em; text-align: center; vertical-align: top\">-24.48029291272045</td>\n",
       "        <td style=\"padding-left: 1em; padding-right: 1em; text-align: center; vertical-align: top\">None</td>\n",
       "    </tr>\n",
       "    <tr>\n",
       "        <td style=\"padding-left: 1em; padding-right: 1em; text-align: center; vertical-align: top\">words</td>\n",
       "        <td style=\"padding-left: 1em; padding-right: 1em; text-align: center; vertical-align: top\">undoubtable</td>\n",
       "        <td style=\"padding-left: 1em; padding-right: 1em; text-align: center; vertical-align: top\">positive</td>\n",
       "        <td style=\"padding-left: 1em; padding-right: 1em; text-align: center; vertical-align: top\">-24.48029291272045</td>\n",
       "        <td style=\"padding-left: 1em; padding-right: 1em; text-align: center; vertical-align: top\">None</td>\n",
       "    </tr>\n",
       "    <tr>\n",
       "        <td style=\"padding-left: 1em; padding-right: 1em; text-align: center; vertical-align: top\">words</td>\n",
       "        <td style=\"padding-left: 1em; padding-right: 1em; text-align: center; vertical-align: top\">sierre</td>\n",
       "        <td style=\"padding-left: 1em; padding-right: 1em; text-align: center; vertical-align: top\">positive</td>\n",
       "        <td style=\"padding-left: 1em; padding-right: 1em; text-align: center; vertical-align: top\">-17.903974377650954</td>\n",
       "        <td style=\"padding-left: 1em; padding-right: 1em; text-align: center; vertical-align: top\">None</td>\n",
       "    </tr>\n",
       "    <tr>\n",
       "        <td style=\"padding-left: 1em; padding-right: 1em; text-align: center; vertical-align: top\">words</td>\n",
       "        <td style=\"padding-left: 1em; padding-right: 1em; text-align: center; vertical-align: top\">unfortuntately</td>\n",
       "        <td style=\"padding-left: 1em; padding-right: 1em; text-align: center; vertical-align: top\">positive</td>\n",
       "        <td style=\"padding-left: 1em; padding-right: 1em; text-align: center; vertical-align: top\">-17.271186989360363</td>\n",
       "        <td style=\"padding-left: 1em; padding-right: 1em; text-align: center; vertical-align: top\">None</td>\n",
       "    </tr>\n",
       "    <tr>\n",
       "        <td style=\"padding-left: 1em; padding-right: 1em; text-align: center; vertical-align: top\">words</td>\n",
       "        <td style=\"padding-left: 1em; padding-right: 1em; text-align: center; vertical-align: top\">toyshop</td>\n",
       "        <td style=\"padding-left: 1em; padding-right: 1em; text-align: center; vertical-align: top\">positive</td>\n",
       "        <td style=\"padding-left: 1em; padding-right: 1em; text-align: center; vertical-align: top\">-16.521060482486682</td>\n",
       "        <td style=\"padding-left: 1em; padding-right: 1em; text-align: center; vertical-align: top\">None</td>\n",
       "    </tr>\n",
       "    <tr>\n",
       "        <td style=\"padding-left: 1em; padding-right: 1em; text-align: center; vertical-align: top\">words</td>\n",
       "        <td style=\"padding-left: 1em; padding-right: 1em; text-align: center; vertical-align: top\">newlwed</td>\n",
       "        <td style=\"padding-left: 1em; padding-right: 1em; text-align: center; vertical-align: top\">positive</td>\n",
       "        <td style=\"padding-left: 1em; padding-right: 1em; text-align: center; vertical-align: top\">-15.932981413415215</td>\n",
       "        <td style=\"padding-left: 1em; padding-right: 1em; text-align: center; vertical-align: top\">None</td>\n",
       "    </tr>\n",
       "    <tr>\n",
       "        <td style=\"padding-left: 1em; padding-right: 1em; text-align: center; vertical-align: top\">words</td>\n",
       "        <td style=\"padding-left: 1em; padding-right: 1em; text-align: center; vertical-align: top\">lodz</td>\n",
       "        <td style=\"padding-left: 1em; padding-right: 1em; text-align: center; vertical-align: top\">positive</td>\n",
       "        <td style=\"padding-left: 1em; padding-right: 1em; text-align: center; vertical-align: top\">-15.414117634510301</td>\n",
       "        <td style=\"padding-left: 1em; padding-right: 1em; text-align: center; vertical-align: top\">None</td>\n",
       "    </tr>\n",
       "    <tr>\n",
       "        <td style=\"padding-left: 1em; padding-right: 1em; text-align: center; vertical-align: top\">words</td>\n",
       "        <td style=\"padding-left: 1em; padding-right: 1em; text-align: center; vertical-align: top\">bsed</td>\n",
       "        <td style=\"padding-left: 1em; padding-right: 1em; text-align: center; vertical-align: top\">positive</td>\n",
       "        <td style=\"padding-left: 1em; padding-right: 1em; text-align: center; vertical-align: top\">-15.268677807074516</td>\n",
       "        <td style=\"padding-left: 1em; padding-right: 1em; text-align: center; vertical-align: top\">None</td>\n",
       "    </tr>\n",
       "    <tr>\n",
       "        <td style=\"padding-left: 1em; padding-right: 1em; text-align: center; vertical-align: top\">words</td>\n",
       "        <td style=\"padding-left: 1em; padding-right: 1em; text-align: center; vertical-align: top\">taylors</td>\n",
       "        <td style=\"padding-left: 1em; padding-right: 1em; text-align: center; vertical-align: top\">positive</td>\n",
       "        <td style=\"padding-left: 1em; padding-right: 1em; text-align: center; vertical-align: top\">-14.551804409633345</td>\n",
       "        <td style=\"padding-left: 1em; padding-right: 1em; text-align: center; vertical-align: top\">None</td>\n",
       "    </tr>\n",
       "</table>\n",
       "[101765 rows x 5 columns]<br/>Note: Only the head of the SFrame is printed.<br/>You can use print_rows(num_rows=m, num_columns=n) to print more rows and columns.\n",
       "</div>"
      ],
      "text/plain": [
       "Columns:\n",
       "\tname\tstr\n",
       "\tindex\tstr\n",
       "\tclass\tstr\n",
       "\tvalue\tfloat\n",
       "\tstderr\tfloat\n",
       "\n",
       "Rows: 101765\n",
       "\n",
       "Data:\n",
       "+-------+----------------+----------+---------------------+--------+\n",
       "|  name |     index      |  class   |        value        | stderr |\n",
       "+-------+----------------+----------+---------------------+--------+\n",
       "| words |    cheeker     | positive |  -25.60358274680114 |  None  |\n",
       "| words |   cannonite    | positive |  -24.48029291272045 |  None  |\n",
       "| words |  undoubtable   | positive |  -24.48029291272045 |  None  |\n",
       "| words |     sierre     | positive | -17.903974377650954 |  None  |\n",
       "| words | unfortuntately | positive | -17.271186989360363 |  None  |\n",
       "| words |    toyshop     | positive | -16.521060482486682 |  None  |\n",
       "| words |    newlwed     | positive | -15.932981413415215 |  None  |\n",
       "| words |      lodz      | positive | -15.414117634510301 |  None  |\n",
       "| words |      bsed      | positive | -15.268677807074516 |  None  |\n",
       "| words |    taylors     | positive | -14.551804409633345 |  None  |\n",
       "+-------+----------------+----------+---------------------+--------+\n",
       "[101765 rows x 5 columns]\n",
       "Note: Only the head of the SFrame is printed.\n",
       "You can use print_rows(num_rows=m, num_columns=n) to print more rows and columns."
      ]
     },
     "execution_count": 47,
     "metadata": {},
     "output_type": "execute_result"
    }
   ],
   "source": [
    "weights.sort('value')"
   ]
  },
  {
   "cell_type": "code",
   "execution_count": 48,
   "metadata": {
    "tags": []
   },
   "outputs": [
    {
     "data": {
      "text/html": [
       "<div style=\"max-height:1000px;max-width:1500px;overflow:auto;\"><table frame=\"box\" rules=\"cols\">\n",
       "    <tr>\n",
       "        <th style=\"padding-left: 1em; padding-right: 1em; text-align: center\">name</th>\n",
       "        <th style=\"padding-left: 1em; padding-right: 1em; text-align: center\">index</th>\n",
       "        <th style=\"padding-left: 1em; padding-right: 1em; text-align: center\">class</th>\n",
       "        <th style=\"padding-left: 1em; padding-right: 1em; text-align: center\">value</th>\n",
       "        <th style=\"padding-left: 1em; padding-right: 1em; text-align: center\">stderr</th>\n",
       "    </tr>\n",
       "    <tr>\n",
       "        <td style=\"padding-left: 1em; padding-right: 1em; text-align: center; vertical-align: top\">words</td>\n",
       "        <td style=\"padding-left: 1em; padding-right: 1em; text-align: center; vertical-align: top\">vez</td>\n",
       "        <td style=\"padding-left: 1em; padding-right: 1em; text-align: center; vertical-align: top\">positive</td>\n",
       "        <td style=\"padding-left: 1em; padding-right: 1em; text-align: center; vertical-align: top\">26.54289662116836</td>\n",
       "        <td style=\"padding-left: 1em; padding-right: 1em; text-align: center; vertical-align: top\">None</td>\n",
       "    </tr>\n",
       "    <tr>\n",
       "        <td style=\"padding-left: 1em; padding-right: 1em; text-align: center; vertical-align: top\">words</td>\n",
       "        <td style=\"padding-left: 1em; padding-right: 1em; text-align: center; vertical-align: top\">solamente</td>\n",
       "        <td style=\"padding-left: 1em; padding-right: 1em; text-align: center; vertical-align: top\">positive</td>\n",
       "        <td style=\"padding-left: 1em; padding-right: 1em; text-align: center; vertical-align: top\">26.54289662116836</td>\n",
       "        <td style=\"padding-left: 1em; padding-right: 1em; text-align: center; vertical-align: top\">None</td>\n",
       "    </tr>\n",
       "    <tr>\n",
       "        <td style=\"padding-left: 1em; padding-right: 1em; text-align: center; vertical-align: top\">words</td>\n",
       "        <td style=\"padding-left: 1em; padding-right: 1em; text-align: center; vertical-align: top\">widdecombe</td>\n",
       "        <td style=\"padding-left: 1em; padding-right: 1em; text-align: center; vertical-align: top\">positive</td>\n",
       "        <td style=\"padding-left: 1em; padding-right: 1em; text-align: center; vertical-align: top\">25.780704465129</td>\n",
       "        <td style=\"padding-left: 1em; padding-right: 1em; text-align: center; vertical-align: top\">None</td>\n",
       "    </tr>\n",
       "    <tr>\n",
       "        <td style=\"padding-left: 1em; padding-right: 1em; text-align: center; vertical-align: top\">words</td>\n",
       "        <td style=\"padding-left: 1em; padding-right: 1em; text-align: center; vertical-align: top\">distrusting</td>\n",
       "        <td style=\"padding-left: 1em; padding-right: 1em; text-align: center; vertical-align: top\">positive</td>\n",
       "        <td style=\"padding-left: 1em; padding-right: 1em; text-align: center; vertical-align: top\">25.780704465129</td>\n",
       "        <td style=\"padding-left: 1em; padding-right: 1em; text-align: center; vertical-align: top\">None</td>\n",
       "    </tr>\n",
       "    <tr>\n",
       "        <td style=\"padding-left: 1em; padding-right: 1em; text-align: center; vertical-align: top\">words</td>\n",
       "        <td style=\"padding-left: 1em; padding-right: 1em; text-align: center; vertical-align: top\">schwa</td>\n",
       "        <td style=\"padding-left: 1em; padding-right: 1em; text-align: center; vertical-align: top\">positive</td>\n",
       "        <td style=\"padding-left: 1em; padding-right: 1em; text-align: center; vertical-align: top\">25.53255345264813</td>\n",
       "        <td style=\"padding-left: 1em; padding-right: 1em; text-align: center; vertical-align: top\">None</td>\n",
       "    </tr>\n",
       "    <tr>\n",
       "        <td style=\"padding-left: 1em; padding-right: 1em; text-align: center; vertical-align: top\">words</td>\n",
       "        <td style=\"padding-left: 1em; padding-right: 1em; text-align: center; vertical-align: top\">righties</td>\n",
       "        <td style=\"padding-left: 1em; padding-right: 1em; text-align: center; vertical-align: top\">positive</td>\n",
       "        <td style=\"padding-left: 1em; padding-right: 1em; text-align: center; vertical-align: top\">25.53255345264813</td>\n",
       "        <td style=\"padding-left: 1em; padding-right: 1em; text-align: center; vertical-align: top\">None</td>\n",
       "    </tr>\n",
       "    <tr>\n",
       "        <td style=\"padding-left: 1em; padding-right: 1em; text-align: center; vertical-align: top\">words</td>\n",
       "        <td style=\"padding-left: 1em; padding-right: 1em; text-align: center; vertical-align: top\">workplaces</td>\n",
       "        <td style=\"padding-left: 1em; padding-right: 1em; text-align: center; vertical-align: top\">positive</td>\n",
       "        <td style=\"padding-left: 1em; padding-right: 1em; text-align: center; vertical-align: top\">25.53255345264813</td>\n",
       "        <td style=\"padding-left: 1em; padding-right: 1em; text-align: center; vertical-align: top\">None</td>\n",
       "    </tr>\n",
       "    <tr>\n",
       "        <td style=\"padding-left: 1em; padding-right: 1em; text-align: center; vertical-align: top\">words</td>\n",
       "        <td style=\"padding-left: 1em; padding-right: 1em; text-align: center; vertical-align: top\">phworr</td>\n",
       "        <td style=\"padding-left: 1em; padding-right: 1em; text-align: center; vertical-align: top\">positive</td>\n",
       "        <td style=\"padding-left: 1em; padding-right: 1em; text-align: center; vertical-align: top\">25.53255345264813</td>\n",
       "        <td style=\"padding-left: 1em; padding-right: 1em; text-align: center; vertical-align: top\">None</td>\n",
       "    </tr>\n",
       "    <tr>\n",
       "        <td style=\"padding-left: 1em; padding-right: 1em; text-align: center; vertical-align: top\">words</td>\n",
       "        <td style=\"padding-left: 1em; padding-right: 1em; text-align: center; vertical-align: top\">publican</td>\n",
       "        <td style=\"padding-left: 1em; padding-right: 1em; text-align: center; vertical-align: top\">positive</td>\n",
       "        <td style=\"padding-left: 1em; padding-right: 1em; text-align: center; vertical-align: top\">25.53255345264813</td>\n",
       "        <td style=\"padding-left: 1em; padding-right: 1em; text-align: center; vertical-align: top\">None</td>\n",
       "    </tr>\n",
       "    <tr>\n",
       "        <td style=\"padding-left: 1em; padding-right: 1em; text-align: center; vertical-align: top\">words</td>\n",
       "        <td style=\"padding-left: 1em; padding-right: 1em; text-align: center; vertical-align: top\">laddishness</td>\n",
       "        <td style=\"padding-left: 1em; padding-right: 1em; text-align: center; vertical-align: top\">positive</td>\n",
       "        <td style=\"padding-left: 1em; padding-right: 1em; text-align: center; vertical-align: top\">25.53255345264813</td>\n",
       "        <td style=\"padding-left: 1em; padding-right: 1em; text-align: center; vertical-align: top\">None</td>\n",
       "    </tr>\n",
       "</table>\n",
       "[101765 rows x 5 columns]<br/>Note: Only the head of the SFrame is printed.<br/>You can use print_rows(num_rows=m, num_columns=n) to print more rows and columns.\n",
       "</div>"
      ],
      "text/plain": [
       "Columns:\n",
       "\tname\tstr\n",
       "\tindex\tstr\n",
       "\tclass\tstr\n",
       "\tvalue\tfloat\n",
       "\tstderr\tfloat\n",
       "\n",
       "Rows: 101765\n",
       "\n",
       "Data:\n",
       "+-------+-------------+----------+-------------------+--------+\n",
       "|  name |    index    |  class   |       value       | stderr |\n",
       "+-------+-------------+----------+-------------------+--------+\n",
       "| words |     vez     | positive | 26.54289662116836 |  None  |\n",
       "| words |  solamente  | positive | 26.54289662116836 |  None  |\n",
       "| words |  widdecombe | positive |  25.780704465129  |  None  |\n",
       "| words | distrusting | positive |  25.780704465129  |  None  |\n",
       "| words |    schwa    | positive | 25.53255345264813 |  None  |\n",
       "| words |   righties  | positive | 25.53255345264813 |  None  |\n",
       "| words |  workplaces | positive | 25.53255345264813 |  None  |\n",
       "| words |    phworr   | positive | 25.53255345264813 |  None  |\n",
       "| words |   publican  | positive | 25.53255345264813 |  None  |\n",
       "| words | laddishness | positive | 25.53255345264813 |  None  |\n",
       "+-------+-------------+----------+-------------------+--------+\n",
       "[101765 rows x 5 columns]\n",
       "Note: Only the head of the SFrame is printed.\n",
       "You can use print_rows(num_rows=m, num_columns=n) to print more rows and columns."
      ]
     },
     "execution_count": 48,
     "metadata": {},
     "output_type": "execute_result"
    }
   ],
   "source": [
    "weights.sort('value', ascending=False)"
   ]
  },
  {
   "cell_type": "code",
   "execution_count": 49,
   "metadata": {},
   "outputs": [
    {
     "data": {
      "text/html": [
       "<div style=\"max-height:1000px;max-width:1500px;overflow:auto;\"><table frame=\"box\" rules=\"cols\">\n",
       "    <tr>\n",
       "        <th style=\"padding-left: 1em; padding-right: 1em; text-align: center\">name</th>\n",
       "        <th style=\"padding-left: 1em; padding-right: 1em; text-align: center\">index</th>\n",
       "        <th style=\"padding-left: 1em; padding-right: 1em; text-align: center\">class</th>\n",
       "        <th style=\"padding-left: 1em; padding-right: 1em; text-align: center\">value</th>\n",
       "        <th style=\"padding-left: 1em; padding-right: 1em; text-align: center\">stderr</th>\n",
       "    </tr>\n",
       "    <tr>\n",
       "        <td style=\"padding-left: 1em; padding-right: 1em; text-align: center; vertical-align: top\">words</td>\n",
       "        <td style=\"padding-left: 1em; padding-right: 1em; text-align: center; vertical-align: top\">wonderful</td>\n",
       "        <td style=\"padding-left: 1em; padding-right: 1em; text-align: center; vertical-align: top\">positive</td>\n",
       "        <td style=\"padding-left: 1em; padding-right: 1em; text-align: center; vertical-align: top\">1.0678333178467463</td>\n",
       "        <td style=\"padding-left: 1em; padding-right: 1em; text-align: center; vertical-align: top\">None</td>\n",
       "    </tr>\n",
       "</table>\n",
       "[? rows x 5 columns]<br/>Note: Only the head of the SFrame is printed. This SFrame is lazily evaluated.<br/>You can use sf.materialize() to force materialization.\n",
       "</div>"
      ],
      "text/plain": [
       "Columns:\n",
       "\tname\tstr\n",
       "\tindex\tstr\n",
       "\tclass\tstr\n",
       "\tvalue\tfloat\n",
       "\tstderr\tfloat\n",
       "\n",
       "Rows: Unknown\n",
       "\n",
       "Data:\n",
       "+-------+-----------+----------+--------------------+--------+\n",
       "|  name |   index   |  class   |       value        | stderr |\n",
       "+-------+-----------+----------+--------------------+--------+\n",
       "| words | wonderful | positive | 1.0678333178467463 |  None  |\n",
       "+-------+-----------+----------+--------------------+--------+\n",
       "[? rows x 5 columns]\n",
       "Note: Only the head of the SFrame is printed. This SFrame is lazily evaluated.\n",
       "You can use sf.materialize() to force materialization."
      ]
     },
     "execution_count": 49,
     "metadata": {},
     "output_type": "execute_result"
    }
   ],
   "source": [
    "weights[weights['index']=='wonderful']"
   ]
  },
  {
   "cell_type": "code",
   "execution_count": 50,
   "metadata": {},
   "outputs": [
    {
     "data": {
      "text/html": [
       "<div style=\"max-height:1000px;max-width:1500px;overflow:auto;\"><table frame=\"box\" rules=\"cols\">\n",
       "    <tr>\n",
       "        <th style=\"padding-left: 1em; padding-right: 1em; text-align: center\">name</th>\n",
       "        <th style=\"padding-left: 1em; padding-right: 1em; text-align: center\">index</th>\n",
       "        <th style=\"padding-left: 1em; padding-right: 1em; text-align: center\">class</th>\n",
       "        <th style=\"padding-left: 1em; padding-right: 1em; text-align: center\">value</th>\n",
       "        <th style=\"padding-left: 1em; padding-right: 1em; text-align: center\">stderr</th>\n",
       "    </tr>\n",
       "    <tr>\n",
       "        <td style=\"padding-left: 1em; padding-right: 1em; text-align: center; vertical-align: top\">words</td>\n",
       "        <td style=\"padding-left: 1em; padding-right: 1em; text-align: center; vertical-align: top\">horrible</td>\n",
       "        <td style=\"padding-left: 1em; padding-right: 1em; text-align: center; vertical-align: top\">positive</td>\n",
       "        <td style=\"padding-left: 1em; padding-right: 1em; text-align: center; vertical-align: top\">-1.0414961876077036</td>\n",
       "        <td style=\"padding-left: 1em; padding-right: 1em; text-align: center; vertical-align: top\">None</td>\n",
       "    </tr>\n",
       "</table>\n",
       "[? rows x 5 columns]<br/>Note: Only the head of the SFrame is printed. This SFrame is lazily evaluated.<br/>You can use sf.materialize() to force materialization.\n",
       "</div>"
      ],
      "text/plain": [
       "Columns:\n",
       "\tname\tstr\n",
       "\tindex\tstr\n",
       "\tclass\tstr\n",
       "\tvalue\tfloat\n",
       "\tstderr\tfloat\n",
       "\n",
       "Rows: Unknown\n",
       "\n",
       "Data:\n",
       "+-------+----------+----------+---------------------+--------+\n",
       "|  name |  index   |  class   |        value        | stderr |\n",
       "+-------+----------+----------+---------------------+--------+\n",
       "| words | horrible | positive | -1.0414961876077036 |  None  |\n",
       "+-------+----------+----------+---------------------+--------+\n",
       "[? rows x 5 columns]\n",
       "Note: Only the head of the SFrame is printed. This SFrame is lazily evaluated.\n",
       "You can use sf.materialize() to force materialization."
      ]
     },
     "execution_count": 50,
     "metadata": {},
     "output_type": "execute_result"
    }
   ],
   "source": [
    "weights[weights['index']=='horrible']"
   ]
  },
  {
   "cell_type": "code",
   "execution_count": 51,
   "metadata": {},
   "outputs": [
    {
     "data": {
      "text/html": [
       "<div style=\"max-height:1000px;max-width:1500px;overflow:auto;\"><table frame=\"box\" rules=\"cols\">\n",
       "    <tr>\n",
       "        <th style=\"padding-left: 1em; padding-right: 1em; text-align: center\">name</th>\n",
       "        <th style=\"padding-left: 1em; padding-right: 1em; text-align: center\">index</th>\n",
       "        <th style=\"padding-left: 1em; padding-right: 1em; text-align: center\">class</th>\n",
       "        <th style=\"padding-left: 1em; padding-right: 1em; text-align: center\">value</th>\n",
       "        <th style=\"padding-left: 1em; padding-right: 1em; text-align: center\">stderr</th>\n",
       "    </tr>\n",
       "    <tr>\n",
       "        <td style=\"padding-left: 1em; padding-right: 1em; text-align: center; vertical-align: top\">words</td>\n",
       "        <td style=\"padding-left: 1em; padding-right: 1em; text-align: center; vertical-align: top\">the</td>\n",
       "        <td style=\"padding-left: 1em; padding-right: 1em; text-align: center; vertical-align: top\">positive</td>\n",
       "        <td style=\"padding-left: 1em; padding-right: 1em; text-align: center; vertical-align: top\">0.0004981206396748277</td>\n",
       "        <td style=\"padding-left: 1em; padding-right: 1em; text-align: center; vertical-align: top\">None</td>\n",
       "    </tr>\n",
       "</table>\n",
       "[? rows x 5 columns]<br/>Note: Only the head of the SFrame is printed. This SFrame is lazily evaluated.<br/>You can use sf.materialize() to force materialization.\n",
       "</div>"
      ],
      "text/plain": [
       "Columns:\n",
       "\tname\tstr\n",
       "\tindex\tstr\n",
       "\tclass\tstr\n",
       "\tvalue\tfloat\n",
       "\tstderr\tfloat\n",
       "\n",
       "Rows: Unknown\n",
       "\n",
       "Data:\n",
       "+-------+-------+----------+-----------------------+--------+\n",
       "|  name | index |  class   |         value         | stderr |\n",
       "+-------+-------+----------+-----------------------+--------+\n",
       "| words |  the  | positive | 0.0004981206396748277 |  None  |\n",
       "+-------+-------+----------+-----------------------+--------+\n",
       "[? rows x 5 columns]\n",
       "Note: Only the head of the SFrame is printed. This SFrame is lazily evaluated.\n",
       "You can use sf.materialize() to force materialization."
      ]
     },
     "execution_count": 51,
     "metadata": {},
     "output_type": "execute_result"
    }
   ],
   "source": [
    "weights[weights['index']=='the']"
   ]
  },
  {
   "cell_type": "code",
   "execution_count": 52,
   "metadata": {},
   "outputs": [],
   "source": [
    "movies['predictions'] = model.predict(movies, output_type='probability')"
   ]
  },
  {
   "cell_type": "code",
   "execution_count": 53,
   "metadata": {
    "tags": []
   },
   "outputs": [
    {
     "data": {
      "text/plain": [
       "{'review': \"How strange the human mind is; this center of activity wherein perceptions of reality are formed and stored, and in which one's view of the world hinges on the finely tuned functioning of the brain, this most delicate and intricate processor of all things sensory. And how much do we really know of it's inner-workings, of it's depth or capacity? What is it in the mind that allows us to discern between reality and a dream? Or can we? Perhaps our sense of reality is no more than an impression of what we actually see, like looking at a painting by Monet, in which the vanilla sky of his vision becomes our reality. It's a concept visited by filmmaker Cameron Crowe in his highly imaginative and consciousness-altering film, `Vanilla Sky,' starring Tom Cruise and Penelope Cruz. At the age of thirty-three, David Aames (Cruise) inherits a publishing empire left to him by his father. His fifty-one percent controlling interest, however, has made him something of a marked man, as there are seven members of his board of directors, and each deems himself more worthy than the young Mr. Aames of the lion's share of the company. And fueling the fires of discontent is their perception that David lacks the focus the job requires.<br /><br />Admittedly, David likes to play; still, he's in control of the business and does what he sees fit, whether the board (he refers to them as the `Seven Dwarfs') likes it or not, and no one has ever had the courage to challenge him directly. But during a lavish birthday party in his honor, one of the corporate lawyers, Thomas Tipp (Timothy Spall) warns David that the seven are up to something behind his back. At the time, however, it's the last thing on David's mind; he's been having a casual affair with a friend, Julie Gianni (Cameron Diaz), but even that moves to the back burner when he meets a woman at his party that he can't get out of his mind. Her name is Sofia (Penelope Cruz), and after knowing her for only one night, she becomes a pivotal part of his life-- which is about to be turned upside down, as on the morning after his party he makes a decision that will change his life forever. And he is about to learn that sometimes, there is simply no going back.<br /><br />Director Cameron Crowe has crafted and delivered much more than just another film with this one; far more than a movie, `Vanilla Sky' is a vision realized. Beginning with the first images that appear on screen, he presents a visually stunning experience that is both viscerally and cerebrally affecting. It's a mind-twisting mystery that will swallow you up and sweep you away; emotionally, it's a rush-- and it may leave you exhausted, because it requires some effort to stay with it. But it's worth it. Think `Memento' with a driving rock n' roll soundtrack and a vibrant assault of colors proffered by the stroke of an impressionist's brush. There's darkness and light, and sounds that pound and drive until you can feel the blood rushing through your veins and throbbing in your brain. And all played out on a landscape of virtual reality swirling beneath that ever expanding vanilla sky. Simply put, this one's a real trip; it's exciting-- and it's a mind bender.<br /><br />As to the performances here, those who can't get past the mind-set of Tom Cruise as Maverick in `Top Gun,' or his Ethan Hunt in `Mission Impossible,' or those who perceive him only as a `movie star' rather than an actor, are going to have to think again in light of his work here. Because as David Aames, Cruise gives the best performance of his career, one that should check any doubts as to his ability as an actor at the door. He's made some interesting career choices the past few years, with films like `Magnolia' and `Eyes Wide Shut' merely warm-ups for the very real and complex character he creates here. And give him credit, too, for taking on a role that dispels any sense of vanity; this is Cruise as you've never seen him before. `Jerry Maguire' earned him an Oscar nomination, and this one should, also-- as well as the admiration and acclaim of his peers. Cruise is not just good in this movie, he is remarkable.<br /><br />Penelope Cruz turns in an outstanding, if not exceptional performance, as well, as Sofia, the woman of David's dreams. There's an alluring innocence she brings to this role that works well for her character and makes her forthcoming and accessible, yet she lacks any hint of mystery that may have added that special `something extra' to the part. But Crowe knows how to get the best out of his actors, and he certainly did with Cruz.<br /><br />He also knew what he was doing with Cameron Diaz, who is absolutely vibrant in the role of Julie. She's never looked better, and fairly sizzles on screen. But make no mistake, this is no `window-dressing' part, and Diaz delivers a complete package with this character. The quality of her performance can be measured, in fact, in the impact she makes with rather limited screen time. And it's the persona she integrates so fully with her innate beauty that makes Julie so unforgettable. Overall, a terrific job by Diaz.<br /><br />The supporting cast includes Kurt Russell (Dr. McCabe), Jason Lee (Brian), Johnny Galecki (Peter), Armand Schultz (Dr. Pomerantz), Noah Taylor (Ed), Mel Thompson (`L.E.' Man), Jean Carol (Woman in New York) and John Fedevich (Silent Ed). About half-way through, this one may have you questioning your own sense of reality; but rest assured, by the end of `Vanilla Sky' all will be revealed. It's a reality-bender, to be sure, and a wild one; but this is exciting entertainment that offers a satisfying-- and unique-- experience, one you have to see to believe. It's the essential, and absolute, magic of the movies. 10/10.<br /><br />\",\n",
       " 'sentiment': 'positive',\n",
       " 'words': {'10': 2.0,\n",
       "  'movies': 1.0,\n",
       "  'magic': 1.0,\n",
       "  'essential': 1.0,\n",
       "  'believe': 1.0,\n",
       "  'unique': 1.0,\n",
       "  'satisfying': 1.0,\n",
       "  'entertainment': 1.0,\n",
       "  'assured': 1.0,\n",
       "  'rest': 1.0,\n",
       "  'own': 1.0,\n",
       "  'questioning': 1.0,\n",
       "  'end': 1.0,\n",
       "  'way': 1.0,\n",
       "  'half': 1.0,\n",
       "  'fedevich': 1.0,\n",
       "  'john': 1.0,\n",
       "  'new': 1.0,\n",
       "  'jean': 1.0,\n",
       "  'e': 1.0,\n",
       "  'l': 1.0,\n",
       "  'mel': 1.0,\n",
       "  'armand': 1.0,\n",
       "  'peter': 1.0,\n",
       "  'johnny': 1.0,\n",
       "  'brian': 1.0,\n",
       "  'mccabe': 1.0,\n",
       "  'dr': 2.0,\n",
       "  'russell': 1.0,\n",
       "  'absolute': 1.0,\n",
       "  'kurt': 1.0,\n",
       "  'cast': 1.0,\n",
       "  'unforgettable': 1.0,\n",
       "  'beauty': 1.0,\n",
       "  'innate': 1.0,\n",
       "  'so': 2.0,\n",
       "  'sofia': 2.0,\n",
       "  'affecting': 1.0,\n",
       "  'name': 1.0,\n",
       "  'sees': 1.0,\n",
       "  'woman': 3.0,\n",
       "  'even': 1.0,\n",
       "  'stored': 1.0,\n",
       "  'of': 37.0,\n",
       "  'having': 1.0,\n",
       "  'thing': 1.0,\n",
       "  'top': 1.0,\n",
       "  'did': 1.0,\n",
       "  'impact': 1.0,\n",
       "  'lee': 1.0,\n",
       "  'spall': 1.0,\n",
       "  'turns': 1.0,\n",
       "  'consciousness': 1.0,\n",
       "  'wild': 1.0,\n",
       "  'lawyers': 1.0,\n",
       "  'burner': 1.0,\n",
       "  'rush': 1.0,\n",
       "  'any': 3.0,\n",
       "  'never': 2.0,\n",
       "  'party': 3.0,\n",
       "  'during': 1.0,\n",
       "  'julie': 3.0,\n",
       "  'like': 2.0,\n",
       "  'sounds': 1.0,\n",
       "  'affair': 1.0,\n",
       "  'had': 1.0,\n",
       "  'not': 3.0,\n",
       "  'whether': 1.0,\n",
       "  'may': 3.0,\n",
       "  'brush': 1.0,\n",
       "  'does': 1.0,\n",
       "  'birthday': 1.0,\n",
       "  'timothy': 1.0,\n",
       "  'looking': 1.0,\n",
       "  'he': 15.0,\n",
       "  'him': 7.0,\n",
       "  'still': 1.0,\n",
       "  'requires': 2.0,\n",
       "  'focus': 1.0,\n",
       "  'painting': 1.0,\n",
       "  'simply': 2.0,\n",
       "  'viscerally': 1.0,\n",
       "  'company': 1.0,\n",
       "  'directly': 1.0,\n",
       "  'share': 1.0,\n",
       "  'mr': 1.0,\n",
       "  'best': 2.0,\n",
       "  'stunning': 1.0,\n",
       "  'worthy': 1.0,\n",
       "  'business': 1.0,\n",
       "  'beneath': 1.0,\n",
       "  'good': 1.0,\n",
       "  'likes': 2.0,\n",
       "  'deems': 1.0,\n",
       "  'each': 1.0,\n",
       "  'monet': 1.0,\n",
       "  'taylor': 1.0,\n",
       "  'lavish': 1.0,\n",
       "  'board': 2.0,\n",
       "  'members': 1.0,\n",
       "  'cruz': 4.0,\n",
       "  'lacks': 2.0,\n",
       "  'as': 14.0,\n",
       "  'shut': 1.0,\n",
       "  'sure': 1.0,\n",
       "  'proffered': 1.0,\n",
       "  'tipp': 1.0,\n",
       "  'bender': 2.0,\n",
       "  'something': 3.0,\n",
       "  'star': 1.0,\n",
       "  'delivered': 1.0,\n",
       "  'meets': 1.0,\n",
       "  'ed': 2.0,\n",
       "  'your': 3.0,\n",
       "  'what': 4.0,\n",
       "  'fact': 1.0,\n",
       "  'father': 1.0,\n",
       "  'left': 1.0,\n",
       "  'work': 1.0,\n",
       "  'empire': 1.0,\n",
       "  'oscar': 1.0,\n",
       "  'inherits': 1.0,\n",
       "  'aames': 3.0,\n",
       "  'workings': 1.0,\n",
       "  'doubts': 1.0,\n",
       "  't': 2.0,\n",
       "  'fit': 1.0,\n",
       "  'virtual': 1.0,\n",
       "  'perceive': 1.0,\n",
       "  'casual': 1.0,\n",
       "  'it': 18.0,\n",
       "  'be': 4.0,\n",
       "  'br': 14.0,\n",
       "  'we': 3.0,\n",
       "  'a': 28.0,\n",
       "  'more': 4.0,\n",
       "  'sense': 3.0,\n",
       "  'their': 1.0,\n",
       "  'control': 1.0,\n",
       "  'is': 16.0,\n",
       "  'himself': 1.0,\n",
       "  'back': 3.0,\n",
       "  'check': 1.0,\n",
       "  'added': 1.0,\n",
       "  'delivers': 1.0,\n",
       "  'perhaps': 1.0,\n",
       "  'most': 1.0,\n",
       "  'brain': 2.0,\n",
       "  'ethan': 1.0,\n",
       "  'has': 3.0,\n",
       "  'courage': 1.0,\n",
       "  'swirling': 1.0,\n",
       "  'interest': 1.0,\n",
       "  'refers': 1.0,\n",
       "  'actor': 2.0,\n",
       "  'between': 1.0,\n",
       "  'emotionally': 1.0,\n",
       "  'discontent': 1.0,\n",
       "  'gun': 1.0,\n",
       "  'depth': 1.0,\n",
       "  'play': 1.0,\n",
       "  'tuned': 1.0,\n",
       "  'alluring': 1.0,\n",
       "  'perception': 1.0,\n",
       "  'on': 7.0,\n",
       "  'diaz': 4.0,\n",
       "  'seven': 3.0,\n",
       "  'beginning': 1.0,\n",
       "  'before': 1.0,\n",
       "  'actually': 1.0,\n",
       "  'us': 1.0,\n",
       "  'fueling': 1.0,\n",
       "  'delicate': 1.0,\n",
       "  'age': 1.0,\n",
       "  'looked': 1.0,\n",
       "  'hinges': 1.0,\n",
       "  'challenge': 1.0,\n",
       "  'only': 2.0,\n",
       "  'experience': 2.0,\n",
       "  'view': 1.0,\n",
       "  'morning': 1.0,\n",
       "  's': 24.0,\n",
       "  'know': 1.0,\n",
       "  'made': 2.0,\n",
       "  'films': 1.0,\n",
       "  'which': 3.0,\n",
       "  'stay': 1.0,\n",
       "  'again': 1.0,\n",
       "  'lion': 1.0,\n",
       "  'earned': 1.0,\n",
       "  'formed': 1.0,\n",
       "  'human': 1.0,\n",
       "  'just': 2.0,\n",
       "  'warm': 1.0,\n",
       "  'warns': 1.0,\n",
       "  'film': 2.0,\n",
       "  'remarkable': 1.0,\n",
       "  'perceptions': 1.0,\n",
       "  'david': 7.0,\n",
       "  'in': 16.0,\n",
       "  'tom': 2.0,\n",
       "  'going': 2.0,\n",
       "  'leave': 1.0,\n",
       "  'with': 11.0,\n",
       "  'jason': 1.0,\n",
       "  'past': 2.0,\n",
       "  'overall': 1.0,\n",
       "  'wide': 1.0,\n",
       "  'sensory': 1.0,\n",
       "  'away': 1.0,\n",
       "  'schultz': 1.0,\n",
       "  'our': 2.0,\n",
       "  'directors': 1.0,\n",
       "  'discern': 1.0,\n",
       "  'no': 5.0,\n",
       "  'or': 5.0,\n",
       "  'landscape': 1.0,\n",
       "  'effort': 1.0,\n",
       "  'her': 6.0,\n",
       "  'reality': 7.0,\n",
       "  'dream': 1.0,\n",
       "  'strange': 1.0,\n",
       "  'how': 3.0,\n",
       "  'one': 12.0,\n",
       "  'absolutely': 1.0,\n",
       "  'gives': 1.0,\n",
       "  'things': 1.0,\n",
       "  'really': 1.0,\n",
       "  'this': 12.0,\n",
       "  'eyes': 1.0,\n",
       "  'outstanding': 1.0,\n",
       "  'capacity': 1.0,\n",
       "  'highly': 1.0,\n",
       "  'been': 1.0,\n",
       "  'fires': 1.0,\n",
       "  'admittedly': 1.0,\n",
       "  'when': 1.0,\n",
       "  'noah': 1.0,\n",
       "  'young': 1.0,\n",
       "  'that': 19.0,\n",
       "  'performances': 1.0,\n",
       "  'fifty': 1.0,\n",
       "  'do': 1.0,\n",
       "  'inner': 1.0,\n",
       "  'maguire': 1.0,\n",
       "  'than': 5.0,\n",
       "  'years': 1.0,\n",
       "  'an': 7.0,\n",
       "  'see': 2.0,\n",
       "  'character': 3.0,\n",
       "  'rather': 2.0,\n",
       "  'real': 2.0,\n",
       "  'penelope': 3.0,\n",
       "  'friend': 1.0,\n",
       "  'three': 1.0,\n",
       "  'percent': 1.0,\n",
       "  'appear': 1.0,\n",
       "  'last': 1.0,\n",
       "  'by': 6.0,\n",
       "  'can': 5.0,\n",
       "  'down': 1.0,\n",
       "  'after': 2.0,\n",
       "  'gianni': 1.0,\n",
       "  'ever': 2.0,\n",
       "  'sky': 5.0,\n",
       "  'becomes': 2.0,\n",
       "  'wherein': 1.0,\n",
       "  'through': 2.0,\n",
       "  'concept': 1.0,\n",
       "  'job': 2.0,\n",
       "  'controlling': 1.0,\n",
       "  'special': 1.0,\n",
       "  'visited': 1.0,\n",
       "  'activity': 1.0,\n",
       "  'starring': 1.0,\n",
       "  'seen': 1.0,\n",
       "  'pound': 1.0,\n",
       "  'mind': 7.0,\n",
       "  'rushing': 1.0,\n",
       "  'imaginative': 1.0,\n",
       "  'thompson': 1.0,\n",
       "  'terrific': 1.0,\n",
       "  'crowe': 3.0,\n",
       "  'altering': 1.0,\n",
       "  'vibrant': 2.0,\n",
       "  'complete': 1.0,\n",
       "  'time': 2.0,\n",
       "  'processor': 1.0,\n",
       "  'assault': 1.0,\n",
       "  'all': 3.0,\n",
       "  'his': 18.0,\n",
       "  'forever': 1.0,\n",
       "  'thirty': 1.0,\n",
       "  'corporate': 1.0,\n",
       "  'until': 1.0,\n",
       "  'knowing': 1.0,\n",
       "  'man': 2.0,\n",
       "  'presents': 1.0,\n",
       "  'role': 3.0,\n",
       "  'she': 6.0,\n",
       "  'dressing': 1.0,\n",
       "  'pivotal': 1.0,\n",
       "  'about': 3.0,\n",
       "  'marked': 1.0,\n",
       "  'turned': 1.0,\n",
       "  'fully': 1.0,\n",
       "  'upside': 1.0,\n",
       "  'knows': 1.0,\n",
       "  'decision': 1.0,\n",
       "  'change': 1.0,\n",
       "  'functioning': 1.0,\n",
       "  'learn': 1.0,\n",
       "  'revealed': 1.0,\n",
       "  'sometimes': 1.0,\n",
       "  'york': 1.0,\n",
       "  'supporting': 1.0,\n",
       "  'up': 2.0,\n",
       "  'exciting': 2.0,\n",
       "  'throbbing': 1.0,\n",
       "  'director': 1.0,\n",
       "  'persona': 1.0,\n",
       "  'crafted': 1.0,\n",
       "  'honor': 1.0,\n",
       "  'another': 1.0,\n",
       "  'there': 4.0,\n",
       "  'think': 2.0,\n",
       "  'far': 1.0,\n",
       "  'pomerantz': 1.0,\n",
       "  'quality': 1.0,\n",
       "  'vanilla': 5.0,\n",
       "  'allows': 1.0,\n",
       "  'movie': 3.0,\n",
       "  'first': 1.0,\n",
       "  'n': 1.0,\n",
       "  'screen': 3.0,\n",
       "  'make': 1.0,\n",
       "  'visually': 1.0,\n",
       "  'extra': 1.0,\n",
       "  'both': 1.0,\n",
       "  'are': 4.0,\n",
       "  'center': 1.0,\n",
       "  'limited': 1.0,\n",
       "  'cerebrally': 1.0,\n",
       "  'twisting': 1.0,\n",
       "  'swallow': 1.0,\n",
       "  'you': 7.0,\n",
       "  'sweep': 1.0,\n",
       "  'exhausted': 1.0,\n",
       "  'few': 1.0,\n",
       "  'exceptional': 1.0,\n",
       "  'some': 2.0,\n",
       "  'roll': 1.0,\n",
       "  'galecki': 1.0,\n",
       "  'finely': 1.0,\n",
       "  'at': 5.0,\n",
       "  'worth': 1.0,\n",
       "  'will': 3.0,\n",
       "  'memento': 1.0,\n",
       "  'nomination': 1.0,\n",
       "  'driving': 1.0,\n",
       "  'much': 2.0,\n",
       "  'because': 2.0,\n",
       "  'realized': 1.0,\n",
       "  'to': 20.0,\n",
       "  'choices': 1.0,\n",
       "  'rock': 1.0,\n",
       "  'impression': 1.0,\n",
       "  'soundtrack': 1.0,\n",
       "  'offers': 1.0,\n",
       "  'behind': 1.0,\n",
       "  'colors': 1.0,\n",
       "  'stroke': 1.0,\n",
       "  'and': 39.0,\n",
       "  'those': 2.0,\n",
       "  'impressionist': 1.0,\n",
       "  'darkness': 1.0,\n",
       "  'light': 2.0,\n",
       "  'drive': 1.0,\n",
       "  'them': 1.0,\n",
       "  'mystery': 2.0,\n",
       "  'feel': 1.0,\n",
       "  'brings': 1.0,\n",
       "  'blood': 1.0,\n",
       "  'complex': 1.0,\n",
       "  'part': 3.0,\n",
       "  'veins': 1.0,\n",
       "  'played': 1.0,\n",
       "  'expanding': 1.0,\n",
       "  'who': 3.0,\n",
       "  'put': 1.0,\n",
       "  'thomas': 1.0,\n",
       "  'world': 1.0,\n",
       "  'trip': 1.0,\n",
       "  'night': 1.0,\n",
       "  'creates': 1.0,\n",
       "  'silent': 1.0,\n",
       "  'hint': 1.0,\n",
       "  'here': 3.0,\n",
       "  'set': 1.0,\n",
       "  'fairly': 1.0,\n",
       "  'maverick': 1.0,\n",
       "  'includes': 1.0,\n",
       "  'hunt': 1.0,\n",
       "  'mission': 1.0,\n",
       "  'get': 3.0,\n",
       "  'was': 1.0,\n",
       "  'filmmaker': 1.0,\n",
       "  'impossible': 1.0,\n",
       "  'moves': 1.0,\n",
       "  'have': 4.0,\n",
       "  'ups': 1.0,\n",
       "  'performance': 3.0,\n",
       "  'publishing': 1.0,\n",
       "  'career': 2.0,\n",
       "  'should': 2.0,\n",
       "  'ability': 1.0,\n",
       "  'out': 3.0,\n",
       "  'door': 1.0,\n",
       "  'interesting': 1.0,\n",
       "  'yet': 1.0,\n",
       "  'cruise': 6.0,\n",
       "  'magnolia': 1.0,\n",
       "  'merely': 1.0,\n",
       "  'but': 7.0,\n",
       "  'very': 1.0,\n",
       "  'carol': 1.0,\n",
       "  'makes': 4.0,\n",
       "  'knew': 1.0,\n",
       "  'peers': 1.0,\n",
       "  'give': 1.0,\n",
       "  'window': 1.0,\n",
       "  'credit': 1.0,\n",
       "  'integrates': 1.0,\n",
       "  'dwarfs': 1.0,\n",
       "  'too': 1.0,\n",
       "  'taking': 1.0,\n",
       "  'vision': 2.0,\n",
       "  'dispels': 1.0,\n",
       "  'works': 1.0,\n",
       "  'the': 44.0,\n",
       "  'vanity': 1.0,\n",
       "  've': 1.0,\n",
       "  'however': 2.0,\n",
       "  'intricate': 1.0,\n",
       "  'jerry': 1.0,\n",
       "  'also': 2.0,\n",
       "  'well': 3.0,\n",
       "  'forthcoming': 1.0,\n",
       "  'admiration': 1.0,\n",
       "  'images': 1.0,\n",
       "  'acclaim': 1.0,\n",
       "  'if': 1.0,\n",
       "  'dreams': 1.0,\n",
       "  'innocence': 1.0,\n",
       "  'accessible': 1.0,\n",
       "  'actors': 1.0,\n",
       "  'certainly': 1.0,\n",
       "  'doing': 1.0,\n",
       "  'better': 1.0,\n",
       "  'sizzles': 1.0,\n",
       "  'for': 4.0,\n",
       "  'mistake': 1.0,\n",
       "  'life': 2.0,\n",
       "  'package': 1.0,\n",
       "  'cameron': 4.0,\n",
       "  'measured': 1.0},\n",
       " 'predictions': 1.0}"
      ]
     },
     "execution_count": 53,
     "metadata": {},
     "output_type": "execute_result"
    }
   ],
   "source": [
    "movies.sort('predictions', ascending=False)[0]"
   ]
  },
  {
   "cell_type": "code",
   "execution_count": 54,
   "metadata": {
    "tags": []
   },
   "outputs": [
    {
     "data": {
      "text/plain": [
       "{'review': \"Even duller, if possible, than the original (I hope I may say that under the IMDb guidelines). THE FRENCH CONNECTION at least tried to absorb European influences, to complicate the conventional view of the American police detective, even if the attempt was foundered by Friedkin's ambivalence, Americaness and general indirection. The (relative) arthouse boom of the 1960s (especially with the nouvelle vague) allowed for a huge influence of European cinema in Hollywood. This lent a new vigour and complexity to a weary medium, and, in the best of them (eg BONNIE AND CLYDE, early Scorcese), a new subversion of received practice. The original CONNECTION was part of this movement, with its difficultly distanced style, and anti-detective figure. TWO is old Hollywood's right-wing reassertion of American values.<br /><br />This is figured in the film's very tiresome America vs France dialectic. For instance, TWO is shot like a 70s French policier. It was the French, of course, who insisted on the greatness of American movies when they were ignored at home, and this, in a sense, is a reclamation, a warning against Gallic presumption. This can be seen in the pattern of the two movies. CONNECTION has French gangsters invading New York, with the French style smothering the American thriller - this leads to the dissolution of the detective figure, and irresolution of plot - the baddie got away. <br /><br />TWO has the American returning to France, with American thriller values imposed on the native genre - the power of the detective is reasserted and conventional resolution is achieved. This is further dramatised in Doyle's relationship with French inspector Barthelmy, whose dominant influence he must shake off before he can control the plot.<br /><br />TWO seems to follow the original by undermining its detective hero. From the start, Doyle's importance is diminished at every turn. Despite the ending of CONNECTION, he is considered a hero. But he is an American in a foreign land, and his inability to control language or customs means he cannot dominate the plot. He even misreads the signs of the police force, mistaking an informer for a criminal, and getting him killed. <br /><br />A detective's power comes from his power as subject to see and interpret, but Doyle spends much of the movie being watched, controlled, an object, a body (literally in the scenes after he is dumped by Charnier) to be viewed and interpreted. In CONNECTION, he instigated the action, chasing the criminals, forcing the plot; here he is passive, tied to a bed, locked in a cell, an addict, a dependent.<br /><br />This loss of phallic power is predictably symbolised in the loss of his gun, and the film follows a depressingly familiar Oedipal trajectory. In the heroin sequences, he is comforted by an old lady who says he looks like her son. His drugged state is like a return to the womb, robbed of adult pressures. Her taking his watch reinforces the timelessness of this state, doubly significant for a man whose career depends on timetables and precision.<br /><br />Oedipus was the first detective, and to avoid his fate, Doyle must reject this false mother who is dissolving his unified identity, and kill the father (Charnier) so that he can take his accepted masculine role in society. Psychoanalytic theory was popular among academics in the 70s(ironically instigated by a Frenchman, Jacques Lacan), but it's rare to see a film so literally full of it. <br /><br />If all of these facts tended towards the minimising of Doyle, then the film's style doesn't. Friedkin distanced us from his hero by refusing empathy or character motivation, focusing on the mechanics of plot. Here, Doyle is a very conventional Hollywood hero. Instead of being lost in murky long shot, he is made knowable and understandable to the viewer with the traditional devices - point-of-view shots, close ups, connecting shots etc.<br /><br />TWO is all about the fall and rise of Popeye Doyle. Plot in this case is subservient to the acting, which is the usual Hackman showiness. The cold turkey scenes, therefore, despite their tediousness, are not disturbing. We are allowed to share rather than coldly observe; this a far less discomforting experience. The scenes are also shot through with a lachrymose manly sentimentality that is very American. <br /><br />So while CONNECTION tried to imitate the complex thrillers of Jean Pierre Melville, TWO does the complete opposite. Melville's LE SAMOURAI featured a gangster who started the film whole, powerful, outside language, and charted his eventual disintegration. TWO starts with a disintegrated character, achieved partly through inability with language, whose dominance begins when he steps outside language - the concluding action sequences are largely wordless. <br /><br />In the film, the locale and language are important as they fixed and undermined the detective, but as he regains his power (figured in the return of his gun, and the cathartic burning of the primal site of vulnerability, the tower block where Charnier held him), the Marseilles setting becomes more irrelevant, and the mythic stand-off, which could take place anywhere, takes over. Compare the endings of the two films: one admits ambiguity and despair, the other absolute certainty.<br /><br />\",\n",
       " 'sentiment': 'negative',\n",
       " 'words': {'despair': 1.0,\n",
       "  'ambiguity': 1.0,\n",
       "  'admits': 1.0,\n",
       "  'one': 1.0,\n",
       "  'endings': 1.0,\n",
       "  'compare': 1.0,\n",
       "  'takes': 1.0,\n",
       "  'could': 1.0,\n",
       "  'as': 3.0,\n",
       "  'less': 1.0,\n",
       "  'other': 1.0,\n",
       "  'whole': 1.0,\n",
       "  'signs': 1.0,\n",
       "  'policier': 1.0,\n",
       "  'every': 1.0,\n",
       "  'misreads': 1.0,\n",
       "  'through': 2.0,\n",
       "  'dominate': 1.0,\n",
       "  'means': 1.0,\n",
       "  'killed': 1.0,\n",
       "  'or': 2.0,\n",
       "  'popular': 1.0,\n",
       "  'language': 5.0,\n",
       "  'foreign': 1.0,\n",
       "  'movies': 2.0,\n",
       "  'an': 5.0,\n",
       "  'adult': 1.0,\n",
       "  'despite': 2.0,\n",
       "  'indirection': 1.0,\n",
       "  'start': 1.0,\n",
       "  'undermining': 1.0,\n",
       "  'absolute': 1.0,\n",
       "  'mistaking': 1.0,\n",
       "  'reassertion': 1.0,\n",
       "  'etc': 1.0,\n",
       "  'lacan': 1.0,\n",
       "  'regains': 1.0,\n",
       "  'before': 1.0,\n",
       "  'style': 3.0,\n",
       "  'inability': 2.0,\n",
       "  'york': 1.0,\n",
       "  'primal': 1.0,\n",
       "  'must': 2.0,\n",
       "  'whose': 3.0,\n",
       "  'him': 2.0,\n",
       "  'certainty': 1.0,\n",
       "  'inspector': 1.0,\n",
       "  'cell': 1.0,\n",
       "  'relationship': 1.0,\n",
       "  'new': 3.0,\n",
       "  'turkey': 1.0,\n",
       "  'further': 1.0,\n",
       "  'theory': 1.0,\n",
       "  'these': 1.0,\n",
       "  'genre': 1.0,\n",
       "  'getting': 1.0,\n",
       "  'hero': 4.0,\n",
       "  'imposed': 1.0,\n",
       "  'returning': 1.0,\n",
       "  'irresolution': 1.0,\n",
       "  'take': 2.0,\n",
       "  'leads': 1.0,\n",
       "  'experience': 1.0,\n",
       "  'pattern': 1.0,\n",
       "  'seen': 1.0,\n",
       "  'becomes': 1.0,\n",
       "  'be': 2.0,\n",
       "  'it': 3.0,\n",
       "  'achieved': 2.0,\n",
       "  'is': 22.0,\n",
       "  'presumption': 1.0,\n",
       "  'they': 2.0,\n",
       "  'absorb': 1.0,\n",
       "  'movie': 1.0,\n",
       "  'bed': 1.0,\n",
       "  'dominant': 1.0,\n",
       "  'on': 4.0,\n",
       "  'burning': 1.0,\n",
       "  'insisted': 1.0,\n",
       "  'subject': 1.0,\n",
       "  'who': 4.0,\n",
       "  'like': 3.0,\n",
       "  'avoid': 1.0,\n",
       "  'when': 2.0,\n",
       "  'attempt': 1.0,\n",
       "  'instance': 1.0,\n",
       "  'off': 2.0,\n",
       "  'melville': 2.0,\n",
       "  'diminished': 1.0,\n",
       "  'general': 1.0,\n",
       "  't': 1.0,\n",
       "  'wing': 1.0,\n",
       "  'film': 6.0,\n",
       "  'in': 18.0,\n",
       "  'cannot': 1.0,\n",
       "  'the': 71.0,\n",
       "  'important': 1.0,\n",
       "  'films': 1.0,\n",
       "  'foundered': 1.0,\n",
       "  'mechanics': 1.0,\n",
       "  'smothering': 1.0,\n",
       "  'vague': 1.0,\n",
       "  'americaness': 1.0,\n",
       "  'anywhere': 1.0,\n",
       "  'forcing': 1.0,\n",
       "  'ambivalence': 1.0,\n",
       "  'sense': 1.0,\n",
       "  's': 9.0,\n",
       "  'doesn': 1.0,\n",
       "  'gallic': 1.0,\n",
       "  'difficultly': 1.0,\n",
       "  'fate': 1.0,\n",
       "  'frenchman': 1.0,\n",
       "  'a': 26.0,\n",
       "  'resolution': 1.0,\n",
       "  'addict': 1.0,\n",
       "  'home': 1.0,\n",
       "  'by': 6.0,\n",
       "  'hope': 1.0,\n",
       "  'detective': 8.0,\n",
       "  'steps': 1.0,\n",
       "  'movement': 1.0,\n",
       "  'nouvelle': 1.0,\n",
       "  'native': 1.0,\n",
       "  '70s': 2.0,\n",
       "  'of': 32.0,\n",
       "  'even': 3.0,\n",
       "  'allowed': 2.0,\n",
       "  'jean': 1.0,\n",
       "  'old': 2.0,\n",
       "  'dialectic': 1.0,\n",
       "  'criminal': 1.0,\n",
       "  'police': 2.0,\n",
       "  'ending': 1.0,\n",
       "  'european': 2.0,\n",
       "  'conventional': 3.0,\n",
       "  'at': 3.0,\n",
       "  'usual': 1.0,\n",
       "  'doyle': 7.0,\n",
       "  'medium': 1.0,\n",
       "  'huge': 1.0,\n",
       "  'viewer': 1.0,\n",
       "  'complicate': 1.0,\n",
       "  'watch': 1.0,\n",
       "  'see': 2.0,\n",
       "  'can': 3.0,\n",
       "  'after': 1.0,\n",
       "  'gangsters': 1.0,\n",
       "  'reclamation': 1.0,\n",
       "  'devices': 1.0,\n",
       "  'i': 2.0,\n",
       "  'vulnerability': 1.0,\n",
       "  'informer': 1.0,\n",
       "  'locked': 1.0,\n",
       "  'if': 3.0,\n",
       "  'view': 2.0,\n",
       "  'connecting': 1.0,\n",
       "  'were': 1.0,\n",
       "  'duller': 1.0,\n",
       "  'shake': 1.0,\n",
       "  'criminals': 1.0,\n",
       "  'reasserted': 1.0,\n",
       "  'cold': 1.0,\n",
       "  'got': 1.0,\n",
       "  'role': 1.0,\n",
       "  'american': 8.0,\n",
       "  'say': 1.0,\n",
       "  'this': 12.0,\n",
       "  'imdb': 1.0,\n",
       "  'was': 5.0,\n",
       "  'comes': 1.0,\n",
       "  'baddie': 1.0,\n",
       "  'subservient': 1.0,\n",
       "  'influences': 1.0,\n",
       "  'thrillers': 1.0,\n",
       "  'least': 1.0,\n",
       "  'right': 1.0,\n",
       "  'arthouse': 1.0,\n",
       "  'customs': 1.0,\n",
       "  'hollywood': 3.0,\n",
       "  'may': 1.0,\n",
       "  'reinforces': 1.0,\n",
       "  'oedipus': 1.0,\n",
       "  'connection': 6.0,\n",
       "  'therefore': 1.0,\n",
       "  'french': 6.0,\n",
       "  'depressingly': 1.0,\n",
       "  'with': 9.0,\n",
       "  'away': 1.0,\n",
       "  'for': 4.0,\n",
       "  'gangster': 1.0,\n",
       "  'than': 2.0,\n",
       "  'dumped': 1.0,\n",
       "  'possible': 1.0,\n",
       "  'cathartic': 1.0,\n",
       "  'part': 1.0,\n",
       "  'cinema': 1.0,\n",
       "  'lent': 1.0,\n",
       "  'its': 2.0,\n",
       "  'considered': 1.0,\n",
       "  'boom': 1.0,\n",
       "  'vigour': 1.0,\n",
       "  'influence': 2.0,\n",
       "  'complexity': 1.0,\n",
       "  'to': 17.0,\n",
       "  'much': 1.0,\n",
       "  'weary': 1.0,\n",
       "  'dependent': 1.0,\n",
       "  'has': 2.0,\n",
       "  'timetables': 1.0,\n",
       "  'them': 1.0,\n",
       "  'tried': 2.0,\n",
       "  'pierre': 1.0,\n",
       "  'warning': 1.0,\n",
       "  'relative': 1.0,\n",
       "  'eg': 1.0,\n",
       "  'coldly': 1.0,\n",
       "  'greatness': 1.0,\n",
       "  'vs': 1.0,\n",
       "  'timelessness': 1.0,\n",
       "  'clyde': 1.0,\n",
       "  'object': 1.0,\n",
       "  'early': 1.0,\n",
       "  'invading': 1.0,\n",
       "  'especially': 1.0,\n",
       "  'two': 9.0,\n",
       "  'scorcese': 1.0,\n",
       "  'guidelines': 1.0,\n",
       "  'power': 5.0,\n",
       "  'friedkin': 2.0,\n",
       "  'depends': 1.0,\n",
       "  'anti': 1.0,\n",
       "  'control': 2.0,\n",
       "  'figured': 2.0,\n",
       "  'close': 1.0,\n",
       "  'masculine': 1.0,\n",
       "  'plot': 6.0,\n",
       "  'accepted': 1.0,\n",
       "  'bonnie': 1.0,\n",
       "  'original': 3.0,\n",
       "  'father': 1.0,\n",
       "  'values': 2.0,\n",
       "  'importance': 1.0,\n",
       "  'dissolving': 1.0,\n",
       "  'dramatised': 1.0,\n",
       "  'academics': 1.0,\n",
       "  'case': 1.0,\n",
       "  'interpret': 1.0,\n",
       "  'largely': 1.0,\n",
       "  'spends': 1.0,\n",
       "  'being': 2.0,\n",
       "  'watched': 1.0,\n",
       "  'comforted': 1.0,\n",
       "  'controlled': 1.0,\n",
       "  'body': 1.0,\n",
       "  'understandable': 1.0,\n",
       "  'literally': 2.0,\n",
       "  'dominance': 1.0,\n",
       "  'viewed': 1.0,\n",
       "  'taking': 1.0,\n",
       "  'interpreted': 1.0,\n",
       "  'mythic': 1.0,\n",
       "  'disintegrated': 1.0,\n",
       "  'instigated': 2.0,\n",
       "  'turn': 1.0,\n",
       "  'america': 1.0,\n",
       "  'action': 2.0,\n",
       "  'ironically': 1.0,\n",
       "  'place': 1.0,\n",
       "  'chasing': 1.0,\n",
       "  'ignored': 1.0,\n",
       "  'here': 2.0,\n",
       "  'passive': 1.0,\n",
       "  'doubly': 1.0,\n",
       "  'tied': 1.0,\n",
       "  'loss': 2.0,\n",
       "  'return': 2.0,\n",
       "  'best': 1.0,\n",
       "  'practice': 1.0,\n",
       "  'phallic': 1.0,\n",
       "  'predictably': 1.0,\n",
       "  'gun': 2.0,\n",
       "  'follows': 1.0,\n",
       "  'familiar': 1.0,\n",
       "  'and': 24.0,\n",
       "  'trajectory': 1.0,\n",
       "  'subversion': 1.0,\n",
       "  'lady': 1.0,\n",
       "  'point': 1.0,\n",
       "  'charnier': 3.0,\n",
       "  'observe': 1.0,\n",
       "  'seems': 1.0,\n",
       "  'looks': 1.0,\n",
       "  'her': 2.0,\n",
       "  'son': 1.0,\n",
       "  'drugged': 1.0,\n",
       "  'against': 1.0,\n",
       "  'state': 2.0,\n",
       "  'force': 1.0,\n",
       "  'womb': 1.0,\n",
       "  'psychoanalytic': 1.0,\n",
       "  'robbed': 1.0,\n",
       "  '1960s': 1.0,\n",
       "  'significant': 1.0,\n",
       "  'man': 1.0,\n",
       "  'precision': 1.0,\n",
       "  'first': 1.0,\n",
       "  'reject': 1.0,\n",
       "  'false': 1.0,\n",
       "  'identity': 1.0,\n",
       "  'kill': 1.0,\n",
       "  'society': 1.0,\n",
       "  'hackman': 1.0,\n",
       "  'disturbing': 1.0,\n",
       "  'among': 1.0,\n",
       "  'concluding': 1.0,\n",
       "  'jacques': 1.0,\n",
       "  'symbolised': 1.0,\n",
       "  'powerful': 1.0,\n",
       "  'rare': 1.0,\n",
       "  'refusing': 1.0,\n",
       "  'outside': 2.0,\n",
       "  'full': 1.0,\n",
       "  'showiness': 1.0,\n",
       "  'knowable': 1.0,\n",
       "  'his': 12.0,\n",
       "  'all': 2.0,\n",
       "  'facts': 1.0,\n",
       "  'sequences': 2.0,\n",
       "  'shot': 3.0,\n",
       "  'unified': 1.0,\n",
       "  'tended': 1.0,\n",
       "  'minimising': 1.0,\n",
       "  'over': 1.0,\n",
       "  'then': 1.0,\n",
       "  'us': 1.0,\n",
       "  'empathy': 1.0,\n",
       "  'figure': 2.0,\n",
       "  'motivation': 1.0,\n",
       "  'he': 15.0,\n",
       "  'focusing': 1.0,\n",
       "  'towards': 1.0,\n",
       "  'instead': 1.0,\n",
       "  'oedipal': 1.0,\n",
       "  'so': 3.0,\n",
       "  'eventual': 1.0,\n",
       "  'murky': 1.0,\n",
       "  'heroin': 1.0,\n",
       "  'le': 1.0,\n",
       "  'long': 1.0,\n",
       "  'made': 1.0,\n",
       "  'thriller': 2.0,\n",
       "  'traditional': 1.0,\n",
       "  'scenes': 3.0,\n",
       "  'shots': 2.0,\n",
       "  'ups': 1.0,\n",
       "  'lachrymose': 1.0,\n",
       "  'about': 1.0,\n",
       "  'fall': 1.0,\n",
       "  'popeye': 1.0,\n",
       "  'acting': 1.0,\n",
       "  'also': 1.0,\n",
       "  'which': 2.0,\n",
       "  'their': 1.0,\n",
       "  'land': 1.0,\n",
       "  'tediousness': 1.0,\n",
       "  'are': 5.0,\n",
       "  'tiresome': 1.0,\n",
       "  'not': 1.0,\n",
       "  'barthelmy': 1.0,\n",
       "  'that': 3.0,\n",
       "  'site': 1.0,\n",
       "  'br': 22.0,\n",
       "  'we': 1.0,\n",
       "  'irrelevant': 1.0,\n",
       "  'character': 2.0,\n",
       "  'rather': 1.0,\n",
       "  'far': 1.0,\n",
       "  'very': 3.0,\n",
       "  'but': 4.0,\n",
       "  'france': 2.0,\n",
       "  'discomforting': 1.0,\n",
       "  'course': 1.0,\n",
       "  'mother': 1.0,\n",
       "  'manly': 1.0,\n",
       "  'sentimentality': 1.0,\n",
       "  'begins': 1.0,\n",
       "  'while': 1.0,\n",
       "  'imitate': 1.0,\n",
       "  'dissolution': 1.0,\n",
       "  'complex': 1.0,\n",
       "  'under': 1.0,\n",
       "  'does': 1.0,\n",
       "  'complete': 1.0,\n",
       "  'opposite': 1.0,\n",
       "  'follow': 1.0,\n",
       "  'samourai': 1.0,\n",
       "  'featured': 1.0,\n",
       "  'rise': 1.0,\n",
       "  'started': 1.0,\n",
       "  'pressures': 1.0,\n",
       "  'disintegration': 1.0,\n",
       "  'starts': 1.0,\n",
       "  'partly': 1.0,\n",
       "  'wordless': 1.0,\n",
       "  'locale': 1.0,\n",
       "  'fixed': 1.0,\n",
       "  'tower': 1.0,\n",
       "  'distanced': 2.0,\n",
       "  'career': 1.0,\n",
       "  'undermined': 1.0,\n",
       "  'share': 1.0,\n",
       "  'block': 1.0,\n",
       "  'says': 1.0,\n",
       "  'where': 1.0,\n",
       "  'received': 1.0,\n",
       "  'held': 1.0,\n",
       "  'lost': 1.0,\n",
       "  'marseilles': 1.0,\n",
       "  'from': 3.0,\n",
       "  'charted': 1.0,\n",
       "  'setting': 1.0,\n",
       "  'more': 1.0,\n",
       "  'stand': 1.0},\n",
       " 'predictions': 4.7110847081609974e-92}"
      ]
     },
     "execution_count": 54,
     "metadata": {},
     "output_type": "execute_result"
    }
   ],
   "source": [
    "movies.sort('predictions', ascending=True)[0]"
   ]
  },
  {
   "cell_type": "markdown",
   "metadata": {},
   "source": [
    "## Question 1: "
   ]
  },
  {
   "cell_type": "markdown",
   "metadata": {},
   "source": [
    "### a.) How many items are in the raw dataset? What data is contained in each item, and what is the label?"
   ]
  },
  {
   "cell_type": "code",
   "execution_count": 55,
   "metadata": {},
   "outputs": [
    {
     "name": "stdout",
     "output_type": "stream",
     "text": [
      "There are 50000 items in the raw data set.\n"
     ]
    }
   ],
   "source": [
    "print('There are' , len(movies), 'items in the raw data set.')  "
   ]
  },
  {
   "cell_type": "markdown",
   "metadata": {},
   "source": [
    "Each row contains a movie reivew in full text as a string, and a sentiment on the review whether its a positive or negative review. <br> Sentiment column is the label column, and we have two kinds of labels, positive and negative respectively."
   ]
  },
  {
   "cell_type": "markdown",
   "metadata": {},
   "source": [
    "### b.) What does the tc.text_analytics.count_words() function do? "
   ]
  },
  {
   "cell_type": "markdown",
   "metadata": {},
   "source": [
    "This is a built-in function in turi create. It counts the number of appearances of words in a text and stores it as a dictionary, where {'word': no. of iterations, ...}. If text is an SArray of strings or an SArray of lists of strings, the occurances of word are counted for each row in the SArray. If text is an SArray of dictionaries, the keys are tokenized and the values are the counts. Counts for the same word, in the same row, are added together. By counting the appearance of words, we can put each word as a different feature and quantify the importance of the word in expressing the sentiment in the text."
   ]
  },
  {
   "cell_type": "markdown",
   "metadata": {},
   "source": [
    "### c.) How much of the data is used for validation? What are the training and validation accuracies, and what does this imply in terms of overfitting/underfitting?"
   ]
  },
  {
   "cell_type": "markdown",
   "metadata": {},
   "source": [
    "5% of the data is used for validation. "
   ]
  },
  {
   "cell_type": "markdown",
   "metadata": {},
   "source": [
    "The training set achieved a high accuracy, nearly 100%, but the validation set has only 87% accuracy. High training accuracy and low validation accuracy implies the model is overfitting. "
   ]
  },
  {
   "cell_type": "code",
   "execution_count": 56,
   "metadata": {},
   "outputs": [
    {
     "name": "stdout",
     "output_type": "stream",
     "text": [
      "The training accuracy is: 0.9995578947368421\n"
     ]
    }
   ],
   "source": [
    "print('The training accuracy is:', model.training_accuracy)"
   ]
  },
  {
   "cell_type": "code",
   "execution_count": 57,
   "metadata": {},
   "outputs": [
    {
     "name": "stdout",
     "output_type": "stream",
     "text": [
      "The validation accuracy is: 0.8736\n"
     ]
    }
   ],
   "source": [
    "print('The validation accuracy is:', model.validation_accuracy)"
   ]
  },
  {
   "cell_type": "markdown",
   "metadata": {},
   "source": [
    "### d.) How many coefficients are in the model?"
   ]
  },
  {
   "cell_type": "code",
   "execution_count": 58,
   "metadata": {},
   "outputs": [
    {
     "name": "stdout",
     "output_type": "stream",
     "text": [
      "There are 101764 coefficients and one bias in the model\n"
     ]
    }
   ],
   "source": [
    "print('There are',len(model.coefficients)-1, 'coefficients and one bias in the model')"
   ]
  },
  {
   "cell_type": "markdown",
   "metadata": {},
   "source": [
    "### e.) What weights are given to the L1 and L2 penalties for regularization?"
   ]
  },
  {
   "cell_type": "markdown",
   "metadata": {},
   "source": [
    "L1 = 0.0\n",
    "<br>L2 = 0.01"
   ]
  },
  {
   "cell_type": "markdown",
   "metadata": {},
   "source": [
    "### f.) Compare the top 10 words that contributed to positive reviews with the top 10 words that contributed to negative reviews. What is the difference between them?"
   ]
  },
  {
   "cell_type": "code",
   "execution_count": 59,
   "metadata": {},
   "outputs": [
    {
     "data": {
      "text/html": [
       "<div style=\"max-height:1000px;max-width:1500px;overflow:auto;\"><table frame=\"box\" rules=\"cols\">\n",
       "    <tr>\n",
       "        <th style=\"padding-left: 1em; padding-right: 1em; text-align: center\">Negative weights</th>\n",
       "        <th style=\"padding-left: 1em; padding-right: 1em; text-align: center\">Negative words</th>\n",
       "        <th style=\"padding-left: 1em; padding-right: 1em; text-align: center\">Positive weights</th>\n",
       "        <th style=\"padding-left: 1em; padding-right: 1em; text-align: center\">Positive words</th>\n",
       "    </tr>\n",
       "    <tr>\n",
       "        <td style=\"padding-left: 1em; padding-right: 1em; text-align: center; vertical-align: top\">-25.60358274680114</td>\n",
       "        <td style=\"padding-left: 1em; padding-right: 1em; text-align: center; vertical-align: top\">cheeker</td>\n",
       "        <td style=\"padding-left: 1em; padding-right: 1em; text-align: center; vertical-align: top\">26.54289662116836</td>\n",
       "        <td style=\"padding-left: 1em; padding-right: 1em; text-align: center; vertical-align: top\">vez</td>\n",
       "    </tr>\n",
       "    <tr>\n",
       "        <td style=\"padding-left: 1em; padding-right: 1em; text-align: center; vertical-align: top\">-24.48029291272045</td>\n",
       "        <td style=\"padding-left: 1em; padding-right: 1em; text-align: center; vertical-align: top\">cannonite</td>\n",
       "        <td style=\"padding-left: 1em; padding-right: 1em; text-align: center; vertical-align: top\">26.54289662116836</td>\n",
       "        <td style=\"padding-left: 1em; padding-right: 1em; text-align: center; vertical-align: top\">solamente</td>\n",
       "    </tr>\n",
       "    <tr>\n",
       "        <td style=\"padding-left: 1em; padding-right: 1em; text-align: center; vertical-align: top\">-24.48029291272045</td>\n",
       "        <td style=\"padding-left: 1em; padding-right: 1em; text-align: center; vertical-align: top\">undoubtable</td>\n",
       "        <td style=\"padding-left: 1em; padding-right: 1em; text-align: center; vertical-align: top\">25.780704465129</td>\n",
       "        <td style=\"padding-left: 1em; padding-right: 1em; text-align: center; vertical-align: top\">widdecombe</td>\n",
       "    </tr>\n",
       "    <tr>\n",
       "        <td style=\"padding-left: 1em; padding-right: 1em; text-align: center; vertical-align: top\">-17.903974377650954</td>\n",
       "        <td style=\"padding-left: 1em; padding-right: 1em; text-align: center; vertical-align: top\">sierre</td>\n",
       "        <td style=\"padding-left: 1em; padding-right: 1em; text-align: center; vertical-align: top\">25.780704465129</td>\n",
       "        <td style=\"padding-left: 1em; padding-right: 1em; text-align: center; vertical-align: top\">distrusting</td>\n",
       "    </tr>\n",
       "    <tr>\n",
       "        <td style=\"padding-left: 1em; padding-right: 1em; text-align: center; vertical-align: top\">-17.271186989360363</td>\n",
       "        <td style=\"padding-left: 1em; padding-right: 1em; text-align: center; vertical-align: top\">unfortuntately</td>\n",
       "        <td style=\"padding-left: 1em; padding-right: 1em; text-align: center; vertical-align: top\">25.53255345264813</td>\n",
       "        <td style=\"padding-left: 1em; padding-right: 1em; text-align: center; vertical-align: top\">schwa</td>\n",
       "    </tr>\n",
       "    <tr>\n",
       "        <td style=\"padding-left: 1em; padding-right: 1em; text-align: center; vertical-align: top\">-16.521060482486682</td>\n",
       "        <td style=\"padding-left: 1em; padding-right: 1em; text-align: center; vertical-align: top\">toyshop</td>\n",
       "        <td style=\"padding-left: 1em; padding-right: 1em; text-align: center; vertical-align: top\">25.53255345264813</td>\n",
       "        <td style=\"padding-left: 1em; padding-right: 1em; text-align: center; vertical-align: top\">righties</td>\n",
       "    </tr>\n",
       "    <tr>\n",
       "        <td style=\"padding-left: 1em; padding-right: 1em; text-align: center; vertical-align: top\">-15.932981413415215</td>\n",
       "        <td style=\"padding-left: 1em; padding-right: 1em; text-align: center; vertical-align: top\">newlwed</td>\n",
       "        <td style=\"padding-left: 1em; padding-right: 1em; text-align: center; vertical-align: top\">25.53255345264813</td>\n",
       "        <td style=\"padding-left: 1em; padding-right: 1em; text-align: center; vertical-align: top\">workplaces</td>\n",
       "    </tr>\n",
       "    <tr>\n",
       "        <td style=\"padding-left: 1em; padding-right: 1em; text-align: center; vertical-align: top\">-15.414117634510301</td>\n",
       "        <td style=\"padding-left: 1em; padding-right: 1em; text-align: center; vertical-align: top\">lodz</td>\n",
       "        <td style=\"padding-left: 1em; padding-right: 1em; text-align: center; vertical-align: top\">25.53255345264813</td>\n",
       "        <td style=\"padding-left: 1em; padding-right: 1em; text-align: center; vertical-align: top\">phworr</td>\n",
       "    </tr>\n",
       "    <tr>\n",
       "        <td style=\"padding-left: 1em; padding-right: 1em; text-align: center; vertical-align: top\">-15.268677807074516</td>\n",
       "        <td style=\"padding-left: 1em; padding-right: 1em; text-align: center; vertical-align: top\">bsed</td>\n",
       "        <td style=\"padding-left: 1em; padding-right: 1em; text-align: center; vertical-align: top\">25.53255345264813</td>\n",
       "        <td style=\"padding-left: 1em; padding-right: 1em; text-align: center; vertical-align: top\">publican</td>\n",
       "    </tr>\n",
       "    <tr>\n",
       "        <td style=\"padding-left: 1em; padding-right: 1em; text-align: center; vertical-align: top\">-14.551804409633345</td>\n",
       "        <td style=\"padding-left: 1em; padding-right: 1em; text-align: center; vertical-align: top\">taylors</td>\n",
       "        <td style=\"padding-left: 1em; padding-right: 1em; text-align: center; vertical-align: top\">25.53255345264813</td>\n",
       "        <td style=\"padding-left: 1em; padding-right: 1em; text-align: center; vertical-align: top\">laddishness</td>\n",
       "    </tr>\n",
       "</table>\n",
       "[101765 rows x 4 columns]<br/>Note: Only the head of the SFrame is printed.<br/>You can use print_rows(num_rows=m, num_columns=n) to print more rows and columns.\n",
       "</div>"
      ],
      "text/plain": [
       "Columns:\n",
       "\tNegative weights\tfloat\n",
       "\tNegative words\tstr\n",
       "\tPositive weights\tfloat\n",
       "\tPositive words\tstr\n",
       "\n",
       "Rows: 101765\n",
       "\n",
       "Data:\n",
       "+---------------------+----------------+-------------------+----------------+\n",
       "|   Negative weights  | Negative words |  Positive weights | Positive words |\n",
       "+---------------------+----------------+-------------------+----------------+\n",
       "|  -25.60358274680114 |    cheeker     | 26.54289662116836 |      vez       |\n",
       "|  -24.48029291272045 |   cannonite    | 26.54289662116836 |   solamente    |\n",
       "|  -24.48029291272045 |  undoubtable   |  25.780704465129  |   widdecombe   |\n",
       "| -17.903974377650954 |     sierre     |  25.780704465129  |  distrusting   |\n",
       "| -17.271186989360363 | unfortuntately | 25.53255345264813 |     schwa      |\n",
       "| -16.521060482486682 |    toyshop     | 25.53255345264813 |    righties    |\n",
       "| -15.932981413415215 |    newlwed     | 25.53255345264813 |   workplaces   |\n",
       "| -15.414117634510301 |      lodz      | 25.53255345264813 |     phworr     |\n",
       "| -15.268677807074516 |      bsed      | 25.53255345264813 |    publican    |\n",
       "| -14.551804409633345 |    taylors     | 25.53255345264813 |  laddishness   |\n",
       "+---------------------+----------------+-------------------+----------------+\n",
       "[101765 rows x 4 columns]\n",
       "Note: Only the head of the SFrame is printed.\n",
       "You can use print_rows(num_rows=m, num_columns=n) to print more rows and columns."
      ]
     },
     "execution_count": 59,
     "metadata": {},
     "output_type": "execute_result"
    }
   ],
   "source": [
    "# Words with biggest positive weight. \n",
    "word_p = weights.sort('value', ascending=False)\n",
    "word_n = weights.sort('value', ascending=True)\n",
    "word_dict = {'Positive words':word_p['index'],'Positive weights':word_p['value'], \n",
    "             'Negative words':word_n['index'], 'Negative weights':word_n['value']}\n",
    "words = tc.SFrame(word_dict)\n",
    "words"
   ]
  },
  {
   "cell_type": "markdown",
   "metadata": {},
   "source": [
    "As we see above, strong negative words like 'cannonite', 'unfortunatately' are associated with bigger negative weights, but this association isn't much obvious in the top ten positive words. We think this indicates the text needs to be further cleaned. But in general, the weights of positive words are positive, and the more positive the model believes the word is, the bigger the weight is assigned to the word; in contrast, the weights of negative words are negative, and the more negative the model believes the word is, the smaller the weight is assigned to the word."
   ]
  },
  {
   "cell_type": "markdown",
   "metadata": {},
   "source": [
    "### g.)  What weight is given to the word ‘the’? Is this a sensible value? Why or why not? "
   ]
  },
  {
   "cell_type": "code",
   "execution_count": 60,
   "metadata": {},
   "outputs": [
    {
     "name": "stdout",
     "output_type": "stream",
     "text": [
      "The weight of 'the' is: 0.0004981206396748277\n"
     ]
    }
   ],
   "source": [
    "weight_the = weights[weights['index']=='the']['value'][0]\n",
    "\n",
    "print(\"The weight of 'the' is:\", weight_the)"
   ]
  },
  {
   "cell_type": "markdown",
   "metadata": {},
   "source": [
    "Yes this weight is sensible. The weight of **'The'** should be close to 0 since it is a stop word that doesn't add positive or negative meaning to a sentence. "
   ]
  },
  {
   "cell_type": "markdown",
   "metadata": {},
   "source": [
    "### h.) Describe what you would do to improve this model, and why it would help."
   ]
  },
  {
   "cell_type": "markdown",
   "metadata": {},
   "source": [
    "1. Text manipulation techniques to improve the model, such as removing punctuation, symbol and capitalization, or removing stop words (such as 'the', 'and', 'of', 'it'). The reason is because the model uses L2 norm which means there will be a weight assigned to a corresponding word, no matter how neutral the word is. Thus removing the stop words will make it easier for the model to identify the most meaningful words and reduce the number of false positives or false negatives which in turn improves the accuracy of the model. Additionaly, removing the punctuation, symbol and capitalization will reduce the complexity to process the sentences as well as the features that the model needs to learn. "
   ]
  },
  {
   "cell_type": "markdown",
   "metadata": {},
   "source": [
    "2. Adjusting hyperparamters such as L1 and L2 and iterations to improve the model to a better model."
   ]
  },
  {
   "cell_type": "markdown",
   "metadata": {},
   "source": [
    "3. Splitting the data into training, testing, validation sets to give the model a better set of parameters for finding a solution. "
   ]
  }
 ],
 "metadata": {
  "kernelspec": {
   "display_name": "Python 3 (ipykernel)",
   "language": "python",
   "name": "python3"
  },
  "language_info": {
   "codemirror_mode": {
    "name": "ipython",
    "version": 3
   },
   "file_extension": ".py",
   "mimetype": "text/x-python",
   "name": "python",
   "nbconvert_exporter": "python",
   "pygments_lexer": "ipython3",
   "version": "3.8.15"
  }
 },
 "nbformat": 4,
 "nbformat_minor": 4
}
