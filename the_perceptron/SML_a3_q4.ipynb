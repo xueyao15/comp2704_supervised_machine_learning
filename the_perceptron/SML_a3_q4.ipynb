{
 "cells": [
  {
   "cell_type": "markdown",
   "id": "11bde8f0-4e2c-49a8-b43e-e909cf085ce3",
   "metadata": {},
   "source": [
    "## Assignment - 3: The Perceptron. Question 4. "
   ]
  },
  {
   "cell_type": "code",
   "execution_count": 3,
   "id": "6f0d72b2-9c3e-48d8-9a6d-1c2088d02081",
   "metadata": {},
   "outputs": [],
   "source": [
    "import turicreate as tc\n",
    "import matplotlib.pyplot as plt\n",
    "import pandas as pd\n",
    "import numpy as np\n",
    "import utils\n",
    "import random\n",
    "random.seed(0)"
   ]
  },
  {
   "cell_type": "markdown",
   "id": "39c29168-4eb1-4ead-b33c-70c37d53ef0a",
   "metadata": {},
   "source": [
    "**4)a Which is worse for this use case, a false positive or a false negative? What\n",
    "value of ${\\beta}$ would be suitable for an $F_{\\beta}$ score?**"
   ]
  },
  {
   "cell_type": "markdown",
   "id": "ed2c77c9-714f-4f30-b9c8-7b404f694f4c",
   "metadata": {},
   "source": [
    "Positive (1): Malfunction is detected/Needs replacing.<br>\n",
    "Negative (0): No malfunction/working correctly. \n",
    "<br>False positive: The device functions properly but will be detected as failing.\n",
    "<br>False negative: The device doesn't function properly but will be tested as properly functioning. \n",
    "\n",
    "\n",
    "***worse:***<br>\n",
    "False negative is worse because it is more costly and damaging if a faulty device is detected as normal but it is in fact sending out wrong data and the algorithm is not able to identity which one. While the false positive may just cost some time to exam the device or to replace a functioning device but does not bring any damage to business. For example if the device does not work properly it could cause electrical failure for hospitals, damaged equipment for businesses and disruption to communication which is far worse than the cost of replacing a functioning one. \n",
    "\n",
    "Given that false negatives are much more expensive than false positives, we are wanting an emphasis on recall, thus β should be larger than 1. We will choose β=10."
   ]
  },
  {
   "cell_type": "markdown",
   "id": "4bd39c70-7c3c-4ec0-818c-38a127873d65",
   "metadata": {},
   "source": [
    "**4)b Load the CSV file into an SFrame named data. Print the SFrame. Split the\n",
    "data into training/validation/testing sets using 80%/10%/10% respectively.**"
   ]
  },
  {
   "cell_type": "code",
   "execution_count": 4,
   "id": "458e5af8-2d2b-4b59-9ccd-faf3db8266ca",
   "metadata": {},
   "outputs": [
    {
     "data": {
      "text/html": [
       "<pre>Finished parsing file /home/xwang111/SupervisedML/Assignment3/0352069_data.csv</pre>"
      ],
      "text/plain": [
       "Finished parsing file /home/xwang111/SupervisedML/Assignment3/0352069_data.csv"
      ]
     },
     "metadata": {},
     "output_type": "display_data"
    },
    {
     "name": "stdout",
     "output_type": "stream",
     "text": [
      "------------------------------------------------------\n",
      "Inferred types from first 100 line(s) of file as \n",
      "column_type_hints=[int,float,float,float]\n",
      "If parsing fails due to incorrect types, you can correct\n",
      "the inferred type list above and pass it to read_csv in\n",
      "the column_type_hints argument\n",
      "------------------------------------------------------\n"
     ]
    },
    {
     "data": {
      "text/html": [
       "<pre>Parsing completed. Parsed 100 lines in 0.028135 secs.</pre>"
      ],
      "text/plain": [
       "Parsing completed. Parsed 100 lines in 0.028135 secs."
      ]
     },
     "metadata": {},
     "output_type": "display_data"
    },
    {
     "data": {
      "text/html": [
       "<pre>Finished parsing file /home/xwang111/SupervisedML/Assignment3/0352069_data.csv</pre>"
      ],
      "text/plain": [
       "Finished parsing file /home/xwang111/SupervisedML/Assignment3/0352069_data.csv"
      ]
     },
     "metadata": {},
     "output_type": "display_data"
    },
    {
     "data": {
      "text/html": [
       "<pre>Parsing completed. Parsed 1000 lines in 0.02684 secs.</pre>"
      ],
      "text/plain": [
       "Parsing completed. Parsed 1000 lines in 0.02684 secs."
      ]
     },
     "metadata": {},
     "output_type": "display_data"
    },
    {
     "data": {
      "text/html": [
       "<div style=\"max-height:1000px;max-width:1500px;overflow:auto;\"><table frame=\"box\" rules=\"cols\">\n",
       "    <tr>\n",
       "        <th style=\"padding-left: 1em; padding-right: 1em; text-align: center\">Condition</th>\n",
       "        <th style=\"padding-left: 1em; padding-right: 1em; text-align: center\">Voltage</th>\n",
       "        <th style=\"padding-left: 1em; padding-right: 1em; text-align: center\">Current</th>\n",
       "        <th style=\"padding-left: 1em; padding-right: 1em; text-align: center\">Temperature</th>\n",
       "    </tr>\n",
       "    <tr>\n",
       "        <td style=\"padding-left: 1em; padding-right: 1em; text-align: center; vertical-align: top\">1</td>\n",
       "        <td style=\"padding-left: 1em; padding-right: 1em; text-align: center; vertical-align: top\">86.89224114413253</td>\n",
       "        <td style=\"padding-left: 1em; padding-right: 1em; text-align: center; vertical-align: top\">495.1450300424216</td>\n",
       "        <td style=\"padding-left: 1em; padding-right: 1em; text-align: center; vertical-align: top\">37.27819902151115</td>\n",
       "    </tr>\n",
       "    <tr>\n",
       "        <td style=\"padding-left: 1em; padding-right: 1em; text-align: center; vertical-align: top\">1</td>\n",
       "        <td style=\"padding-left: 1em; padding-right: 1em; text-align: center; vertical-align: top\">88.36353149623307</td>\n",
       "        <td style=\"padding-left: 1em; padding-right: 1em; text-align: center; vertical-align: top\">495.2937069797055</td>\n",
       "        <td style=\"padding-left: 1em; padding-right: 1em; text-align: center; vertical-align: top\">52.19576734439437</td>\n",
       "    </tr>\n",
       "    <tr>\n",
       "        <td style=\"padding-left: 1em; padding-right: 1em; text-align: center; vertical-align: top\">1</td>\n",
       "        <td style=\"padding-left: 1em; padding-right: 1em; text-align: center; vertical-align: top\">86.61140875619736</td>\n",
       "        <td style=\"padding-left: 1em; padding-right: 1em; text-align: center; vertical-align: top\">494.4959292614043</td>\n",
       "        <td style=\"padding-left: 1em; padding-right: 1em; text-align: center; vertical-align: top\">43.605841364121936</td>\n",
       "    </tr>\n",
       "    <tr>\n",
       "        <td style=\"padding-left: 1em; padding-right: 1em; text-align: center; vertical-align: top\">1</td>\n",
       "        <td style=\"padding-left: 1em; padding-right: 1em; text-align: center; vertical-align: top\">87.45407898458127</td>\n",
       "        <td style=\"padding-left: 1em; padding-right: 1em; text-align: center; vertical-align: top\">498.3686115500456</td>\n",
       "        <td style=\"padding-left: 1em; padding-right: 1em; text-align: center; vertical-align: top\">54.33669828561592</td>\n",
       "    </tr>\n",
       "    <tr>\n",
       "        <td style=\"padding-left: 1em; padding-right: 1em; text-align: center; vertical-align: top\">1</td>\n",
       "        <td style=\"padding-left: 1em; padding-right: 1em; text-align: center; vertical-align: top\">88.11532138867328</td>\n",
       "        <td style=\"padding-left: 1em; padding-right: 1em; text-align: center; vertical-align: top\">498.5967646562975</td>\n",
       "        <td style=\"padding-left: 1em; padding-right: 1em; text-align: center; vertical-align: top\">46.92865069045365</td>\n",
       "    </tr>\n",
       "    <tr>\n",
       "        <td style=\"padding-left: 1em; padding-right: 1em; text-align: center; vertical-align: top\">1</td>\n",
       "        <td style=\"padding-left: 1em; padding-right: 1em; text-align: center; vertical-align: top\">86.81101357030884</td>\n",
       "        <td style=\"padding-left: 1em; padding-right: 1em; text-align: center; vertical-align: top\">496.5428204045944</td>\n",
       "        <td style=\"padding-left: 1em; padding-right: 1em; text-align: center; vertical-align: top\">37.406933724237554</td>\n",
       "    </tr>\n",
       "    <tr>\n",
       "        <td style=\"padding-left: 1em; padding-right: 1em; text-align: center; vertical-align: top\">1</td>\n",
       "        <td style=\"padding-left: 1em; padding-right: 1em; text-align: center; vertical-align: top\">85.29526777535187</td>\n",
       "        <td style=\"padding-left: 1em; padding-right: 1em; text-align: center; vertical-align: top\">494.9136091334592</td>\n",
       "        <td style=\"padding-left: 1em; padding-right: 1em; text-align: center; vertical-align: top\">33.023586757504894</td>\n",
       "    </tr>\n",
       "    <tr>\n",
       "        <td style=\"padding-left: 1em; padding-right: 1em; text-align: center; vertical-align: top\">1</td>\n",
       "        <td style=\"padding-left: 1em; padding-right: 1em; text-align: center; vertical-align: top\">87.00410897286201</td>\n",
       "        <td style=\"padding-left: 1em; padding-right: 1em; text-align: center; vertical-align: top\">497.0345989843793</td>\n",
       "        <td style=\"padding-left: 1em; padding-right: 1em; text-align: center; vertical-align: top\">53.51165165119777</td>\n",
       "    </tr>\n",
       "    <tr>\n",
       "        <td style=\"padding-left: 1em; padding-right: 1em; text-align: center; vertical-align: top\">1</td>\n",
       "        <td style=\"padding-left: 1em; padding-right: 1em; text-align: center; vertical-align: top\">85.58801851781692</td>\n",
       "        <td style=\"padding-left: 1em; padding-right: 1em; text-align: center; vertical-align: top\">494.2663265159045</td>\n",
       "        <td style=\"padding-left: 1em; padding-right: 1em; text-align: center; vertical-align: top\">34.76402133414627</td>\n",
       "    </tr>\n",
       "    <tr>\n",
       "        <td style=\"padding-left: 1em; padding-right: 1em; text-align: center; vertical-align: top\">1</td>\n",
       "        <td style=\"padding-left: 1em; padding-right: 1em; text-align: center; vertical-align: top\">87.59104211014439</td>\n",
       "        <td style=\"padding-left: 1em; padding-right: 1em; text-align: center; vertical-align: top\">497.71702723332584</td>\n",
       "        <td style=\"padding-left: 1em; padding-right: 1em; text-align: center; vertical-align: top\">37.899530399861014</td>\n",
       "    </tr>\n",
       "</table>\n",
       "[1000 rows x 4 columns]<br/>Note: Only the head of the SFrame is printed.<br/>You can use print_rows(num_rows=m, num_columns=n) to print more rows and columns.\n",
       "</div>"
      ],
      "text/plain": [
       "Columns:\n",
       "\tCondition\tint\n",
       "\tVoltage\tfloat\n",
       "\tCurrent\tfloat\n",
       "\tTemperature\tfloat\n",
       "\n",
       "Rows: 1000\n",
       "\n",
       "Data:\n",
       "+-----------+-------------------+--------------------+--------------------+\n",
       "| Condition |      Voltage      |      Current       |    Temperature     |\n",
       "+-----------+-------------------+--------------------+--------------------+\n",
       "|     1     | 86.89224114413253 | 495.1450300424216  | 37.27819902151115  |\n",
       "|     1     | 88.36353149623307 | 495.2937069797055  | 52.19576734439437  |\n",
       "|     1     | 86.61140875619736 | 494.4959292614043  | 43.605841364121936 |\n",
       "|     1     | 87.45407898458127 | 498.3686115500456  | 54.33669828561592  |\n",
       "|     1     | 88.11532138867328 | 498.5967646562975  | 46.92865069045365  |\n",
       "|     1     | 86.81101357030884 | 496.5428204045944  | 37.406933724237554 |\n",
       "|     1     | 85.29526777535187 | 494.9136091334592  | 33.023586757504894 |\n",
       "|     1     | 87.00410897286201 | 497.0345989843793  | 53.51165165119777  |\n",
       "|     1     | 85.58801851781692 | 494.2663265159045  | 34.76402133414627  |\n",
       "|     1     | 87.59104211014439 | 497.71702723332584 | 37.899530399861014 |\n",
       "+-----------+-------------------+--------------------+--------------------+\n",
       "[1000 rows x 4 columns]\n",
       "Note: Only the head of the SFrame is printed.\n",
       "You can use print_rows(num_rows=m, num_columns=n) to print more rows and columns."
      ]
     },
     "execution_count": 4,
     "metadata": {},
     "output_type": "execute_result"
    }
   ],
   "source": [
    "# Reading the csv file into jupyter.\n",
    "data = tc.SFrame.read_csv('0352069_data.csv')\n",
    "\n",
    "# Showing the first 10 data entries in the csv file. \n",
    "data"
   ]
  },
  {
   "cell_type": "code",
   "execution_count": 5,
   "id": "79f9d1bb-fb8e-4aa9-87d5-c9e0218d37fd",
   "metadata": {},
   "outputs": [],
   "source": [
    "# split the dataset into training set and another set for validation and testing\n",
    "# training (80%) / total (100%) = 0.8\n",
    "training, validation_testing = data.random_split(.8, seed=0, exact=True)"
   ]
  },
  {
   "cell_type": "code",
   "execution_count": 6,
   "id": "72b2ee7e-463d-4b76-83c6-fb058ea33468",
   "metadata": {},
   "outputs": [
    {
     "name": "stdout",
     "output_type": "stream",
     "text": [
      "Length of training set: 800\n"
     ]
    }
   ],
   "source": [
    "# check the length of training set\n",
    "print(\"Length of training set:\", len(training))"
   ]
  },
  {
   "cell_type": "code",
   "execution_count": 7,
   "id": "5c9949a3-7fb1-4202-b64a-2071a735a538",
   "metadata": {},
   "outputs": [],
   "source": [
    "# equally split the validation and testing set into validation and testing\n",
    "# validation (10%) / validation_test (20%) = 0.5\n",
    "validation, testing = validation_testing.random_split(.5, seed=0, exact=True)"
   ]
  },
  {
   "cell_type": "code",
   "execution_count": 8,
   "id": "faa1090a-e579-45f9-aa97-c27bcd5a9923",
   "metadata": {},
   "outputs": [
    {
     "name": "stdout",
     "output_type": "stream",
     "text": [
      "Length of validation set: 100\n",
      "Length of testing set: 100\n"
     ]
    }
   ],
   "source": [
    "# check the length of validation set\n",
    "print(\"Length of validation set:\", len(validation))\n",
    "\n",
    "# check the length of testing set\n",
    "print(\"Length of testing set:\", len(testing))"
   ]
  },
  {
   "cell_type": "markdown",
   "id": "61060268-696b-4864-82bb-97ce4c1f1843",
   "metadata": {},
   "source": [
    "**4)c Is feature rescaling turned on by default for the function\n",
    "turicreate.logistic_classifier.create? What scale are the coefficients given in?**"
   ]
  },
  {
   "cell_type": "markdown",
   "id": "1d1a39ef-3db1-4260-b0de-88ec60f5990c",
   "metadata": {},
   "source": [
    "According to Turi Create documentaion: <br> \"Feature rescaling is an important pre-processing step that ensures that all features are on the same scale. An l2-norm rescaling is performed to make sure that all features are of the same norm. Categorical features are also rescaled by rescaling the dummy variables that are used to represent them. The coefficients are returned in original scale of the problem. This process is particularly useful when features vary widely in their ranges.\""
   ]
  },
  {
   "cell_type": "markdown",
   "id": "becfa85f-f561-4952-985c-8d58088a7bbe",
   "metadata": {},
   "source": [
    "The feature rescaling is turned on by default. Turi Create automatically scales the features to have mean of 0 and standard deviation 1, before fitting the model to avoid features with large magnitudes to dominate the regularization term.\n",
    "<br>The coefficients returned by the turicreate.logistic_classifier.create function are in the original scale of the input features, regardless of whether the feature_rescaling parameter is set to True or False. Only in the trainng process, if the parameter 'feature_reascaling' is set to 'True', the input features will be rescaled before fitting the model, and the coefficients will be scaled accordingly."
   ]
  },
  {
   "cell_type": "markdown",
   "id": "930cf38e-591d-47e5-971d-6b3c9f37de59",
   "metadata": {},
   "source": [
    "**4)d Create perceptrons using Turicreate to classify data with ‘Condition’ as\n",
    "the target. Be sure to use your validation set in the training. Experiment with\n",
    "different values of hyperparameters to develop two different models.**"
   ]
  },
  {
   "cell_type": "markdown",
   "id": "34e29ce6-35bc-40b8-962d-a10fdd459631",
   "metadata": {},
   "source": [
    "Hyperparameters for Model 1:<br>1. l1 penalty=0.01<br>2. l2 penalty=0.01<br>3. feature rescaling=False<br>4. convergence threshold=0.01<br>5. solver='fista'"
   ]
  },
  {
   "cell_type": "code",
   "execution_count": 9,
   "id": "ee90faf9-665b-47c4-9bb2-45c1ae5fd113",
   "metadata": {},
   "outputs": [
    {
     "data": {
      "text/html": [
       "<pre>Logistic regression:</pre>"
      ],
      "text/plain": [
       "Logistic regression:"
      ]
     },
     "metadata": {},
     "output_type": "display_data"
    },
    {
     "data": {
      "text/html": [
       "<pre>--------------------------------------------------------</pre>"
      ],
      "text/plain": [
       "--------------------------------------------------------"
      ]
     },
     "metadata": {},
     "output_type": "display_data"
    },
    {
     "data": {
      "text/html": [
       "<pre>Number of examples          : 800</pre>"
      ],
      "text/plain": [
       "Number of examples          : 800"
      ]
     },
     "metadata": {},
     "output_type": "display_data"
    },
    {
     "data": {
      "text/html": [
       "<pre>Number of classes           : 2</pre>"
      ],
      "text/plain": [
       "Number of classes           : 2"
      ]
     },
     "metadata": {},
     "output_type": "display_data"
    },
    {
     "data": {
      "text/html": [
       "<pre>Number of feature columns   : 3</pre>"
      ],
      "text/plain": [
       "Number of feature columns   : 3"
      ]
     },
     "metadata": {},
     "output_type": "display_data"
    },
    {
     "data": {
      "text/html": [
       "<pre>Number of unpacked features : 3</pre>"
      ],
      "text/plain": [
       "Number of unpacked features : 3"
      ]
     },
     "metadata": {},
     "output_type": "display_data"
    },
    {
     "data": {
      "text/html": [
       "<pre>Number of coefficients      : 4</pre>"
      ],
      "text/plain": [
       "Number of coefficients      : 4"
      ]
     },
     "metadata": {},
     "output_type": "display_data"
    },
    {
     "data": {
      "text/html": [
       "<pre>Starting Accelerated Gradient (FISTA)</pre>"
      ],
      "text/plain": [
       "Starting Accelerated Gradient (FISTA)"
      ]
     },
     "metadata": {},
     "output_type": "display_data"
    },
    {
     "data": {
      "text/html": [
       "<pre>--------------------------------------------------------</pre>"
      ],
      "text/plain": [
       "--------------------------------------------------------"
      ]
     },
     "metadata": {},
     "output_type": "display_data"
    },
    {
     "data": {
      "text/html": [
       "<pre>Tuning step size. First iteration could take longer than subsequent iterations.</pre>"
      ],
      "text/plain": [
       "Tuning step size. First iteration could take longer than subsequent iterations."
      ]
     },
     "metadata": {},
     "output_type": "display_data"
    },
    {
     "data": {
      "text/html": [
       "<pre>+-----------+----------+-----------+--------------+-------------------+---------------------+</pre>"
      ],
      "text/plain": [
       "+-----------+----------+-----------+--------------+-------------------+---------------------+"
      ]
     },
     "metadata": {},
     "output_type": "display_data"
    },
    {
     "data": {
      "text/html": [
       "<pre>| Iteration | Passes   | Step size | Elapsed Time | Training Accuracy | Validation Accuracy |</pre>"
      ],
      "text/plain": [
       "| Iteration | Passes   | Step size | Elapsed Time | Training Accuracy | Validation Accuracy |"
      ]
     },
     "metadata": {},
     "output_type": "display_data"
    },
    {
     "data": {
      "text/html": [
       "<pre>+-----------+----------+-----------+--------------+-------------------+---------------------+</pre>"
      ],
      "text/plain": [
       "+-----------+----------+-----------+--------------+-------------------+---------------------+"
      ]
     },
     "metadata": {},
     "output_type": "display_data"
    },
    {
     "data": {
      "text/html": [
       "<pre>| 0         | 1        | 1.000000  | 1.001470     | 0.493750          | 0.500000            |</pre>"
      ],
      "text/plain": [
       "| 0         | 1        | 1.000000  | 1.001470     | 0.493750          | 0.500000            |"
      ]
     },
     "metadata": {},
     "output_type": "display_data"
    },
    {
     "data": {
      "text/html": [
       "<pre>| 1         | 2        | 0.000000  | 1.031770     | 0.506250          | 0.500000            |</pre>"
      ],
      "text/plain": [
       "| 1         | 2        | 0.000000  | 1.031770     | 0.506250          | 0.500000            |"
      ]
     },
     "metadata": {},
     "output_type": "display_data"
    },
    {
     "data": {
      "text/html": [
       "<pre>+-----------+----------+-----------+--------------+-------------------+---------------------+</pre>"
      ],
      "text/plain": [
       "+-----------+----------+-----------+--------------+-------------------+---------------------+"
      ]
     },
     "metadata": {},
     "output_type": "display_data"
    },
    {
     "data": {
      "text/html": [
       "<pre>SUCCESS: Optimal solution found.</pre>"
      ],
      "text/plain": [
       "SUCCESS: Optimal solution found."
      ]
     },
     "metadata": {},
     "output_type": "display_data"
    },
    {
     "data": {
      "text/html": [
       "<pre></pre>"
      ],
      "text/plain": []
     },
     "metadata": {},
     "output_type": "display_data"
    }
   ],
   "source": [
    "# Define our first model perceptron 1 using hyperparameters: L1 = 0.01, L2 = 0.01, Feature scaling: False. \n",
    "perceptron_1 = tc.logistic_classifier.create(training, target='Condition'\n",
    "                                             , l1_penalty=0.01, l2_penalty=0.01\n",
    "                                             , feature_rescaling=False, validation_set=validation\n",
    "                                             , convergence_threshold=0.01\n",
    "                                             , solver='fista', seed=0)"
   ]
  },
  {
   "cell_type": "markdown",
   "id": "9617e146-b9cc-49ae-acf7-70c62a2eddeb",
   "metadata": {},
   "source": [
    "Hyperparameters for Model 2:<br>1. l1 penalty=0.0<br>2. l2 penalty=0.0<br>3. feature rescaling=True<br>4. convergence threshold=0.01<br>5. solver='newton'"
   ]
  },
  {
   "cell_type": "code",
   "execution_count": 10,
   "id": "0fe577b0-91c7-4ee7-b008-3284571f2036",
   "metadata": {},
   "outputs": [
    {
     "data": {
      "text/html": [
       "<pre>Logistic regression:</pre>"
      ],
      "text/plain": [
       "Logistic regression:"
      ]
     },
     "metadata": {},
     "output_type": "display_data"
    },
    {
     "data": {
      "text/html": [
       "<pre>--------------------------------------------------------</pre>"
      ],
      "text/plain": [
       "--------------------------------------------------------"
      ]
     },
     "metadata": {},
     "output_type": "display_data"
    },
    {
     "data": {
      "text/html": [
       "<pre>Number of examples          : 800</pre>"
      ],
      "text/plain": [
       "Number of examples          : 800"
      ]
     },
     "metadata": {},
     "output_type": "display_data"
    },
    {
     "data": {
      "text/html": [
       "<pre>Number of classes           : 2</pre>"
      ],
      "text/plain": [
       "Number of classes           : 2"
      ]
     },
     "metadata": {},
     "output_type": "display_data"
    },
    {
     "data": {
      "text/html": [
       "<pre>Number of feature columns   : 3</pre>"
      ],
      "text/plain": [
       "Number of feature columns   : 3"
      ]
     },
     "metadata": {},
     "output_type": "display_data"
    },
    {
     "data": {
      "text/html": [
       "<pre>Number of unpacked features : 3</pre>"
      ],
      "text/plain": [
       "Number of unpacked features : 3"
      ]
     },
     "metadata": {},
     "output_type": "display_data"
    },
    {
     "data": {
      "text/html": [
       "<pre>Number of coefficients      : 4</pre>"
      ],
      "text/plain": [
       "Number of coefficients      : 4"
      ]
     },
     "metadata": {},
     "output_type": "display_data"
    },
    {
     "data": {
      "text/html": [
       "<pre>Starting Newton Method</pre>"
      ],
      "text/plain": [
       "Starting Newton Method"
      ]
     },
     "metadata": {},
     "output_type": "display_data"
    },
    {
     "data": {
      "text/html": [
       "<pre>--------------------------------------------------------</pre>"
      ],
      "text/plain": [
       "--------------------------------------------------------"
      ]
     },
     "metadata": {},
     "output_type": "display_data"
    },
    {
     "data": {
      "text/html": [
       "<pre>+-----------+----------+--------------+-------------------+---------------------+</pre>"
      ],
      "text/plain": [
       "+-----------+----------+--------------+-------------------+---------------------+"
      ]
     },
     "metadata": {},
     "output_type": "display_data"
    },
    {
     "data": {
      "text/html": [
       "<pre>| Iteration | Passes   | Elapsed Time | Training Accuracy | Validation Accuracy |</pre>"
      ],
      "text/plain": [
       "| Iteration | Passes   | Elapsed Time | Training Accuracy | Validation Accuracy |"
      ]
     },
     "metadata": {},
     "output_type": "display_data"
    },
    {
     "data": {
      "text/html": [
       "<pre>+-----------+----------+--------------+-------------------+---------------------+</pre>"
      ],
      "text/plain": [
       "+-----------+----------+--------------+-------------------+---------------------+"
      ]
     },
     "metadata": {},
     "output_type": "display_data"
    },
    {
     "data": {
      "text/html": [
       "<pre>| 1         | 2        | 0.001301     | 0.887500          | 0.850000            |</pre>"
      ],
      "text/plain": [
       "| 1         | 2        | 0.001301     | 0.887500          | 0.850000            |"
      ]
     },
     "metadata": {},
     "output_type": "display_data"
    },
    {
     "data": {
      "text/html": [
       "<pre>| 2         | 3        | 0.003702     | 0.887500          | 0.850000            |</pre>"
      ],
      "text/plain": [
       "| 2         | 3        | 0.003702     | 0.887500          | 0.850000            |"
      ]
     },
     "metadata": {},
     "output_type": "display_data"
    },
    {
     "data": {
      "text/html": [
       "<pre>| 3         | 4        | 0.005905     | 0.887500          | 0.850000            |</pre>"
      ],
      "text/plain": [
       "| 3         | 4        | 0.005905     | 0.887500          | 0.850000            |"
      ]
     },
     "metadata": {},
     "output_type": "display_data"
    },
    {
     "data": {
      "text/html": [
       "<pre>| 4         | 5        | 0.008617     | 0.887500          | 0.850000            |</pre>"
      ],
      "text/plain": [
       "| 4         | 5        | 0.008617     | 0.887500          | 0.850000            |"
      ]
     },
     "metadata": {},
     "output_type": "display_data"
    },
    {
     "data": {
      "text/html": [
       "<pre>+-----------+----------+--------------+-------------------+---------------------+</pre>"
      ],
      "text/plain": [
       "+-----------+----------+--------------+-------------------+---------------------+"
      ]
     },
     "metadata": {},
     "output_type": "display_data"
    },
    {
     "data": {
      "text/html": [
       "<pre>SUCCESS: Optimal solution found.</pre>"
      ],
      "text/plain": [
       "SUCCESS: Optimal solution found."
      ]
     },
     "metadata": {},
     "output_type": "display_data"
    },
    {
     "data": {
      "text/html": [
       "<pre></pre>"
      ],
      "text/plain": []
     },
     "metadata": {},
     "output_type": "display_data"
    }
   ],
   "source": [
    "# Define our second model perceptron 2 using hyperparameters: L1 = 0.0, L2 = 0.0, Feature scaling: True.\n",
    "perceptron_2 = tc.logistic_classifier.create(training, target='Condition'\n",
    "                                             , l1_penalty=0.0, l2_penalty=0.0\n",
    "                                             , feature_rescaling=True, validation_set=validation\n",
    "                                             , convergence_threshold=0.01\n",
    "                                             , solver='newton', seed=0)"
   ]
  },
  {
   "cell_type": "markdown",
   "id": "a67b11db-8a7f-4fe4-b362-0fb1b6563ed8",
   "metadata": {},
   "source": [
    "After experimenting on different hyperparameters, we found that the hyperparameter that makes a big difference between models here is the feature rescaling, while other hyperparamters just show differences of how quick a model can reach an optimal solution. "
   ]
  },
  {
   "cell_type": "markdown",
   "id": "466f44ed-12d8-4716-bb5b-ccd53be511b5",
   "metadata": {},
   "source": [
    "**4)e i) find predictions using the testing set;**"
   ]
  },
  {
   "cell_type": "code",
   "execution_count": 11,
   "id": "6638077c-6d11-4215-93a1-5fa40efd7b32",
   "metadata": {
    "tags": []
   },
   "outputs": [
    {
     "data": {
      "text/html": [
       "<html lang=\"en\">                                                     <head>                                                               <style>                                                              .sframe {                                                            font-size: 12px;                                                   font-family: HelveticaNeue;                                        border: 1px solid silver;                                        }                                                                  .sframe thead th {                                                   background: #F7F7F7;                                               font-family: HelveticaNeue-Medium;                                 font-size: 14px;                                                   line-height: 16.8px;                                               padding-top: 16px;                                                 padding-bottom: 16px;                                              padding-left: 10px;                                                padding-right: 38px;                                               border-top: 1px solid #E9E9E9;                                     border-bottom: 1px solid #E9E9E9;                                  white-space: nowrap;                                               overflow: hidden;                                                  text-overflow:ellipsis;                                            text-align:center;                                                 font-weight:normal;                                              }                                                                  .sframe tbody th {                                                   background: #FFFFFF;                                               text-align:left;                                                   font-weight:normal;                                                border-right: 1px solid #E9E9E9;                                 }                                                                  .sframe td {                                                         background: #FFFFFF;                                               padding-left: 10px;                                                padding-right: 38px;                                               padding-top: 14px;                                                 padding-bottom: 14px;                                              border-bottom: 1px solid #E9E9E9;                                  max-height: 0px;                                                   transition: max-height 5s ease-out;                                vertical-align: middle;                                            font-family: HelveticaNeue;                                        font-size: 12px;                                                   line-height: 16.8px;                                               background: #FFFFFF;                                             }                                                                  .sframe tr {                                                         padding-left: 10px;                                                padding-right: 38px;                                               padding-top: 14px;                                                 padding-bottom: 14px;                                              border-bottom: 1px solid #E9E9E9;                                  max-height: 0px;                                                   transition: max-height 5s ease-out;                                vertical-align: middle;                                            font-family: HelveticaNeue;                                        font-size: 12px;                                                   line-height: 16.8px;                                               background: #FFFFFF;                                             }                                                                  .sframe tr:hover {                                                   background: silver;                                              },                                                               </style>                                                         </head>                                                            <body>                                                               <h1> Prediction </h1>                                             <table border=\"1\" class=\"dataframe sframe\">\n",
       "  <thead>\n",
       "    <tr style=\"text-align: right;\">\n",
       "      <th></th>\n",
       "      <th>Label</th>\n",
       "      <th>Prediction1</th>\n",
       "      <th>Prediction2</th>\n",
       "    </tr>\n",
       "  </thead>\n",
       "  <tbody>\n",
       "    <tr>\n",
       "      <th>0</th>\n",
       "      <td>1</td>\n",
       "      <td>0</td>\n",
       "      <td>1</td>\n",
       "    </tr>\n",
       "    <tr>\n",
       "      <th>1</th>\n",
       "      <td>1</td>\n",
       "      <td>0</td>\n",
       "      <td>1</td>\n",
       "    </tr>\n",
       "    <tr>\n",
       "      <th>2</th>\n",
       "      <td>0</td>\n",
       "      <td>0</td>\n",
       "      <td>1</td>\n",
       "    </tr>\n",
       "    <tr>\n",
       "      <th>3</th>\n",
       "      <td>0</td>\n",
       "      <td>0</td>\n",
       "      <td>1</td>\n",
       "    </tr>\n",
       "    <tr>\n",
       "      <th>4</th>\n",
       "      <td>1</td>\n",
       "      <td>0</td>\n",
       "      <td>1</td>\n",
       "    </tr>\n",
       "    <tr>\n",
       "      <th>5</th>\n",
       "      <td>1</td>\n",
       "      <td>0</td>\n",
       "      <td>1</td>\n",
       "    </tr>\n",
       "    <tr>\n",
       "      <th>6</th>\n",
       "      <td>1</td>\n",
       "      <td>0</td>\n",
       "      <td>1</td>\n",
       "    </tr>\n",
       "    <tr>\n",
       "      <th>7</th>\n",
       "      <td>0</td>\n",
       "      <td>0</td>\n",
       "      <td>1</td>\n",
       "    </tr>\n",
       "    <tr>\n",
       "      <th>8</th>\n",
       "      <td>1</td>\n",
       "      <td>0</td>\n",
       "      <td>1</td>\n",
       "    </tr>\n",
       "    <tr>\n",
       "      <th>9</th>\n",
       "      <td>1</td>\n",
       "      <td>0</td>\n",
       "      <td>1</td>\n",
       "    </tr>\n",
       "    <tr>\n",
       "      <th>10</th>\n",
       "      <td>1</td>\n",
       "      <td>0</td>\n",
       "      <td>1</td>\n",
       "    </tr>\n",
       "    <tr>\n",
       "      <th>11</th>\n",
       "      <td>1</td>\n",
       "      <td>0</td>\n",
       "      <td>1</td>\n",
       "    </tr>\n",
       "    <tr>\n",
       "      <th>12</th>\n",
       "      <td>1</td>\n",
       "      <td>0</td>\n",
       "      <td>1</td>\n",
       "    </tr>\n",
       "    <tr>\n",
       "      <th>13</th>\n",
       "      <td>0</td>\n",
       "      <td>0</td>\n",
       "      <td>1</td>\n",
       "    </tr>\n",
       "    <tr>\n",
       "      <th>14</th>\n",
       "      <td>1</td>\n",
       "      <td>0</td>\n",
       "      <td>1</td>\n",
       "    </tr>\n",
       "    <tr>\n",
       "      <th>15</th>\n",
       "      <td>1</td>\n",
       "      <td>0</td>\n",
       "      <td>1</td>\n",
       "    </tr>\n",
       "    <tr>\n",
       "      <th>16</th>\n",
       "      <td>1</td>\n",
       "      <td>0</td>\n",
       "      <td>1</td>\n",
       "    </tr>\n",
       "    <tr>\n",
       "      <th>17</th>\n",
       "      <td>1</td>\n",
       "      <td>0</td>\n",
       "      <td>1</td>\n",
       "    </tr>\n",
       "    <tr>\n",
       "      <th>18</th>\n",
       "      <td>1</td>\n",
       "      <td>0</td>\n",
       "      <td>1</td>\n",
       "    </tr>\n",
       "    <tr>\n",
       "      <th>19</th>\n",
       "      <td>0</td>\n",
       "      <td>0</td>\n",
       "      <td>1</td>\n",
       "    </tr>\n",
       "    <tr>\n",
       "      <th>20</th>\n",
       "      <td>1</td>\n",
       "      <td>0</td>\n",
       "      <td>1</td>\n",
       "    </tr>\n",
       "    <tr>\n",
       "      <th>21</th>\n",
       "      <td>0</td>\n",
       "      <td>0</td>\n",
       "      <td>1</td>\n",
       "    </tr>\n",
       "    <tr>\n",
       "      <th>22</th>\n",
       "      <td>1</td>\n",
       "      <td>0</td>\n",
       "      <td>1</td>\n",
       "    </tr>\n",
       "    <tr>\n",
       "      <th>23</th>\n",
       "      <td>1</td>\n",
       "      <td>0</td>\n",
       "      <td>1</td>\n",
       "    </tr>\n",
       "    <tr>\n",
       "      <th>24</th>\n",
       "      <td>1</td>\n",
       "      <td>0</td>\n",
       "      <td>1</td>\n",
       "    </tr>\n",
       "    <tr>\n",
       "      <th>25</th>\n",
       "      <td>1</td>\n",
       "      <td>0</td>\n",
       "      <td>1</td>\n",
       "    </tr>\n",
       "    <tr>\n",
       "      <th>26</th>\n",
       "      <td>1</td>\n",
       "      <td>0</td>\n",
       "      <td>1</td>\n",
       "    </tr>\n",
       "    <tr>\n",
       "      <th>27</th>\n",
       "      <td>1</td>\n",
       "      <td>0</td>\n",
       "      <td>1</td>\n",
       "    </tr>\n",
       "    <tr>\n",
       "      <th>28</th>\n",
       "      <td>1</td>\n",
       "      <td>0</td>\n",
       "      <td>1</td>\n",
       "    </tr>\n",
       "    <tr>\n",
       "      <th>29</th>\n",
       "      <td>1</td>\n",
       "      <td>0</td>\n",
       "      <td>1</td>\n",
       "    </tr>\n",
       "    <tr>\n",
       "      <th>30</th>\n",
       "      <td>1</td>\n",
       "      <td>0</td>\n",
       "      <td>1</td>\n",
       "    </tr>\n",
       "    <tr>\n",
       "      <th>31</th>\n",
       "      <td>1</td>\n",
       "      <td>0</td>\n",
       "      <td>1</td>\n",
       "    </tr>\n",
       "    <tr>\n",
       "      <th>32</th>\n",
       "      <td>1</td>\n",
       "      <td>0</td>\n",
       "      <td>1</td>\n",
       "    </tr>\n",
       "    <tr>\n",
       "      <th>33</th>\n",
       "      <td>1</td>\n",
       "      <td>0</td>\n",
       "      <td>1</td>\n",
       "    </tr>\n",
       "    <tr>\n",
       "      <th>34</th>\n",
       "      <td>1</td>\n",
       "      <td>0</td>\n",
       "      <td>1</td>\n",
       "    </tr>\n",
       "    <tr>\n",
       "      <th>35</th>\n",
       "      <td>1</td>\n",
       "      <td>0</td>\n",
       "      <td>1</td>\n",
       "    </tr>\n",
       "    <tr>\n",
       "      <th>36</th>\n",
       "      <td>1</td>\n",
       "      <td>0</td>\n",
       "      <td>1</td>\n",
       "    </tr>\n",
       "    <tr>\n",
       "      <th>37</th>\n",
       "      <td>1</td>\n",
       "      <td>0</td>\n",
       "      <td>1</td>\n",
       "    </tr>\n",
       "    <tr>\n",
       "      <th>38</th>\n",
       "      <td>0</td>\n",
       "      <td>0</td>\n",
       "      <td>1</td>\n",
       "    </tr>\n",
       "    <tr>\n",
       "      <th>39</th>\n",
       "      <td>1</td>\n",
       "      <td>0</td>\n",
       "      <td>1</td>\n",
       "    </tr>\n",
       "    <tr>\n",
       "      <th>40</th>\n",
       "      <td>1</td>\n",
       "      <td>0</td>\n",
       "      <td>1</td>\n",
       "    </tr>\n",
       "    <tr>\n",
       "      <th>41</th>\n",
       "      <td>1</td>\n",
       "      <td>0</td>\n",
       "      <td>1</td>\n",
       "    </tr>\n",
       "    <tr>\n",
       "      <th>42</th>\n",
       "      <td>1</td>\n",
       "      <td>0</td>\n",
       "      <td>1</td>\n",
       "    </tr>\n",
       "    <tr>\n",
       "      <th>43</th>\n",
       "      <td>1</td>\n",
       "      <td>0</td>\n",
       "      <td>1</td>\n",
       "    </tr>\n",
       "    <tr>\n",
       "      <th>44</th>\n",
       "      <td>0</td>\n",
       "      <td>0</td>\n",
       "      <td>1</td>\n",
       "    </tr>\n",
       "    <tr>\n",
       "      <th>45</th>\n",
       "      <td>1</td>\n",
       "      <td>0</td>\n",
       "      <td>1</td>\n",
       "    </tr>\n",
       "    <tr>\n",
       "      <th>46</th>\n",
       "      <td>1</td>\n",
       "      <td>0</td>\n",
       "      <td>1</td>\n",
       "    </tr>\n",
       "    <tr>\n",
       "      <th>47</th>\n",
       "      <td>1</td>\n",
       "      <td>0</td>\n",
       "      <td>1</td>\n",
       "    </tr>\n",
       "    <tr>\n",
       "      <th>48</th>\n",
       "      <td>1</td>\n",
       "      <td>0</td>\n",
       "      <td>1</td>\n",
       "    </tr>\n",
       "    <tr>\n",
       "      <th>49</th>\n",
       "      <td>1</td>\n",
       "      <td>0</td>\n",
       "      <td>1</td>\n",
       "    </tr>\n",
       "    <tr>\n",
       "      <th>50</th>\n",
       "      <td>1</td>\n",
       "      <td>0</td>\n",
       "      <td>1</td>\n",
       "    </tr>\n",
       "    <tr>\n",
       "      <th>51</th>\n",
       "      <td>1</td>\n",
       "      <td>0</td>\n",
       "      <td>1</td>\n",
       "    </tr>\n",
       "    <tr>\n",
       "      <th>52</th>\n",
       "      <td>0</td>\n",
       "      <td>0</td>\n",
       "      <td>0</td>\n",
       "    </tr>\n",
       "    <tr>\n",
       "      <th>53</th>\n",
       "      <td>0</td>\n",
       "      <td>0</td>\n",
       "      <td>0</td>\n",
       "    </tr>\n",
       "    <tr>\n",
       "      <th>54</th>\n",
       "      <td>0</td>\n",
       "      <td>0</td>\n",
       "      <td>0</td>\n",
       "    </tr>\n",
       "    <tr>\n",
       "      <th>55</th>\n",
       "      <td>0</td>\n",
       "      <td>0</td>\n",
       "      <td>0</td>\n",
       "    </tr>\n",
       "    <tr>\n",
       "      <th>56</th>\n",
       "      <td>0</td>\n",
       "      <td>0</td>\n",
       "      <td>0</td>\n",
       "    </tr>\n",
       "    <tr>\n",
       "      <th>57</th>\n",
       "      <td>0</td>\n",
       "      <td>0</td>\n",
       "      <td>0</td>\n",
       "    </tr>\n",
       "    <tr>\n",
       "      <th>58</th>\n",
       "      <td>0</td>\n",
       "      <td>0</td>\n",
       "      <td>0</td>\n",
       "    </tr>\n",
       "    <tr>\n",
       "      <th>59</th>\n",
       "      <td>0</td>\n",
       "      <td>0</td>\n",
       "      <td>0</td>\n",
       "    </tr>\n",
       "    <tr>\n",
       "      <th>60</th>\n",
       "      <td>1</td>\n",
       "      <td>0</td>\n",
       "      <td>0</td>\n",
       "    </tr>\n",
       "    <tr>\n",
       "      <th>61</th>\n",
       "      <td>1</td>\n",
       "      <td>0</td>\n",
       "      <td>0</td>\n",
       "    </tr>\n",
       "    <tr>\n",
       "      <th>62</th>\n",
       "      <td>0</td>\n",
       "      <td>0</td>\n",
       "      <td>0</td>\n",
       "    </tr>\n",
       "    <tr>\n",
       "      <th>63</th>\n",
       "      <td>0</td>\n",
       "      <td>0</td>\n",
       "      <td>0</td>\n",
       "    </tr>\n",
       "    <tr>\n",
       "      <th>64</th>\n",
       "      <td>0</td>\n",
       "      <td>0</td>\n",
       "      <td>0</td>\n",
       "    </tr>\n",
       "    <tr>\n",
       "      <th>65</th>\n",
       "      <td>0</td>\n",
       "      <td>0</td>\n",
       "      <td>0</td>\n",
       "    </tr>\n",
       "    <tr>\n",
       "      <th>66</th>\n",
       "      <td>0</td>\n",
       "      <td>0</td>\n",
       "      <td>0</td>\n",
       "    </tr>\n",
       "    <tr>\n",
       "      <th>67</th>\n",
       "      <td>0</td>\n",
       "      <td>0</td>\n",
       "      <td>0</td>\n",
       "    </tr>\n",
       "    <tr>\n",
       "      <th>68</th>\n",
       "      <td>0</td>\n",
       "      <td>0</td>\n",
       "      <td>0</td>\n",
       "    </tr>\n",
       "    <tr>\n",
       "      <th>69</th>\n",
       "      <td>0</td>\n",
       "      <td>0</td>\n",
       "      <td>0</td>\n",
       "    </tr>\n",
       "    <tr>\n",
       "      <th>70</th>\n",
       "      <td>0</td>\n",
       "      <td>0</td>\n",
       "      <td>0</td>\n",
       "    </tr>\n",
       "    <tr>\n",
       "      <th>71</th>\n",
       "      <td>0</td>\n",
       "      <td>0</td>\n",
       "      <td>0</td>\n",
       "    </tr>\n",
       "    <tr>\n",
       "      <th>72</th>\n",
       "      <td>0</td>\n",
       "      <td>0</td>\n",
       "      <td>0</td>\n",
       "    </tr>\n",
       "    <tr>\n",
       "      <th>73</th>\n",
       "      <td>0</td>\n",
       "      <td>0</td>\n",
       "      <td>0</td>\n",
       "    </tr>\n",
       "    <tr>\n",
       "      <th>74</th>\n",
       "      <td>0</td>\n",
       "      <td>0</td>\n",
       "      <td>0</td>\n",
       "    </tr>\n",
       "    <tr>\n",
       "      <th>75</th>\n",
       "      <td>0</td>\n",
       "      <td>0</td>\n",
       "      <td>0</td>\n",
       "    </tr>\n",
       "    <tr>\n",
       "      <th>76</th>\n",
       "      <td>0</td>\n",
       "      <td>0</td>\n",
       "      <td>0</td>\n",
       "    </tr>\n",
       "    <tr>\n",
       "      <th>77</th>\n",
       "      <td>0</td>\n",
       "      <td>0</td>\n",
       "      <td>0</td>\n",
       "    </tr>\n",
       "    <tr>\n",
       "      <th>78</th>\n",
       "      <td>0</td>\n",
       "      <td>0</td>\n",
       "      <td>0</td>\n",
       "    </tr>\n",
       "    <tr>\n",
       "      <th>79</th>\n",
       "      <td>0</td>\n",
       "      <td>0</td>\n",
       "      <td>0</td>\n",
       "    </tr>\n",
       "    <tr>\n",
       "      <th>80</th>\n",
       "      <td>0</td>\n",
       "      <td>0</td>\n",
       "      <td>0</td>\n",
       "    </tr>\n",
       "    <tr>\n",
       "      <th>81</th>\n",
       "      <td>0</td>\n",
       "      <td>0</td>\n",
       "      <td>0</td>\n",
       "    </tr>\n",
       "    <tr>\n",
       "      <th>82</th>\n",
       "      <td>0</td>\n",
       "      <td>0</td>\n",
       "      <td>0</td>\n",
       "    </tr>\n",
       "    <tr>\n",
       "      <th>83</th>\n",
       "      <td>0</td>\n",
       "      <td>0</td>\n",
       "      <td>0</td>\n",
       "    </tr>\n",
       "    <tr>\n",
       "      <th>84</th>\n",
       "      <td>0</td>\n",
       "      <td>0</td>\n",
       "      <td>0</td>\n",
       "    </tr>\n",
       "    <tr>\n",
       "      <th>85</th>\n",
       "      <td>0</td>\n",
       "      <td>0</td>\n",
       "      <td>0</td>\n",
       "    </tr>\n",
       "    <tr>\n",
       "      <th>86</th>\n",
       "      <td>0</td>\n",
       "      <td>0</td>\n",
       "      <td>0</td>\n",
       "    </tr>\n",
       "    <tr>\n",
       "      <th>87</th>\n",
       "      <td>0</td>\n",
       "      <td>0</td>\n",
       "      <td>0</td>\n",
       "    </tr>\n",
       "    <tr>\n",
       "      <th>88</th>\n",
       "      <td>0</td>\n",
       "      <td>0</td>\n",
       "      <td>0</td>\n",
       "    </tr>\n",
       "    <tr>\n",
       "      <th>89</th>\n",
       "      <td>0</td>\n",
       "      <td>0</td>\n",
       "      <td>0</td>\n",
       "    </tr>\n",
       "    <tr>\n",
       "      <th>90</th>\n",
       "      <td>0</td>\n",
       "      <td>0</td>\n",
       "      <td>0</td>\n",
       "    </tr>\n",
       "    <tr>\n",
       "      <th>91</th>\n",
       "      <td>1</td>\n",
       "      <td>0</td>\n",
       "      <td>0</td>\n",
       "    </tr>\n",
       "    <tr>\n",
       "      <th>92</th>\n",
       "      <td>0</td>\n",
       "      <td>0</td>\n",
       "      <td>0</td>\n",
       "    </tr>\n",
       "    <tr>\n",
       "      <th>93</th>\n",
       "      <td>0</td>\n",
       "      <td>0</td>\n",
       "      <td>0</td>\n",
       "    </tr>\n",
       "    <tr>\n",
       "      <th>94</th>\n",
       "      <td>0</td>\n",
       "      <td>0</td>\n",
       "      <td>0</td>\n",
       "    </tr>\n",
       "    <tr>\n",
       "      <th>95</th>\n",
       "      <td>0</td>\n",
       "      <td>0</td>\n",
       "      <td>0</td>\n",
       "    </tr>\n",
       "    <tr>\n",
       "      <th>96</th>\n",
       "      <td>0</td>\n",
       "      <td>0</td>\n",
       "      <td>0</td>\n",
       "    </tr>\n",
       "    <tr>\n",
       "      <th>97</th>\n",
       "      <td>0</td>\n",
       "      <td>0</td>\n",
       "      <td>0</td>\n",
       "    </tr>\n",
       "    <tr>\n",
       "      <th>98</th>\n",
       "      <td>0</td>\n",
       "      <td>0</td>\n",
       "      <td>0</td>\n",
       "    </tr>\n",
       "    <tr>\n",
       "      <th>99</th>\n",
       "      <td>0</td>\n",
       "      <td>0</td>\n",
       "      <td>0</td>\n",
       "    </tr>\n",
       "  </tbody>\n",
       "</table>                          </body>                                                          </html>"
      ],
      "text/plain": [
       "<IPython.core.display.HTML object>"
      ]
     },
     "metadata": {},
     "output_type": "display_data"
    }
   ],
   "source": [
    "# Define predictions for first model using the testing set. \n",
    "prediction_1 = perceptron_1.predict(testing)\n",
    "\n",
    "# Define predictions for second model using the testing set.\n",
    "prediction_2 = perceptron_2.predict(testing)\n",
    "\n",
    "# Create a dictionary to view the predicitons from the testing set.\n",
    "prediction_dict = {'Prediction1':prediction_1, 'Prediction2':prediction_2, 'Label':testing['Condition']}\n",
    "\n",
    "# Turning the dictionary into a data frame. \n",
    "sf = tc.SFrame(prediction_dict)\n",
    "\n",
    "# Showing the predicitons of both models relative the labels. \n",
    "sf.explore('Prediction')"
   ]
  },
  {
   "cell_type": "markdown",
   "id": "98ddeb04-0281-4175-a3a5-101f1ca532a9",
   "metadata": {},
   "source": [
    "**4)e ii) display the training/validation/testing accuracy;**"
   ]
  },
  {
   "cell_type": "code",
   "execution_count": 12,
   "id": "500f9f15-b4ed-43d3-8081-4421f69313ee",
   "metadata": {},
   "outputs": [
    {
     "name": "stdout",
     "output_type": "stream",
     "text": [
      "Training set of Perceptron_1 accuracy: 0.50625\n",
      "Testing set of Perceptron_1 accuracy: 0.53\n",
      "Validation set of Perceptron_1 accuracy: 0.5 \n",
      "\n",
      "Training set of of Perceptron_2 accuracy: 0.8875\n",
      "Testing set of Perceptron_2 accuracy: 0.89\n",
      "Validation set of Perceptron_2 accuracy: 0.85\n"
     ]
    }
   ],
   "source": [
    "# Showing the accuracy in training, testing, validation. \n",
    "# Model 1: \n",
    "print('Training set of Perceptron_1 accuracy:', perceptron_1.evaluate(training)['accuracy'])\n",
    "print('Testing set of Perceptron_1 accuracy:', perceptron_1.evaluate(testing)['accuracy'])\n",
    "print('Validation set of Perceptron_1 accuracy:', perceptron_1.evaluate(validation)['accuracy'], \"\\n\")\n",
    "\n",
    "# Model 2: \n",
    "print('Training set of of Perceptron_2 accuracy:', perceptron_2.evaluate(training)['accuracy'])\n",
    "print('Testing set of Perceptron_2 accuracy:', perceptron_2.evaluate(testing)['accuracy'])\n",
    "print('Validation set of Perceptron_2 accuracy:', perceptron_2.evaluate(validation)['accuracy'])"
   ]
  },
  {
   "cell_type": "markdown",
   "id": "c425f364-b4a8-4cba-b8ef-a60a96158a96",
   "metadata": {},
   "source": [
    "We've included some $3D$ plots of the two models. Blue is a correct prediction and yellow is an incorrect prediciton. "
   ]
  },
  {
   "cell_type": "code",
   "execution_count": 13,
   "id": "dd5317f0-3796-4c81-881c-0fb88ec5225e",
   "metadata": {},
   "outputs": [
    {
     "data": {
      "image/png": "[encoded data removed]",
      "text/plain": [
       "<Figure size 800x600 with 1 Axes>"
      ]
     },
     "metadata": {},
     "output_type": "display_data"
    }
   ],
   "source": [
    "# Plot the model for perceptron 1. \n",
    "fig = plt.figure(figsize = (8,6))\n",
    "\n",
    "# set the ax to 3D porjection\n",
    "ax = plt.axes(projection='3d')\n",
    "\n",
    "# name the title\n",
    "ax.set_title('Model 1')\n",
    "\n",
    "# name the x axis\n",
    "ax.set_xlabel('Voltage')\n",
    "\n",
    "# name the y axis\n",
    "ax.set_ylabel('Current')\n",
    "\n",
    "# name the z axis\n",
    "ax.set_zlabel('Temperature')\n",
    "\n",
    "# Test to see how many were correctly predicted. \n",
    "condition_t = training['Condition']\n",
    "\n",
    "# Set prediciton variable for perceptron 1. \n",
    "prediction_t_1 = perceptron_1.predict(training)\n",
    "\n",
    "# Need to run through the points to check conditions. \n",
    "for i in range(len(condition_t)):\n",
    "    \n",
    "    # Testing to see if prediciton is accurate and colour blue. \n",
    "    if condition_t[i] == prediction_t_1[i]:\n",
    "        ax.scatter(training['Voltage'][i], training['Current'][i], training['Temperature'][i], s=10, c='blue', marker='.')\n",
    "   \n",
    "    # If condition is not accurate it will colour yellow.     \n",
    "    else:\n",
    "        ax.scatter(training['Voltage'][i], training['Current'][i], training['Temperature'][i], s=10, c='yellow', marker='.')\n",
    "\n",
    "# Graph the plot. \n",
    "plt.show()"
   ]
  },
  {
   "cell_type": "code",
   "execution_count": 14,
   "id": "4461e5fe-56f0-40b0-a350-94767536ee3b",
   "metadata": {},
   "outputs": [
    {
     "data": {
      "image/png": "[encoded data removed]",
      "text/plain": [
       "<Figure size 800x600 with 1 Axes>"
      ]
     },
     "metadata": {},
     "output_type": "display_data"
    }
   ],
   "source": [
    "# Plot the model for perceptron 1. \n",
    "fig = plt.figure(figsize = (8,6))\n",
    "\n",
    "# set the ax to 3D porjection\n",
    "ax = plt.axes(projection='3d')\n",
    "\n",
    "# name the title\n",
    "ax.set_title('Model 2')\n",
    "\n",
    "# name the x axis\n",
    "ax.set_xlabel('Voltage')\n",
    "\n",
    "# name the y axis\n",
    "ax.set_ylabel('Current')\n",
    "\n",
    "# name the z axis\n",
    "ax.set_zlabel('Temperature')\n",
    "\n",
    "# Test to see how many were correctly predicted. \n",
    "condition_t = training['Condition']\n",
    "\n",
    "# Set prediciton variable for perceptron 2. \n",
    "prediction_t_2 = perceptron_2.predict(training)\n",
    "\n",
    "# Need to run through the points to check conditions. \n",
    "for i in range(len(condition_t)):\n",
    "    \n",
    "    # Testing to see if prediciton is accurate and colour blue. \n",
    "    if condition_t[i] == prediction_t_2[i]:\n",
    "        ax.scatter(training['Voltage'][i], training['Current'][i], training['Temperature'][i], s=10, c='blue', marker='.')\n",
    "   \n",
    "    # If condition is not accurate it will colour yellow.     \n",
    "    else:\n",
    "        ax.scatter(training['Voltage'][i], training['Current'][i], training['Temperature'][i], s=10, c='yellow', marker='.')\n",
    "\n",
    "# Graph the plot. \n",
    "plt.show()"
   ]
  },
  {
   "cell_type": "markdown",
   "id": "b97d05a7-d6f8-4f10-b4dd-61e5955c3568",
   "metadata": {},
   "source": [
    "**4)e iii) display the confusion matrix on the testing set;**"
   ]
  },
  {
   "cell_type": "code",
   "execution_count": 15,
   "id": "26d495ac-3bf1-481c-8f86-b98cf000a02e",
   "metadata": {},
   "outputs": [
    {
     "data": {
      "text/html": [
       "<div style=\"max-height:1000px;max-width:1500px;overflow:auto;\"><table frame=\"box\" rules=\"cols\">\n",
       "    <tr>\n",
       "        <th style=\"padding-left: 1em; padding-right: 1em; text-align: center\">target_label</th>\n",
       "        <th style=\"padding-left: 1em; padding-right: 1em; text-align: center\">predicted_label</th>\n",
       "        <th style=\"padding-left: 1em; padding-right: 1em; text-align: center\">count</th>\n",
       "    </tr>\n",
       "    <tr>\n",
       "        <td style=\"padding-left: 1em; padding-right: 1em; text-align: center; vertical-align: top\">0</td>\n",
       "        <td style=\"padding-left: 1em; padding-right: 1em; text-align: center; vertical-align: top\">0</td>\n",
       "        <td style=\"padding-left: 1em; padding-right: 1em; text-align: center; vertical-align: top\">53</td>\n",
       "    </tr>\n",
       "    <tr>\n",
       "        <td style=\"padding-left: 1em; padding-right: 1em; text-align: center; vertical-align: top\">1</td>\n",
       "        <td style=\"padding-left: 1em; padding-right: 1em; text-align: center; vertical-align: top\">0</td>\n",
       "        <td style=\"padding-left: 1em; padding-right: 1em; text-align: center; vertical-align: top\">47</td>\n",
       "    </tr>\n",
       "</table>\n",
       "[2 rows x 3 columns]<br/>\n",
       "</div>"
      ],
      "text/plain": [
       "Columns:\n",
       "\ttarget_label\tint\n",
       "\tpredicted_label\tint\n",
       "\tcount\tint\n",
       "\n",
       "Rows: 2\n",
       "\n",
       "Data:\n",
       "+--------------+-----------------+-------+\n",
       "| target_label | predicted_label | count |\n",
       "+--------------+-----------------+-------+\n",
       "|      0       |        0        |   53  |\n",
       "|      1       |        0        |   47  |\n",
       "+--------------+-----------------+-------+\n",
       "[2 rows x 3 columns]"
      ]
     },
     "execution_count": 15,
     "metadata": {},
     "output_type": "execute_result"
    }
   ],
   "source": [
    "# Showing confusion matrix to find the count of correct and incorrect gueses. \n",
    "# Model 1. \n",
    "cm_1 = perceptron_1.evaluate(testing)['confusion_matrix']\n",
    "\n",
    "# Show the matrix.\n",
    "cm_1"
   ]
  },
  {
   "cell_type": "code",
   "execution_count": 16,
   "id": "b90a79e3-a8b5-4fbc-8375-96f908b4f7a4",
   "metadata": {},
   "outputs": [
    {
     "data": {
      "text/html": [
       "<div style=\"max-height:1000px;max-width:1500px;overflow:auto;\"><table frame=\"box\" rules=\"cols\">\n",
       "    <tr>\n",
       "        <th style=\"padding-left: 1em; padding-right: 1em; text-align: center\">target_label</th>\n",
       "        <th style=\"padding-left: 1em; padding-right: 1em; text-align: center\">predicted_label</th>\n",
       "        <th style=\"padding-left: 1em; padding-right: 1em; text-align: center\">count</th>\n",
       "    </tr>\n",
       "    <tr>\n",
       "        <td style=\"padding-left: 1em; padding-right: 1em; text-align: center; vertical-align: top\">0</td>\n",
       "        <td style=\"padding-left: 1em; padding-right: 1em; text-align: center; vertical-align: top\">1</td>\n",
       "        <td style=\"padding-left: 1em; padding-right: 1em; text-align: center; vertical-align: top\">8</td>\n",
       "    </tr>\n",
       "    <tr>\n",
       "        <td style=\"padding-left: 1em; padding-right: 1em; text-align: center; vertical-align: top\">1</td>\n",
       "        <td style=\"padding-left: 1em; padding-right: 1em; text-align: center; vertical-align: top\">1</td>\n",
       "        <td style=\"padding-left: 1em; padding-right: 1em; text-align: center; vertical-align: top\">44</td>\n",
       "    </tr>\n",
       "    <tr>\n",
       "        <td style=\"padding-left: 1em; padding-right: 1em; text-align: center; vertical-align: top\">0</td>\n",
       "        <td style=\"padding-left: 1em; padding-right: 1em; text-align: center; vertical-align: top\">0</td>\n",
       "        <td style=\"padding-left: 1em; padding-right: 1em; text-align: center; vertical-align: top\">45</td>\n",
       "    </tr>\n",
       "    <tr>\n",
       "        <td style=\"padding-left: 1em; padding-right: 1em; text-align: center; vertical-align: top\">1</td>\n",
       "        <td style=\"padding-left: 1em; padding-right: 1em; text-align: center; vertical-align: top\">0</td>\n",
       "        <td style=\"padding-left: 1em; padding-right: 1em; text-align: center; vertical-align: top\">3</td>\n",
       "    </tr>\n",
       "</table>\n",
       "[4 rows x 3 columns]<br/>\n",
       "</div>"
      ],
      "text/plain": [
       "Columns:\n",
       "\ttarget_label\tint\n",
       "\tpredicted_label\tint\n",
       "\tcount\tint\n",
       "\n",
       "Rows: 4\n",
       "\n",
       "Data:\n",
       "+--------------+-----------------+-------+\n",
       "| target_label | predicted_label | count |\n",
       "+--------------+-----------------+-------+\n",
       "|      0       |        1        |   8   |\n",
       "|      1       |        1        |   44  |\n",
       "|      0       |        0        |   45  |\n",
       "|      1       |        0        |   3   |\n",
       "+--------------+-----------------+-------+\n",
       "[4 rows x 3 columns]"
      ]
     },
     "execution_count": 16,
     "metadata": {},
     "output_type": "execute_result"
    }
   ],
   "source": [
    "# Showing confusion matrix for model 2.\n",
    "cm_2 = perceptron_2.evaluate(testing)['confusion_matrix']\n",
    "\n",
    "# Show the matrix. \n",
    "cm_2"
   ]
  },
  {
   "cell_type": "code",
   "execution_count": 17,
   "id": "902d6367-e2f8-4698-afb3-6d31705deb79",
   "metadata": {
    "tags": []
   },
   "outputs": [
    {
     "data": {
      "text/html": [
       "<div style=\"max-height:1000px;max-width:1500px;overflow:auto;\"><table frame=\"box\" rules=\"cols\">\n",
       "    <tr>\n",
       "        <th style=\"padding-left: 1em; padding-right: 1em; text-align: center\">Detected failure</th>\n",
       "        <th style=\"padding-left: 1em; padding-right: 1em; text-align: center\">Detected success</th>\n",
       "        <th style=\"padding-left: 1em; padding-right: 1em; text-align: center\">Model 1</th>\n",
       "    </tr>\n",
       "    <tr>\n",
       "        <td style=\"padding-left: 1em; padding-right: 1em; text-align: center; vertical-align: top\">0</td>\n",
       "        <td style=\"padding-left: 1em; padding-right: 1em; text-align: center; vertical-align: top\">47</td>\n",
       "        <td style=\"padding-left: 1em; padding-right: 1em; text-align: center; vertical-align: top\">Failure</td>\n",
       "    </tr>\n",
       "    <tr>\n",
       "        <td style=\"padding-left: 1em; padding-right: 1em; text-align: center; vertical-align: top\">0</td>\n",
       "        <td style=\"padding-left: 1em; padding-right: 1em; text-align: center; vertical-align: top\">53</td>\n",
       "        <td style=\"padding-left: 1em; padding-right: 1em; text-align: center; vertical-align: top\">Success</td>\n",
       "    </tr>\n",
       "</table>\n",
       "[2 rows x 3 columns]<br/>\n",
       "</div>"
      ],
      "text/plain": [
       "Columns:\n",
       "\tDetected failure\tint\n",
       "\tDetected success\tint\n",
       "\tModel 1\tstr\n",
       "\n",
       "Rows: 2\n",
       "\n",
       "Data:\n",
       "+------------------+------------------+---------+\n",
       "| Detected failure | Detected success | Model 1 |\n",
       "+------------------+------------------+---------+\n",
       "|        0         |        47        | Failure |\n",
       "|        0         |        53        | Success |\n",
       "+------------------+------------------+---------+\n",
       "[2 rows x 3 columns]"
      ]
     },
     "execution_count": 17,
     "metadata": {},
     "output_type": "execute_result"
    }
   ],
   "source": [
    "# Creating a dictionary for model 1 and its success/failure.\n",
    "datadict_1 = {'Model 1': ['Failure','Success'], 'Detected failure':[0, 0], 'Detected success':[cm_1['count'][1],cm_1['count'][0]]}\n",
    "\n",
    "# Turning it into a data frame. \n",
    "dt_1 = tc.SFrame(datadict_1)\n",
    "\n",
    "# Showing the data frame. \n",
    "dt_1"
   ]
  },
  {
   "cell_type": "code",
   "execution_count": 18,
   "id": "7df605ef-f3ab-4ce7-b5ff-c83bcd4a7e2b",
   "metadata": {},
   "outputs": [
    {
     "data": {
      "text/html": [
       "<div style=\"max-height:1000px;max-width:1500px;overflow:auto;\"><table frame=\"box\" rules=\"cols\">\n",
       "    <tr>\n",
       "        <th style=\"padding-left: 1em; padding-right: 1em; text-align: center\">Detected failure</th>\n",
       "        <th style=\"padding-left: 1em; padding-right: 1em; text-align: center\">Detected success</th>\n",
       "        <th style=\"padding-left: 1em; padding-right: 1em; text-align: center\">Model 2</th>\n",
       "    </tr>\n",
       "    <tr>\n",
       "        <td style=\"padding-left: 1em; padding-right: 1em; text-align: center; vertical-align: top\">44</td>\n",
       "        <td style=\"padding-left: 1em; padding-right: 1em; text-align: center; vertical-align: top\">3</td>\n",
       "        <td style=\"padding-left: 1em; padding-right: 1em; text-align: center; vertical-align: top\">Failure</td>\n",
       "    </tr>\n",
       "    <tr>\n",
       "        <td style=\"padding-left: 1em; padding-right: 1em; text-align: center; vertical-align: top\">8</td>\n",
       "        <td style=\"padding-left: 1em; padding-right: 1em; text-align: center; vertical-align: top\">45</td>\n",
       "        <td style=\"padding-left: 1em; padding-right: 1em; text-align: center; vertical-align: top\">Success</td>\n",
       "    </tr>\n",
       "</table>\n",
       "[2 rows x 3 columns]<br/>\n",
       "</div>"
      ],
      "text/plain": [
       "Columns:\n",
       "\tDetected failure\tint\n",
       "\tDetected success\tint\n",
       "\tModel 2\tstr\n",
       "\n",
       "Rows: 2\n",
       "\n",
       "Data:\n",
       "+------------------+------------------+---------+\n",
       "| Detected failure | Detected success | Model 2 |\n",
       "+------------------+------------------+---------+\n",
       "|        44        |        3         | Failure |\n",
       "|        8         |        45        | Success |\n",
       "+------------------+------------------+---------+\n",
       "[2 rows x 3 columns]"
      ]
     },
     "execution_count": 18,
     "metadata": {},
     "output_type": "execute_result"
    }
   ],
   "source": [
    "# Creating a dictionary for model 2 and its success/failure. \n",
    "datadict_2 = {'Model 2': ['Failure','Success'], 'Detected failure':[cm_2['count'][1],cm_2['count'][0]], 'Detected success':[cm_2['count'][3],cm_2['count'][2]]}\n",
    "\n",
    "# Turning it into a data frame. \n",
    "dt_2 = tc.SFrame(datadict_2)\n",
    "\n",
    "# Showing the data framne. \n",
    "dt_2"
   ]
  },
  {
   "cell_type": "markdown",
   "id": "643c85d3-da1b-4e87-bb1b-e6f1619cb0c2",
   "metadata": {},
   "source": [
    "**4)e iv) calculate recall, precision, sensitivity and specificity on the testing set;**"
   ]
  },
  {
   "cell_type": "markdown",
   "id": "fea4431d-4970-4c41-b62c-05f40126f250",
   "metadata": {},
   "source": [
    "**Model 1  ;  Model 2** <br>\n",
    "$TP = 0 ; \\quad TP = 44$\n",
    "\n",
    "$FP = 0 ; \\quad FP = 8$\n",
    "\n",
    "$TN = 53 ; \\quad TN = 45$\n",
    "\n",
    "$FN = 47 ; \\quad FN = 3$"
   ]
  },
  {
   "cell_type": "markdown",
   "id": "ebfb382c-4c76-47ca-b8bc-498732971996",
   "metadata": {},
   "source": [
    "**Model 1:** <br><br>\n",
    "*Recall* =  $\\frac{TP}{TP+FN} = \\frac{0}{0+47} = 0.00\\%$<br><br>\n",
    "*Precision* = $\\frac{TP}{TP+FP} = \\frac{0}{0+0}$ is undefined, by convention a model that has no false positves has precision $100.00\\%$<br><br>\n",
    "*Sensitivity* = *Recall* = $0.00\\%$<br><br>\n",
    "*Specificity* = $\\frac{TN}{TN+FP} = \\frac{53}{53+0} = 100.00\\%$ <br><br>\n",
    "\n",
    "**Model 2:** <br><br>\n",
    "*Recall* =  $\\frac{TP}{TP+FN} = \\frac{44}{44+3} = 93.62\\%$<br><br>\n",
    "*Precision* = $\\frac{TP}{TP+FP} = \\frac{44}{44+8} = 84.62\\%$<br><br>\n",
    "*Sensitivity* = *Recall* = $93.62\\%$<br><br>\n",
    "*Specificity* = $\\frac{TN}{TN+FP} = \\frac{45}{45+8} = 84.91\\%$"
   ]
  },
  {
   "cell_type": "code",
   "execution_count": 19,
   "id": "95948a4f-fcfa-43c3-a772-3491b4360972",
   "metadata": {},
   "outputs": [
    {
     "data": {
      "text/plain": [
       "{'accuracy': 0.89,\n",
       " 'auc': 0.9154957848253711,\n",
       " 'confusion_matrix': Columns:\n",
       " \ttarget_label\tint\n",
       " \tpredicted_label\tint\n",
       " \tcount\tint\n",
       " \n",
       " Rows: 4\n",
       " \n",
       " Data:\n",
       " +--------------+-----------------+-------+\n",
       " | target_label | predicted_label | count |\n",
       " +--------------+-----------------+-------+\n",
       " |      0       |        1        |   8   |\n",
       " |      1       |        1        |   44  |\n",
       " |      0       |        0        |   45  |\n",
       " |      1       |        0        |   3   |\n",
       " +--------------+-----------------+-------+\n",
       " [4 rows x 3 columns],\n",
       " 'f1_score': 0.8888888888888888,\n",
       " 'log_loss': 0.33862262439697616,\n",
       " 'precision': 0.8461538461538461,\n",
       " 'recall': 0.9361702127659575,\n",
       " 'roc_curve': Columns:\n",
       " \tthreshold\tfloat\n",
       " \tfpr\tfloat\n",
       " \ttpr\tfloat\n",
       " \tp\tint\n",
       " \tn\tint\n",
       " \n",
       " Rows: 1001\n",
       " \n",
       " Data:\n",
       " +-----------+-----+-----+----+----+\n",
       " | threshold | fpr | tpr | p  | n  |\n",
       " +-----------+-----+-----+----+----+\n",
       " |    0.0    | 1.0 | 1.0 | 47 | 53 |\n",
       " |   0.001   | 1.0 | 1.0 | 47 | 53 |\n",
       " |   0.002   | 1.0 | 1.0 | 47 | 53 |\n",
       " |   0.003   | 1.0 | 1.0 | 47 | 53 |\n",
       " |   0.004   | 1.0 | 1.0 | 47 | 53 |\n",
       " |   0.005   | 1.0 | 1.0 | 47 | 53 |\n",
       " |   0.006   | 1.0 | 1.0 | 47 | 53 |\n",
       " |   0.007   | 1.0 | 1.0 | 47 | 53 |\n",
       " |   0.008   | 1.0 | 1.0 | 47 | 53 |\n",
       " |   0.009   | 1.0 | 1.0 | 47 | 53 |\n",
       " +-----------+-----+-----+----+----+\n",
       " [1001 rows x 5 columns]\n",
       " Note: Only the head of the SFrame is printed.\n",
       " You can use print_rows(num_rows=m, num_columns=n) to print more rows and columns.}"
      ]
     },
     "execution_count": 19,
     "metadata": {},
     "output_type": "execute_result"
    }
   ],
   "source": [
    "perceptron_2.evaluate(testing)"
   ]
  },
  {
   "cell_type": "markdown",
   "id": "704c5772-0dd8-4dfc-97cf-23355c2a7424",
   "metadata": {},
   "source": [
    "**4)e v) calculate the $F_{\\beta}$ score on the testing set using the value of ${\\beta}$ you chose above.**"
   ]
  },
  {
   "cell_type": "code",
   "execution_count": 20,
   "id": "dc2921b3-369f-4f6e-9827-9893d9885f59",
   "metadata": {},
   "outputs": [],
   "source": [
    "# Define the f-score function. Pass beta, precision, recall.  \n",
    "def fbeta(beta, precision, recall): \n",
    "    \n",
    "    # Input the formula for F beta score. \n",
    "    score = ((1+beta**2) * precision * recall) / (beta**2 * precision + recall)\n",
    "    \n",
    "    # Return the F beta score. \n",
    "    return score "
   ]
  },
  {
   "cell_type": "code",
   "execution_count": 21,
   "id": "4a38de85-cd36-47ba-a499-31e4ca7b29a3",
   "metadata": {},
   "outputs": [
    {
     "data": {
      "text/plain": [
       "0.8470061931145743"
      ]
     },
     "execution_count": 21,
     "metadata": {},
     "output_type": "execute_result"
    }
   ],
   "source": [
    "# Calculate F beta for beta = 0.1. \n",
    "fbeta(0.1, 0.8462, 0.9362)"
   ]
  },
  {
   "cell_type": "code",
   "execution_count": 22,
   "id": "2bb2e4c2-3689-474a-80c1-37bcf9c39f6e",
   "metadata": {},
   "outputs": [
    {
     "data": {
      "text/plain": [
       "0.8889277827648115"
      ]
     },
     "execution_count": 22,
     "metadata": {},
     "output_type": "execute_result"
    }
   ],
   "source": [
    "# Calculate F beta for beta = 1. \n",
    "fbeta(1, 0.8462, 0.9362)"
   ]
  },
  {
   "cell_type": "code",
   "execution_count": 23,
   "id": "5d9c9d99-d194-4ae5-b2f8-eb5bcc638911",
   "metadata": {},
   "outputs": [
    {
     "data": {
      "text/plain": [
       "0.9352151736519388"
      ]
     },
     "execution_count": 23,
     "metadata": {},
     "output_type": "execute_result"
    }
   ],
   "source": [
    "# Calculate F beta for beta = 10. \n",
    "fbeta(10, 0.8462, 0.9362)"
   ]
  },
  {
   "cell_type": "markdown",
   "id": "06ccd778-d1ca-4c27-9726-bfad6fefdf6b",
   "metadata": {},
   "source": [
    "# **The $F_{\\beta}$ formula.**<br> \n",
    "Where, precision = $P$, recall = $R$ <br>\n",
    "$P, R>=0, {\\beta}>0$ <br><br>\n",
    "$F_{\\beta}(P, R) = \\frac{(1+\\beta^2)PR}{\\beta^2P+R}$ <br><br> **Model 1:** <br> <br>\n",
    "$F_{\\beta} = 0$ for all ${\\beta}\\in [0, \\infty)$ <br> Since $R=0$, $P{\\ne0}$ <br><br> **Model 2:** <br> <br>\n",
    "$F_{\\beta} = \\frac{(1+\\beta^2)*0.9362*.8462}{\\beta^2 * 0.8462+0.9362}$ <br> <br>\n",
    "for $\\beta = 0.1,  1,  10$ <br> \n",
    "$F_{0.1} = 0.8470 ; \\quad F_1 = 0.8889 ; \\quad F_{10} = 0.9352$<br><br> \n",
    "If we want to minimize false negatives, we need ${\\beta}>>1$.  \n",
    "Choose ${\\beta}= 10$ since for ${\\beta}>>1$ , $F_{\\beta}\\rightarrow P$. <br>\n",
    "Thus our $F_{\\beta} = 0.9352$."
   ]
  },
  {
   "cell_type": "markdown",
   "id": "e40e247a-5363-45b4-92d2-8c683801a7e4",
   "metadata": {},
   "source": [
    "**4)f Select which of your two models is the best (or declare a tie) and justify\n",
    "your choice.**"
   ]
  },
  {
   "cell_type": "markdown",
   "id": "f9d7efe1-bd09-4ce3-ba9c-8d824826c7d9",
   "metadata": {},
   "source": [
    "It is clear that the **Model 2 (second perceptron)** is better overall for our use case. Model 1 that cannot detect any faulty sensors is for sure not a good model. It is not surprising given that model 1 was always prediciting negatives and hence was never predicting faulty sensors to replace in the sub-station use case after we shut down the feature rescaling function. By examing the dataset in the csv file, we found the dispersity of data range is very wide and the unregulated features in model 1 will result in features (e.g.current in our case) with large magnitudes dominating the regularization, thus the cluster with small magnitude features will never get touched. Futhermore, we placed a higher emphasis on false negatives  (faulty sensors detected as normal) which means we need a high recall model. The model 2 achieved a recall of 93.62%, which is higher than the precision of 84.62%, but not demonstrate a big gap. This model is the best because you have a higher chance to find most of the faulty sensors in the sub station. "
   ]
  },
  {
   "cell_type": "markdown",
   "id": "9c65ada8-90c0-4abc-9d6c-246078a4ca03",
   "metadata": {},
   "source": [
    "We also tried out different models with various hyperparameters such as l1_penalty, l2_penalty, convergence_threshold, solver, but the accuracy can't be improved any better and stays the same around 0.85. We tried to find out the answer by examing the 3D graphs. From the two above graphs, we see clusters of points with both conditions present in each cluster set, meaning the faulty preditions (yellow) and right predictions (blue) are mixed together in both clusters. It is not easy for a plane to separate two classes thoroughly. This tells us that our model may not reach 100% accuracy, but it is still the best model we can achieve here."
   ]
  },
  {
   "cell_type": "code",
   "execution_count": null,
   "id": "e4473e48-3d76-4fa0-8fb2-071a183c2231",
   "metadata": {},
   "outputs": [],
   "source": []
  }
 ],
 "metadata": {
  "kernelspec": {
   "display_name": "Python 3 (ipykernel)",
   "language": "python",
   "name": "python3"
  },
  "language_info": {
   "codemirror_mode": {
    "name": "ipython",
    "version": 3
   },
   "file_extension": ".py",
   "mimetype": "text/x-python",
   "name": "python",
   "nbconvert_exporter": "python",
   "pygments_lexer": "ipython3",
   "version": "3.8.15"
  }
 },
 "nbformat": 4,
 "nbformat_minor": 5
}
